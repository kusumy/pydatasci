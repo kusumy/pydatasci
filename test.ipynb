{
 "cells": [
  {
   "cell_type": "code",
   "execution_count": 1,
   "metadata": {},
   "outputs": [
    {
     "name": "stderr",
     "output_type": "stream",
     "text": [
      "/Users/layne/.pyenv/versions/3.7.6/envs/jupyterlab/lib/python3.7/site-packages/pandas/compat/__init__.py:120: UserWarning: Could not import the lzma module. Your installed Python is incomplete. Attempting to use lzma compression will result in a RuntimeError.\n",
      "  warnings.warn(msg)\n"
     ]
    }
   ],
   "source": [
    "import pydatasci as pds\n",
    "from pydatasci import aidb\n",
    "import os, sqlite3, io, gzip \n",
    "import pandas as pd\n",
    "import numpy as np"
   ]
  },
  {
   "cell_type": "code",
   "execution_count": 2,
   "metadata": {},
   "outputs": [
    {
     "name": "stdout",
     "output_type": "stream",
     "text": [
      "\n",
      "=> Success - deleted database file at path:\n",
      "/Users/layne/Library/Application Support/pydatasci/aidb.sqlite3\n",
      "\n",
      "\n",
      "=> Success - created database file for machine learning metrics at path:\n",
      "/Users/layne/Library/Application Support/pydatasci/aidb.sqlite3\n",
      "\n",
      "\n",
      "=> Success - created the following tables within database:\n",
      "['algorithm', 'dataset', 'featureset', 'job', 'label', 'splitset']\n",
      "\n"
     ]
    }
   ],
   "source": [
    "from importlib import reload; aidb.delete_db(True); reload(aidb); aidb.create_db()"
   ]
  },
  {
   "cell_type": "markdown",
   "metadata": {},
   "source": [
    "---"
   ]
  },
  {
   "cell_type": "code",
   "execution_count": 3,
   "metadata": {},
   "outputs": [],
   "source": [
    "d = aidb.Dataset.from_file('iris.csv','csv')\n",
    "l = aidb.Label.from_dataset(d.id,'target')"
   ]
  },
  {
   "cell_type": "markdown",
   "metadata": {},
   "source": [
    "---"
   ]
  },
  {
   "cell_type": "code",
   "execution_count": 4,
   "metadata": {},
   "outputs": [],
   "source": [
    "def check_f(f):\n",
    "    print(f.columns)\n",
    "    print(f.supervision)\n",
    "    print(f.contains_all_columns)"
   ]
  },
  {
   "cell_type": "code",
   "execution_count": 5,
   "metadata": {},
   "outputs": [],
   "source": [
    "f1 = aidb.Featureset.from_dataset(dataset_id=d.id, label_id=l.id)"
   ]
  },
  {
   "cell_type": "code",
   "execution_count": 6,
   "metadata": {},
   "outputs": [
    {
     "name": "stdout",
     "output_type": "stream",
     "text": [
      "['sepal length (cm)', 'sepal width (cm)', 'petal length (cm)', 'petal width (cm)']\n",
      "supervised\n",
      "True\n"
     ]
    }
   ],
   "source": [
    "check_f(f1)"
   ]
  },
  {
   "cell_type": "code",
   "execution_count": 7,
   "metadata": {},
   "outputs": [],
   "source": [
    "f2 = aidb.Featureset.from_dataset(\n",
    "    dataset_id=d.id\n",
    "    ,label_id=l.id \n",
    "    ,columns=['petal width (cm)', 'petal length (cm)'])"
   ]
  },
  {
   "cell_type": "code",
   "execution_count": 8,
   "metadata": {},
   "outputs": [
    {
     "name": "stdout",
     "output_type": "stream",
     "text": [
      "['petal width (cm)', 'petal length (cm)']\n",
      "supervised\n",
      "False\n"
     ]
    }
   ],
   "source": [
    "check_f(f2)"
   ]
  },
  {
   "cell_type": "code",
   "execution_count": 9,
   "metadata": {},
   "outputs": [],
   "source": [
    "f3 = aidb.Featureset.from_dataset(\n",
    "    dataset_id=d.id\n",
    "    ,label_id=l.id \n",
    "    ,columns=['petal width (cm)', 'petal length (cm)', 'sepal width (cm)', 'sepal length (cm)'])"
   ]
  },
  {
   "cell_type": "code",
   "execution_count": 10,
   "metadata": {},
   "outputs": [
    {
     "name": "stdout",
     "output_type": "stream",
     "text": [
      "['petal width (cm)', 'petal length (cm)', 'sepal width (cm)', 'sepal length (cm)']\n",
      "supervised\n",
      "True\n"
     ]
    }
   ],
   "source": [
    "check_f(f3)"
   ]
  },
  {
   "cell_type": "code",
   "execution_count": 11,
   "metadata": {},
   "outputs": [],
   "source": [
    "f4 = aidb.Featureset.from_dataset(dataset_id=d.id)"
   ]
  },
  {
   "cell_type": "code",
   "execution_count": 12,
   "metadata": {},
   "outputs": [
    {
     "name": "stdout",
     "output_type": "stream",
     "text": [
      "['sepal length (cm)', 'sepal width (cm)', 'petal length (cm)', 'petal width (cm)', 'target']\n",
      "unsupervised\n",
      "True\n"
     ]
    }
   ],
   "source": [
    "check_f(f4)"
   ]
  },
  {
   "cell_type": "code",
   "execution_count": 13,
   "metadata": {},
   "outputs": [],
   "source": [
    "f5 = aidb.Featureset.from_dataset(\n",
    "    dataset_id=d.id\n",
    "    ,columns=['petal width (cm)', 'petal length (cm)']\n",
    ")"
   ]
  },
  {
   "cell_type": "code",
   "execution_count": 14,
   "metadata": {},
   "outputs": [
    {
     "name": "stdout",
     "output_type": "stream",
     "text": [
      "['petal width (cm)', 'petal length (cm)']\n",
      "unsupervised\n",
      "False\n"
     ]
    }
   ],
   "source": [
    "check_f(f5)"
   ]
  },
  {
   "cell_type": "code",
   "execution_count": 15,
   "metadata": {},
   "outputs": [],
   "source": [
    "f6 = aidb.Featureset.from_dataset(\n",
    "    dataset_id=d.id\n",
    "    ,columns=['petal width (cm)', 'petal length (cm)', 'sepal width (cm)', 'sepal length (cm)', 'target'])"
   ]
  },
  {
   "cell_type": "code",
   "execution_count": 16,
   "metadata": {},
   "outputs": [
    {
     "name": "stdout",
     "output_type": "stream",
     "text": [
      "['petal width (cm)', 'petal length (cm)', 'sepal width (cm)', 'sepal length (cm)', 'target']\n",
      "unsupervised\n",
      "True\n"
     ]
    }
   ],
   "source": [
    "check_f(f6)"
   ]
  },
  {
   "cell_type": "markdown",
   "metadata": {},
   "source": [
    "---"
   ]
  },
  {
   "cell_type": "code",
   "execution_count": 17,
   "metadata": {},
   "outputs": [],
   "source": [
    "def check_s(s):\n",
    "    print(s.sizes)\n",
    "    print(s.is_validated)\n",
    "    print(s.is_folded)"
   ]
  },
  {
   "cell_type": "code",
   "execution_count": 18,
   "metadata": {},
   "outputs": [],
   "source": [
    "s1 = aidb.Splitset.from_featureset(featureset_id=f1.id, size_test=0.20, size_validation=0.12)"
   ]
  },
  {
   "cell_type": "code",
   "execution_count": 19,
   "metadata": {},
   "outputs": [
    {
     "name": "stdout",
     "output_type": "stream",
     "text": [
      "{'validation': {'percent': 0.12, 'count': 18}, 'test': {'percent': 0.2, 'count': 30}, 'train': {'percent': 0.68, 'count': 102}}\n",
      "True\n",
      "False\n"
     ]
    }
   ],
   "source": [
    "check_s(s1)"
   ]
  },
  {
   "cell_type": "code",
   "execution_count": 20,
   "metadata": {},
   "outputs": [],
   "source": [
    "s2 = aidb.Splitset.from_featureset(featureset_id=f1.id, size_test=0.20)"
   ]
  },
  {
   "cell_type": "code",
   "execution_count": 21,
   "metadata": {},
   "outputs": [
    {
     "name": "stdout",
     "output_type": "stream",
     "text": [
      "{'test': {'percent': 0.2, 'count': 30}, 'train': {'percent': 0.8, 'count': 120}}\n",
      "False\n",
      "False\n"
     ]
    }
   ],
   "source": [
    "check_s(s2)"
   ]
  },
  {
   "cell_type": "code",
   "execution_count": 22,
   "metadata": {},
   "outputs": [],
   "source": [
    "s3 = aidb.Splitset.from_featureset(featureset_id=f4.id)"
   ]
  },
  {
   "cell_type": "code",
   "execution_count": 23,
   "metadata": {},
   "outputs": [
    {
     "name": "stdout",
     "output_type": "stream",
     "text": [
      "{'train': {'percent': 1.0, 'count': 150}}\n",
      "False\n",
      "False\n"
     ]
    }
   ],
   "source": [
    "check_s(s3)"
   ]
  },
  {
   "cell_type": "code",
   "execution_count": 25,
   "metadata": {},
   "outputs": [],
   "source": [
    "s4 = aidb.Splitset.from_featureset(featureset_id=f1.id)"
   ]
  },
  {
   "cell_type": "code",
   "execution_count": 26,
   "metadata": {},
   "outputs": [
    {
     "name": "stdout",
     "output_type": "stream",
     "text": [
      "{'test': {'percent': 0.25, 'count': 38}, 'train': {'percent': 0.75, 'count': 112}}\n",
      "False\n",
      "False\n"
     ]
    }
   ],
   "source": [
    "check_s(s4)"
   ]
  },
  {
   "cell_type": "markdown",
   "metadata": {},
   "source": [
    "---"
   ]
  },
  {
   "cell_type": "markdown",
   "metadata": {},
   "source": [
    "- For kfold I would not recommend multiple iterations.\n",
    "- For regular fold I would recommend it.\n",
    "\n",
    "> You either have a 2 (train-test) or 3 (train-val-test) way split. Then it's a question of whether or not you are generating kfolds in your training set.\n",
    "\n",
    "^ Can sklearn kfold preserve index?\n",
    "\n",
    "^ Stratified on continuous target?"
   ]
  },
  {
   "cell_type": "markdown",
   "metadata": {},
   "source": [
    "---"
   ]
  },
  {
   "cell_type": "markdown",
   "metadata": {},
   "source": [
    "Does train_test_split give different indices each time? = YES"
   ]
  },
  {
   "cell_type": "code",
   "execution_count": 35,
   "metadata": {},
   "outputs": [
    {
     "data": {
      "text/plain": [
       "['sepal length (cm)',\n",
       " 'sepal width (cm)',\n",
       " 'petal length (cm)',\n",
       " 'petal width (cm)']"
      ]
     },
     "execution_count": 35,
     "metadata": {},
     "output_type": "execute_result"
    }
   ],
   "source": [
    "f.columns"
   ]
  },
  {
   "cell_type": "code",
   "execution_count": 36,
   "metadata": {},
   "outputs": [
    {
     "data": {
      "text/plain": [
       "'target'"
      ]
     },
     "execution_count": 36,
     "metadata": {},
     "output_type": "execute_result"
    }
   ],
   "source": [
    "l.column"
   ]
  },
  {
   "cell_type": "code",
   "execution_count": 39,
   "metadata": {},
   "outputs": [
    {
     "data": {
      "text/plain": [
       "array([[5.1, 3.5, 1.4, 0.2],\n",
       "       [4.9, 3. , 1.4, 0.2],\n",
       "       [4.7, 3.2, 1.3, 0.2],\n",
       "       [4.6, 3.1, 1.5, 0.2]])"
      ]
     },
     "execution_count": 39,
     "metadata": {},
     "output_type": "execute_result"
    }
   ],
   "source": [
    "f_data = aidb.Dataset.read_to_numpy(id=1, columns=f.columns)\n",
    "f_data[:4]"
   ]
  },
  {
   "cell_type": "code",
   "execution_count": 40,
   "metadata": {},
   "outputs": [
    {
     "data": {
      "text/plain": [
       "array([[0.],\n",
       "       [0.],\n",
       "       [0.],\n",
       "       [0.]])"
      ]
     },
     "execution_count": 40,
     "metadata": {},
     "output_type": "execute_result"
    }
   ],
   "source": [
    "l_data = aidb.Dataset.read_to_numpy(id=1, columns=l.column)\n",
    "l_data[:4]"
   ]
  },
  {
   "cell_type": "code",
   "execution_count": 45,
   "metadata": {},
   "outputs": [],
   "source": [
    "row_count = l_data.shape[0]\n",
    "arr_idx = np.arange(row_count)"
   ]
  },
  {
   "cell_type": "code",
   "execution_count": 46,
   "metadata": {},
   "outputs": [],
   "source": [
    "from sklearn.model_selection import train_test_split"
   ]
  },
  {
   "cell_type": "code",
   "execution_count": 47,
   "metadata": {},
   "outputs": [],
   "source": [
    "features_train1, features_test1, labels_train1, labels_test1, indices_train1, indices_test1 = train_test_split(\n",
    "    f_data, l_data, arr_idx\n",
    "    ,stratify = l_data\n",
    ")"
   ]
  },
  {
   "cell_type": "code",
   "execution_count": 48,
   "metadata": {},
   "outputs": [],
   "source": [
    "features_train2, features_test2, labels_train2, labels_test2, indices_train2, indices_test2 = train_test_split(\n",
    "    f_data, l_data, arr_idx\n",
    "    ,stratify = l_data\n",
    ")"
   ]
  },
  {
   "cell_type": "code",
   "execution_count": 49,
   "metadata": {},
   "outputs": [
    {
     "data": {
      "text/plain": [
       "array([False, False, False, False, False, False, False, False, False,\n",
       "       False, False, False, False, False, False, False, False, False,\n",
       "       False, False, False, False, False, False, False, False, False,\n",
       "       False, False, False, False, False, False, False, False, False,\n",
       "       False, False, False, False, False, False, False, False, False,\n",
       "       False, False, False, False, False, False, False, False, False,\n",
       "       False, False, False, False, False, False,  True, False, False,\n",
       "       False, False, False, False, False, False, False, False, False,\n",
       "       False, False, False, False, False, False, False, False, False,\n",
       "       False, False, False, False, False, False, False, False, False,\n",
       "       False, False, False, False, False, False, False, False, False,\n",
       "       False, False, False, False, False, False, False, False, False,\n",
       "       False, False, False, False])"
      ]
     },
     "execution_count": 49,
     "metadata": {},
     "output_type": "execute_result"
    }
   ],
   "source": [
    "indices_train2 == indices_train1"
   ]
  },
  {
   "cell_type": "code",
   "execution_count": 50,
   "metadata": {},
   "outputs": [
    {
     "data": {
      "text/plain": [
       "array([False, False, False,  True, False, False, False, False, False,\n",
       "       False, False, False, False, False, False, False, False, False,\n",
       "       False, False, False, False, False, False, False, False, False,\n",
       "       False, False, False, False, False, False, False, False, False,\n",
       "       False, False])"
      ]
     },
     "execution_count": 50,
     "metadata": {},
     "output_type": "execute_result"
    }
   ],
   "source": [
    "indices_test2 == indices_test1"
   ]
  },
  {
   "cell_type": "code",
   "execution_count": 51,
   "metadata": {},
   "outputs": [],
   "source": [
    "indices_train1_lst, indices_test1_lst, indices_train2_lst, indices_test2_lst = indices_train1.tolist(), indices_test1.tolist(), indices_train2.tolist(), indices_test2.tolist()"
   ]
  },
  {
   "cell_type": "code",
   "execution_count": 63,
   "metadata": {},
   "outputs": [],
   "source": [
    "length_train = len(indices_train2_lst)\n",
    "length_test = len(indices_test2_lst)"
   ]
  },
  {
   "cell_type": "code",
   "execution_count": 66,
   "metadata": {
    "collapsed": true,
    "jupyter": {
     "outputs_hidden": true
    }
   },
   "outputs": [
    {
     "name": "stdout",
     "output_type": "stream",
     "text": [
      "True\n",
      "True\n",
      "False\n",
      "True\n",
      "True\n",
      "True\n",
      "True\n",
      "True\n",
      "True\n",
      "True\n",
      "True\n",
      "False\n",
      "True\n",
      "True\n",
      "True\n",
      "True\n",
      "True\n",
      "True\n",
      "True\n",
      "True\n",
      "True\n",
      "True\n",
      "True\n",
      "True\n",
      "True\n",
      "True\n",
      "False\n",
      "False\n",
      "True\n",
      "False\n",
      "True\n",
      "True\n",
      "False\n",
      "True\n",
      "True\n",
      "False\n",
      "True\n",
      "False\n",
      "True\n",
      "True\n",
      "False\n",
      "True\n",
      "True\n",
      "True\n",
      "True\n",
      "True\n",
      "True\n",
      "False\n",
      "False\n",
      "False\n",
      "False\n",
      "False\n",
      "False\n",
      "True\n",
      "True\n",
      "True\n",
      "True\n",
      "False\n",
      "True\n",
      "False\n",
      "True\n",
      "False\n",
      "False\n",
      "False\n",
      "False\n",
      "False\n",
      "True\n",
      "True\n",
      "True\n",
      "True\n",
      "True\n",
      "True\n",
      "True\n",
      "True\n",
      "False\n",
      "True\n",
      "True\n",
      "True\n",
      "False\n",
      "True\n",
      "True\n",
      "False\n",
      "False\n",
      "True\n",
      "False\n",
      "True\n",
      "True\n",
      "True\n",
      "False\n",
      "False\n",
      "True\n",
      "True\n",
      "True\n",
      "True\n",
      "True\n",
      "True\n",
      "True\n",
      "True\n",
      "True\n",
      "True\n",
      "True\n",
      "False\n",
      "False\n",
      "True\n",
      "True\n",
      "True\n",
      "True\n",
      "True\n",
      "True\n",
      "False\n",
      "True\n",
      "True\n"
     ]
    }
   ],
   "source": [
    "for i in range(length_train):\n",
    "    print(indices_train1_lst[i] in indices_train2_lst)"
   ]
  },
  {
   "cell_type": "code",
   "execution_count": 67,
   "metadata": {
    "collapsed": true,
    "jupyter": {
     "outputs_hidden": true
    }
   },
   "outputs": [
    {
     "name": "stdout",
     "output_type": "stream",
     "text": [
      "False\n",
      "False\n",
      "False\n",
      "True\n",
      "False\n",
      "True\n",
      "False\n",
      "False\n",
      "False\n",
      "False\n",
      "False\n",
      "True\n",
      "False\n",
      "False\n",
      "False\n",
      "False\n",
      "False\n",
      "False\n",
      "False\n",
      "False\n",
      "False\n",
      "False\n",
      "False\n",
      "False\n",
      "False\n",
      "False\n",
      "False\n",
      "False\n",
      "False\n",
      "False\n",
      "True\n",
      "False\n",
      "False\n",
      "True\n",
      "True\n",
      "False\n",
      "False\n",
      "False\n"
     ]
    }
   ],
   "source": [
    "for i in range(length_test):\n",
    "    print(indices_test1_lst[i] in indices_test2_lst)"
   ]
  },
  {
   "cell_type": "markdown",
   "metadata": {},
   "source": [
    "---"
   ]
  },
  {
   "cell_type": "markdown",
   "metadata": {},
   "source": [
    "Overview: https://scikit-learn.org/stable/modules/cross_validation.html\n",
    "\n",
    "Split Methods: https://scikit-learn.org/stable/modules/classes.html#module-sklearn.model_selection"
   ]
  },
  {
   "cell_type": "markdown",
   "metadata": {},
   "source": [
    "There is no stratified split for continuous variables:\n",
    "- 2 way split binning workaround: https://stackoverflow.com/a/39501510/5739514\n",
    "- kfold sklearn-based approach: https://github.com/scikit-learn/scikit-learn/issues/4757#issuecomment-694924478"
   ]
  },
  {
   "cell_type": "code",
   "execution_count": 267,
   "metadata": {},
   "outputs": [],
   "source": [
    "flts = np.arange(117, 1080, 3.13)\n",
    "rand_flts = np.random.choice(flts, size=150)  "
   ]
  },
  {
   "cell_type": "code",
   "execution_count": 268,
   "metadata": {},
   "outputs": [
    {
     "data": {
      "text/plain": [
       "array([ 777.43,  743.  ,  924.54,  617.8 ,  195.25,  993.4 ,  890.11,\n",
       "        639.71,  774.3 ,  846.29,  135.78,  774.3 ,  780.56,  802.47,\n",
       "        282.89,  204.64,  276.63,  123.26,  630.32,  955.84,  426.87,\n",
       "        548.94,  949.58,  990.27,  373.66,  974.62, 1056.  ,  589.63,\n",
       "       1002.79,  905.76,  370.53,  733.61,  326.71,  379.92,  439.39,\n",
       "        746.13,  564.59, 1062.26,  824.38,  915.15,  232.81,  558.33,\n",
       "        517.64,  592.76,  530.16,  480.08,  170.21,  630.32,  223.42,\n",
       "        326.71,  376.79,  680.4 ,  893.24,  595.89,  489.47, 1015.31,\n",
       "        658.49,  351.75, 1071.65, 1012.18,  968.36,  398.7 ,  307.93,\n",
       "        874.46,  749.26,  226.55,  157.69,  764.91,  774.3 , 1043.48,\n",
       "        586.5 ,  129.52,  386.18,  649.1 ,  207.77,  724.22,  232.81,\n",
       "        148.3 ,  686.66,  661.62,  855.68,  267.24,  489.47,  464.43,\n",
       "        968.36,  905.76,  777.43,  464.43,  868.2 ,  780.56,  480.08,\n",
       "        364.27,  404.96,  774.3 ,  486.34,  411.22, 1071.65,  379.92,\n",
       "        771.17,  955.84,  198.38,  943.32,  527.03,  727.35,  480.08,\n",
       "        883.85,  336.1 ,  229.68,  730.48,  755.52,  733.61,  254.72,\n",
       "        217.16,  868.2 ,  188.99,  912.02,  448.78,  727.35,  292.28,\n",
       "        126.39,  871.33,  602.15,  708.57,  286.02,  686.66,  505.12,\n",
       "        373.66,  267.24,  248.46,  952.71,  761.78,  317.32,  129.52,\n",
       "        865.07, 1062.26,  836.9 ,  289.15, 1034.09,  260.98,  761.78,\n",
       "        548.94,  843.16,  286.02, 1049.74,  611.54,  295.41,  614.67,\n",
       "        980.88,  768.04,  267.24])"
      ]
     },
     "execution_count": 268,
     "metadata": {},
     "output_type": "execute_result"
    }
   ],
   "source": [
    "rand_flts"
   ]
  },
  {
   "cell_type": "code",
   "execution_count": 269,
   "metadata": {},
   "outputs": [
    {
     "data": {
      "text/plain": [
       "(array([16., 20., 14., 14., 16., 15., 20., 18., 17.]),\n",
       " array([ 123.26      ,  228.63666667,  334.01333333,  439.39      ,\n",
       "         544.76666667,  650.14333333,  755.52      ,  860.89666667,\n",
       "         966.27333333, 1071.65      ]),\n",
       " <BarContainer object of 9 artists>)"
      ]
     },
     "execution_count": 269,
     "metadata": {},
     "output_type": "execute_result"
    },
    {
     "data": {
      "image/png": "[encoded data removed]",
      "text/plain": [
       "<Figure size 432x288 with 1 Axes>"
      ]
     },
     "metadata": {
      "needs_background": "light"
     },
     "output_type": "display_data"
    }
   ],
   "source": [
    "import matplotlib.pyplot as plt\n",
    "plt.hist(rand_flts, bins='auto')"
   ]
  },
  {
   "cell_type": "code",
   "execution_count": 282,
   "metadata": {},
   "outputs": [
    {
     "name": "stdout",
     "output_type": "stream",
     "text": [
      "123.25999999999999\n",
      "1071.6499999999987\n"
     ]
    }
   ],
   "source": [
    "max = np.amax(rand_flts)\n",
    "min = np.amin(rand_flts)\n",
    "print(min)\n",
    "print(max)"
   ]
  },
  {
   "cell_type": "code",
   "execution_count": 331,
   "metadata": {},
   "outputs": [],
   "source": [
    "num_bins = 4"
   ]
  },
  {
   "cell_type": "code",
   "execution_count": 332,
   "metadata": {},
   "outputs": [
    {
     "data": {
      "text/plain": [
       "array([ 123.26,  439.39,  755.52, 1071.65])"
      ]
     },
     "execution_count": 332,
     "metadata": {},
     "output_type": "execute_result"
    }
   ],
   "source": [
    "bins = np.linspace(start=min, stop=max, num=num_bins)\n",
    "bins"
   ]
  },
  {
   "cell_type": "code",
   "execution_count": 333,
   "metadata": {},
   "outputs": [
    {
     "data": {
      "text/plain": [
       "array([3, 2, 3, 2, 1, 3, 3, 2, 3, 3, 1, 3, 3, 3, 1, 1, 1, 0, 2, 3, 1, 2,\n",
       "       3, 3, 1, 3, 3, 2, 3, 3, 1, 2, 1, 1, 1, 2, 2, 3, 3, 3, 1, 2, 2, 2,\n",
       "       2, 2, 1, 2, 1, 1, 1, 2, 3, 2, 2, 3, 2, 1, 3, 3, 3, 1, 1, 3, 2, 1,\n",
       "       1, 3, 3, 3, 2, 1, 1, 2, 1, 2, 1, 1, 2, 2, 3, 1, 2, 2, 3, 3, 3, 2,\n",
       "       3, 3, 2, 1, 1, 3, 2, 1, 3, 1, 3, 3, 1, 3, 2, 2, 2, 3, 1, 1, 2, 2,\n",
       "       2, 1, 1, 3, 1, 3, 2, 2, 1, 1, 3, 2, 2, 1, 2, 2, 1, 1, 1, 3, 3, 1,\n",
       "       1, 3, 3, 3, 1, 3, 1, 3, 2, 3, 1, 3, 2, 1, 2, 3, 3, 1])"
      ]
     },
     "execution_count": 333,
     "metadata": {},
     "output_type": "execute_result"
    }
   ],
   "source": [
    "# Without `right=True`, it will make the max value a separate bin.\n",
    "flts_binned = np.digitize(rand_flts, bins, right=True)\n",
    "flts_binned"
   ]
  },
  {
   "cell_type": "markdown",
   "metadata": {},
   "source": [
    "^ these are just wrong. there are plenty in bin 3."
   ]
  },
  {
   "cell_type": "markdown",
   "metadata": {},
   "source": [
    "Let's pretend `flts` is the target"
   ]
  },
  {
   "cell_type": "code",
   "execution_count": 334,
   "metadata": {},
   "outputs": [],
   "source": [
    "features_train, features_test, labels_train, labels_test = train_test_split(\n",
    "    f_data, rand_flts,\n",
    "    stratify = y_binned\n",
    ")"
   ]
  },
  {
   "cell_type": "code",
   "execution_count": 335,
   "metadata": {},
   "outputs": [
    {
     "data": {
      "text/plain": [
       "(array([28., 26., 26., 32.]),\n",
       " array([ 123.26  ,  360.3575,  597.455 ,  834.5525, 1071.65  ]),\n",
       " <BarContainer object of 4 artists>)"
      ]
     },
     "execution_count": 335,
     "metadata": {},
     "output_type": "execute_result"
    },
    {
     "data": {
      "image/png": "[encoded data removed]",
      "text/plain": [
       "<Figure size 432x288 with 1 Axes>"
      ]
     },
     "metadata": {
      "needs_background": "light"
     },
     "output_type": "display_data"
    }
   ],
   "source": [
    "plt.hist(labels_train, bins=num_bins) "
   ]
  },
  {
   "cell_type": "code",
   "execution_count": 336,
   "metadata": {},
   "outputs": [
    {
     "data": {
      "text/plain": [
       "(array([10.,  8., 13.,  7.]),\n",
       " array([ 129.52  ,  365.0525,  600.585 ,  836.1175, 1071.65  ]),\n",
       " <BarContainer object of 4 artists>)"
      ]
     },
     "execution_count": 336,
     "metadata": {},
     "output_type": "execute_result"
    },
    {
     "data": {
      "image/png": "[encoded data removed]",
      "text/plain": [
       "<Figure size 432x288 with 1 Axes>"
      ]
     },
     "metadata": {
      "needs_background": "light"
     },
     "output_type": "display_data"
    }
   ],
   "source": [
    "plt.hist(labels_test, bins=num_bins) "
   ]
  },
  {
   "cell_type": "markdown",
   "metadata": {},
   "source": [
    "---"
   ]
  },
  {
   "cell_type": "code",
   "execution_count": 2,
   "metadata": {},
   "outputs": [],
   "source": [
    "s = aidb.Splitset.get_by_id(1)"
   ]
  },
  {
   "cell_type": "code",
   "execution_count": 3,
   "metadata": {},
   "outputs": [],
   "source": [
    "dct = s.read_to_pandas()"
   ]
  },
  {
   "cell_type": "code",
   "execution_count": 4,
   "metadata": {},
   "outputs": [
    {
     "data": {
      "text/plain": [
       "{'validation': {'features':      sepal length (cm)  sepal width (cm)  petal length (cm)  petal width (cm)\n",
       "  0                  5.1               3.5                1.4               0.2\n",
       "  1                  4.9               3.0                1.4               0.2\n",
       "  2                  4.7               3.2                1.3               0.2\n",
       "  3                  4.6               3.1                1.5               0.2\n",
       "  4                  5.0               3.6                1.4               0.2\n",
       "  ..                 ...               ...                ...               ...\n",
       "  145                6.7               3.0                5.2               2.3\n",
       "  146                6.3               2.5                5.0               1.9\n",
       "  147                6.5               3.0                5.2               2.0\n",
       "  148                6.2               3.4                5.4               2.3\n",
       "  149                5.9               3.0                5.1               1.8\n",
       "  \n",
       "  [150 rows x 4 columns],\n",
       "  'label': None,\n",
       "  'labels':      target\n",
       "  0       0.0\n",
       "  1       0.0\n",
       "  2       0.0\n",
       "  3       0.0\n",
       "  4       0.0\n",
       "  ..      ...\n",
       "  145     2.0\n",
       "  146     2.0\n",
       "  147     2.0\n",
       "  148     2.0\n",
       "  149     2.0\n",
       "  \n",
       "  [150 rows x 1 columns]},\n",
       " 'train': {'features':      sepal length (cm)  sepal width (cm)  petal length (cm)  petal width (cm)\n",
       "  0                  5.1               3.5                1.4               0.2\n",
       "  1                  4.9               3.0                1.4               0.2\n",
       "  2                  4.7               3.2                1.3               0.2\n",
       "  3                  4.6               3.1                1.5               0.2\n",
       "  4                  5.0               3.6                1.4               0.2\n",
       "  ..                 ...               ...                ...               ...\n",
       "  145                6.7               3.0                5.2               2.3\n",
       "  146                6.3               2.5                5.0               1.9\n",
       "  147                6.5               3.0                5.2               2.0\n",
       "  148                6.2               3.4                5.4               2.3\n",
       "  149                5.9               3.0                5.1               1.8\n",
       "  \n",
       "  [150 rows x 4 columns],\n",
       "  'label': None,\n",
       "  'labels':      target\n",
       "  0       0.0\n",
       "  1       0.0\n",
       "  2       0.0\n",
       "  3       0.0\n",
       "  4       0.0\n",
       "  ..      ...\n",
       "  145     2.0\n",
       "  146     2.0\n",
       "  147     2.0\n",
       "  148     2.0\n",
       "  149     2.0\n",
       "  \n",
       "  [150 rows x 1 columns]},\n",
       " 'test': {'features':      sepal length (cm)  sepal width (cm)  petal length (cm)  petal width (cm)\n",
       "  0                  5.1               3.5                1.4               0.2\n",
       "  1                  4.9               3.0                1.4               0.2\n",
       "  2                  4.7               3.2                1.3               0.2\n",
       "  3                  4.6               3.1                1.5               0.2\n",
       "  4                  5.0               3.6                1.4               0.2\n",
       "  ..                 ...               ...                ...               ...\n",
       "  145                6.7               3.0                5.2               2.3\n",
       "  146                6.3               2.5                5.0               1.9\n",
       "  147                6.5               3.0                5.2               2.0\n",
       "  148                6.2               3.4                5.4               2.3\n",
       "  149                5.9               3.0                5.1               1.8\n",
       "  \n",
       "  [150 rows x 4 columns],\n",
       "  'label': None,\n",
       "  'labels':      target\n",
       "  0       0.0\n",
       "  1       0.0\n",
       "  2       0.0\n",
       "  3       0.0\n",
       "  4       0.0\n",
       "  ..      ...\n",
       "  145     2.0\n",
       "  146     2.0\n",
       "  147     2.0\n",
       "  148     2.0\n",
       "  149     2.0\n",
       "  \n",
       "  [150 rows x 1 columns]}}"
      ]
     },
     "execution_count": 4,
     "metadata": {},
     "output_type": "execute_result"
    }
   ],
   "source": [
    "dct"
   ]
  },
  {
   "cell_type": "code",
   "execution_count": null,
   "metadata": {},
   "outputs": [],
   "source": []
  }
 ],
 "metadata": {
  "kernelspec": {
   "display_name": "Python 3",
   "language": "python",
   "name": "python3"
  },
  "language_info": {
   "codemirror_mode": {
    "name": "ipython",
    "version": 3
   },
   "file_extension": ".py",
   "mimetype": "text/x-python",
   "name": "python",
   "nbconvert_exporter": "python",
   "pygments_lexer": "ipython3",
   "version": "3.7.6"
  }
 },
 "nbformat": 4,
 "nbformat_minor": 4
}
