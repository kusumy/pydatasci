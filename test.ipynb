{
 "cells": [
  {
   "cell_type": "code",
   "execution_count": 1,
   "metadata": {},
   "outputs": [
    {
     "name": "stderr",
     "output_type": "stream",
     "text": [
      "/Users/layne/.pyenv/versions/3.7.6/envs/jupyterlab/lib/python3.7/site-packages/pandas/compat/__init__.py:120: UserWarning: Could not import the lzma module. Your installed Python is incomplete. Attempting to use lzma compression will result in a RuntimeError.\n",
      "  warnings.warn(msg)\n"
     ]
    }
   ],
   "source": [
    "import pydatasci as pds\n",
    "from pydatasci import aidb\n",
    "import os, sqlite3, io, gzip \n",
    "import pandas as pd\n",
    "import numpy as np"
   ]
  },
  {
   "cell_type": "code",
   "execution_count": 2,
   "metadata": {},
   "outputs": [
    {
     "name": "stdout",
     "output_type": "stream",
     "text": [
      "\n",
      "=> Success - deleted database file at path:\n",
      "/Users/layne/Library/Application Support/pydatasci/aidb.sqlite3\n",
      "\n",
      "\n",
      "=> Success - created database file for machine learning metrics at path:\n",
      "/Users/layne/Library/Application Support/pydatasci/aidb.sqlite3\n",
      "\n",
      "\n",
      "=> Success - created the following tables within database:\n",
      "['algorithm', 'dataset', 'featureset', 'job', 'label', 'splitset']\n",
      "\n"
     ]
    }
   ],
   "source": [
    "from importlib import reload; aidb.delete_db(True); reload(aidb); aidb.create_db()"
   ]
  },
  {
   "cell_type": "code",
   "execution_count": 3,
   "metadata": {},
   "outputs": [
    {
     "data": {
      "text/plain": [
       "'/Users/layne/Desktop/pydatasci'"
      ]
     },
     "execution_count": 3,
     "metadata": {},
     "output_type": "execute_result"
    }
   ],
   "source": [
    "os.getcwd()"
   ]
  },
  {
   "cell_type": "markdown",
   "metadata": {},
   "source": [
    "---"
   ]
  },
  {
   "cell_type": "code",
   "execution_count": 99,
   "metadata": {},
   "outputs": [],
   "source": [
    "arr_train_features = #train numpy\n",
    "arr_train_labels = #train labels of matching indices of arr_t"
   ]
  },
  {
   "cell_type": "code",
   "execution_count": 197,
   "metadata": {},
   "outputs": [],
   "source": [
    "# Allow people to specify the random state since it will always return the same otherwise.\n",
    "skf = StratifiedKFold(n_splits=4, shuffle=True, random_state=2)"
   ]
  },
  {
   "cell_type": "code",
   "execution_count": 198,
   "metadata": {},
   "outputs": [
    {
     "ename": "NameError",
     "evalue": "name 'arr_train_features' is not defined",
     "output_type": "error",
     "traceback": [
      "\u001b[0;31m---------------------------------------------------------------------------\u001b[0m",
      "\u001b[0;31mNameError\u001b[0m                                 Traceback (most recent call last)",
      "\u001b[0;32m<ipython-input-198-2c34483ab088>\u001b[0m in \u001b[0;36m<module>\u001b[0;34m\u001b[0m\n\u001b[1;32m      1\u001b[0m \u001b[0;31m# Remember, even though it only spits out indices, it needs labels for stratification.\u001b[0m\u001b[0;34m\u001b[0m\u001b[0;34m\u001b[0m\u001b[0;34m\u001b[0m\u001b[0m\n\u001b[0;32m----> 2\u001b[0;31m \u001b[0msplitz_gen\u001b[0m \u001b[0;34m=\u001b[0m \u001b[0mskf\u001b[0m\u001b[0;34m.\u001b[0m\u001b[0msplit\u001b[0m\u001b[0;34m(\u001b[0m\u001b[0marr_train_features\u001b[0m\u001b[0;34m,\u001b[0m \u001b[0marr_train_labels\u001b[0m\u001b[0;34m)\u001b[0m\u001b[0;34m\u001b[0m\u001b[0;34m\u001b[0m\u001b[0m\n\u001b[0m",
      "\u001b[0;31mNameError\u001b[0m: name 'arr_train_features' is not defined"
     ]
    }
   ],
   "source": [
    "# Remember, even though it only spits out indices, it needs labels for stratification.\n",
    "splitz_gen = skf.split(arr_train_features, arr_train_labels)"
   ]
  },
  {
   "cell_type": "code",
   "execution_count": 199,
   "metadata": {},
   "outputs": [],
   "source": [
    "splitz, i  = {}, -1"
   ]
  },
  {
   "cell_type": "code",
   "execution_count": 200,
   "metadata": {},
   "outputs": [],
   "source": [
    "for train_index, validation_index in splitz_gen:\n",
    "    i+=1\n",
    "    splitz[i]={\"train\": train_index, \"validation\": validation_index}"
   ]
  },
  {
   "cell_type": "code",
   "execution_count": 193,
   "metadata": {},
   "outputs": [
    {
     "data": {
      "text/plain": [
       "{0: {'train': array([0, 1, 2, 5, 6, 7]), 'validation': array([3, 4])},\n",
       " 1: {'train': array([0, 1, 3, 4, 6, 7]), 'validation': array([2, 5])},\n",
       " 2: {'train': array([1, 2, 3, 4, 5, 6]), 'validation': array([0, 7])},\n",
       " 3: {'train': array([0, 2, 3, 4, 5, 7]), 'validation': array([1, 6])}}"
      ]
     },
     "execution_count": 193,
     "metadata": {},
     "output_type": "execute_result"
    }
   ],
   "source": [
    "splitz"
   ]
  },
  {
   "cell_type": "code",
   "execution_count": 52,
   "metadata": {},
   "outputs": [],
   "source": [
    "dataset = aidb.Dataset.from_file(\n",
    "\tpath = 'iris.tsv' \n",
    "\t,file_format = 'tsv'\n",
    "\t,name = 'tab-separated plants'\n",
    "\t,perform_gzip = True\n",
    "    ,dtype = 'float64'\n",
    ")"
   ]
  },
  {
   "cell_type": "code",
   "execution_count": 54,
   "metadata": {},
   "outputs": [],
   "source": [
    "df = dataset.to_pandas()"
   ]
  },
  {
   "cell_type": "code",
   "execution_count": 55,
   "metadata": {},
   "outputs": [
    {
     "data": {
      "text/html": [
       "<div>\n",
       "<style scoped>\n",
       "    .dataframe tbody tr th:only-of-type {\n",
       "        vertical-align: middle;\n",
       "    }\n",
       "\n",
       "    .dataframe tbody tr th {\n",
       "        vertical-align: top;\n",
       "    }\n",
       "\n",
       "    .dataframe thead th {\n",
       "        text-align: right;\n",
       "    }\n",
       "</style>\n",
       "<table border=\"1\" class=\"dataframe\">\n",
       "  <thead>\n",
       "    <tr style=\"text-align: right;\">\n",
       "      <th></th>\n",
       "      <th>sepal length (cm)</th>\n",
       "      <th>sepal width (cm)</th>\n",
       "      <th>petal length (cm)</th>\n",
       "      <th>petal width (cm)</th>\n",
       "      <th>target</th>\n",
       "    </tr>\n",
       "  </thead>\n",
       "  <tbody>\n",
       "    <tr>\n",
       "      <th>0</th>\n",
       "      <td>5.1</td>\n",
       "      <td>3.5</td>\n",
       "      <td>1.4</td>\n",
       "      <td>0.2</td>\n",
       "      <td>0.0</td>\n",
       "    </tr>\n",
       "    <tr>\n",
       "      <th>1</th>\n",
       "      <td>4.9</td>\n",
       "      <td>3.0</td>\n",
       "      <td>1.4</td>\n",
       "      <td>0.2</td>\n",
       "      <td>0.0</td>\n",
       "    </tr>\n",
       "    <tr>\n",
       "      <th>2</th>\n",
       "      <td>4.7</td>\n",
       "      <td>3.2</td>\n",
       "      <td>1.3</td>\n",
       "      <td>0.2</td>\n",
       "      <td>0.0</td>\n",
       "    </tr>\n",
       "    <tr>\n",
       "      <th>3</th>\n",
       "      <td>4.6</td>\n",
       "      <td>3.1</td>\n",
       "      <td>1.5</td>\n",
       "      <td>0.2</td>\n",
       "      <td>0.0</td>\n",
       "    </tr>\n",
       "    <tr>\n",
       "      <th>4</th>\n",
       "      <td>5.0</td>\n",
       "      <td>3.6</td>\n",
       "      <td>1.4</td>\n",
       "      <td>0.2</td>\n",
       "      <td>0.0</td>\n",
       "    </tr>\n",
       "    <tr>\n",
       "      <th>...</th>\n",
       "      <td>...</td>\n",
       "      <td>...</td>\n",
       "      <td>...</td>\n",
       "      <td>...</td>\n",
       "      <td>...</td>\n",
       "    </tr>\n",
       "    <tr>\n",
       "      <th>145</th>\n",
       "      <td>6.7</td>\n",
       "      <td>3.0</td>\n",
       "      <td>5.2</td>\n",
       "      <td>2.3</td>\n",
       "      <td>2.0</td>\n",
       "    </tr>\n",
       "    <tr>\n",
       "      <th>146</th>\n",
       "      <td>6.3</td>\n",
       "      <td>2.5</td>\n",
       "      <td>5.0</td>\n",
       "      <td>1.9</td>\n",
       "      <td>2.0</td>\n",
       "    </tr>\n",
       "    <tr>\n",
       "      <th>147</th>\n",
       "      <td>6.5</td>\n",
       "      <td>3.0</td>\n",
       "      <td>5.2</td>\n",
       "      <td>2.0</td>\n",
       "      <td>2.0</td>\n",
       "    </tr>\n",
       "    <tr>\n",
       "      <th>148</th>\n",
       "      <td>6.2</td>\n",
       "      <td>3.4</td>\n",
       "      <td>5.4</td>\n",
       "      <td>2.3</td>\n",
       "      <td>2.0</td>\n",
       "    </tr>\n",
       "    <tr>\n",
       "      <th>149</th>\n",
       "      <td>5.9</td>\n",
       "      <td>3.0</td>\n",
       "      <td>5.1</td>\n",
       "      <td>1.8</td>\n",
       "      <td>2.0</td>\n",
       "    </tr>\n",
       "  </tbody>\n",
       "</table>\n",
       "<p>150 rows × 5 columns</p>\n",
       "</div>"
      ],
      "text/plain": [
       "     sepal length (cm)  sepal width (cm)  petal length (cm)  petal width (cm)  \\\n",
       "0                  5.1               3.5                1.4               0.2   \n",
       "1                  4.9               3.0                1.4               0.2   \n",
       "2                  4.7               3.2                1.3               0.2   \n",
       "3                  4.6               3.1                1.5               0.2   \n",
       "4                  5.0               3.6                1.4               0.2   \n",
       "..                 ...               ...                ...               ...   \n",
       "145                6.7               3.0                5.2               2.3   \n",
       "146                6.3               2.5                5.0               1.9   \n",
       "147                6.5               3.0                5.2               2.0   \n",
       "148                6.2               3.4                5.4               2.3   \n",
       "149                5.9               3.0                5.1               1.8   \n",
       "\n",
       "     target  \n",
       "0       0.0  \n",
       "1       0.0  \n",
       "2       0.0  \n",
       "3       0.0  \n",
       "4       0.0  \n",
       "..      ...  \n",
       "145     2.0  \n",
       "146     2.0  \n",
       "147     2.0  \n",
       "148     2.0  \n",
       "149     2.0  \n",
       "\n",
       "[150 rows x 5 columns]"
      ]
     },
     "execution_count": 55,
     "metadata": {},
     "output_type": "execute_result"
    }
   ],
   "source": [
    "df"
   ]
  },
  {
   "cell_type": "markdown",
   "metadata": {},
   "source": [
    "---"
   ]
  },
  {
   "cell_type": "code",
   "execution_count": 4,
   "metadata": {},
   "outputs": [],
   "source": [
    "dataset = aidb.Dataset.from_file(\n",
    "\tpath = 'iris.tsv' \n",
    "\t,file_format = 'tsv'\n",
    "\t,name = 'tab-separated plants'\n",
    "\t,perform_gzip = True\n",
    "    ,dtype = 'float64'\n",
    ")"
   ]
  },
  {
   "cell_type": "code",
   "execution_count": 5,
   "metadata": {},
   "outputs": [],
   "source": [
    "label_name = 'target'"
   ]
  },
  {
   "cell_type": "code",
   "execution_count": 6,
   "metadata": {},
   "outputs": [],
   "source": [
    "label = dataset.make_label(column=label_name)"
   ]
  },
  {
   "cell_type": "code",
   "execution_count": 7,
   "metadata": {},
   "outputs": [],
   "source": [
    "featureset = dataset.make_featureset(exclude_columns=[label_name])"
   ]
  },
  {
   "cell_type": "code",
   "execution_count": 8,
   "metadata": {},
   "outputs": [],
   "source": [
    "splitset = featureset.make_splitset(label_name=label_name)"
   ]
  },
  {
   "cell_type": "code",
   "execution_count": 9,
   "metadata": {},
   "outputs": [
    {
     "data": {
      "text/plain": [
       "True"
      ]
     },
     "execution_count": 9,
     "metadata": {},
     "output_type": "execute_result"
    }
   ],
   "source": [
    "splitset.has_test"
   ]
  },
  {
   "cell_type": "code",
   "execution_count": 10,
   "metadata": {},
   "outputs": [
    {
     "name": "stdout",
     "output_type": "stream",
     "text": [
      "target\n",
      "[92, 143, 11, 19, 48, 111, 142, 36, 12, 14, 29, 99, 32, 64, 85, 97, 44, 49, 47, 131, 130, 145, 93, 55, 113, 69, 137, 35, 56, 33, 8, 65, 10, 59, 41, 100, 89, 60, 120, 103, 81, 95, 37, 96, 62, 53, 16, 4, 106, 27, 71, 67, 80, 140, 116, 22, 148, 144, 3, 74, 78, 134, 138, 115, 75, 135, 118, 7, 123, 91, 30, 79, 43, 54, 122, 17, 109, 21, 24, 52, 25, 98, 128, 127, 126, 110, 125, 34, 68, 15, 129, 45, 88, 6, 121, 114, 107, 139, 87, 86, 105, 9, 51, 72, 133, 147, 26, 73, 82, 20, 39, 5]\n",
      "target\n",
      "[132, 42, 57, 40, 28, 83, 77, 90, 58, 46, 124, 146, 112, 63, 84, 141, 0, 119, 108, 149, 50, 102, 61, 136, 38, 31, 66, 13, 76, 23, 70, 104, 94, 1, 18, 2, 101, 117]\n"
     ]
    },
    {
     "data": {
      "text/plain": [
       "{'train': {'features':      sepal length (cm)  sepal width (cm)  petal length (cm)  petal width (cm)\n",
       "  92                 5.8               2.6                4.0               1.2\n",
       "  143                6.8               3.2                5.9               2.3\n",
       "  11                 4.8               3.4                1.6               0.2\n",
       "  19                 5.1               3.8                1.5               0.3\n",
       "  48                 5.3               3.7                1.5               0.2\n",
       "  ..                 ...               ...                ...               ...\n",
       "  73                 6.1               2.8                4.7               1.2\n",
       "  82                 5.8               2.7                3.9               1.2\n",
       "  20                 5.4               3.4                1.7               0.2\n",
       "  39                 5.1               3.4                1.5               0.2\n",
       "  5                  5.4               3.9                1.7               0.4\n",
       "  \n",
       "  [112 rows x 4 columns],\n",
       "  'labels': Empty DataFrame\n",
       "  Columns: []\n",
       "  Index: [92, 143, 11, 19, 48, 111, 142, 36, 12, 14, 29, 99, 32, 64, 85, 97, 44, 49, 47, 131, 130, 145, 93, 55, 113, 69, 137, 35, 56, 33, 8, 65, 10, 59, 41, 100, 89, 60, 120, 103, 81, 95, 37, 96, 62, 53, 16, 4, 106, 27, 71, 67, 80, 140, 116, 22, 148, 144, 3, 74, 78, 134, 138, 115, 75, 135, 118, 7, 123, 91, 30, 79, 43, 54, 122, 17, 109, 21, 24, 52, 25, 98, 128, 127, 126, 110, 125, 34, 68, 15, 129, 45, 88, 6, 121, 114, 107, 139, 87, 86, ...]\n",
       "  \n",
       "  [112 rows x 0 columns]},\n",
       " 'test': {'features':      sepal length (cm)  sepal width (cm)  petal length (cm)  petal width (cm)\n",
       "  132                6.4               2.8                5.6               2.2\n",
       "  42                 4.4               3.2                1.3               0.2\n",
       "  57                 4.9               2.4                3.3               1.0\n",
       "  40                 5.0               3.5                1.3               0.3\n",
       "  28                 5.2               3.4                1.4               0.2\n",
       "  83                 6.0               2.7                5.1               1.6\n",
       "  77                 6.7               3.0                5.0               1.7\n",
       "  90                 5.5               2.6                4.4               1.2\n",
       "  58                 6.6               2.9                4.6               1.3\n",
       "  46                 5.1               3.8                1.6               0.2\n",
       "  124                6.7               3.3                5.7               2.1\n",
       "  146                6.3               2.5                5.0               1.9\n",
       "  112                6.8               3.0                5.5               2.1\n",
       "  63                 6.1               2.9                4.7               1.4\n",
       "  84                 5.4               3.0                4.5               1.5\n",
       "  141                6.9               3.1                5.1               2.3\n",
       "  0                  5.1               3.5                1.4               0.2\n",
       "  119                6.0               2.2                5.0               1.5\n",
       "  108                6.7               2.5                5.8               1.8\n",
       "  149                5.9               3.0                5.1               1.8\n",
       "  50                 7.0               3.2                4.7               1.4\n",
       "  102                7.1               3.0                5.9               2.1\n",
       "  61                 5.9               3.0                4.2               1.5\n",
       "  136                6.3               3.4                5.6               2.4\n",
       "  38                 4.4               3.0                1.3               0.2\n",
       "  31                 5.4               3.4                1.5               0.4\n",
       "  66                 5.6               3.0                4.5               1.5\n",
       "  13                 4.3               3.0                1.1               0.1\n",
       "  76                 6.8               2.8                4.8               1.4\n",
       "  23                 5.1               3.3                1.7               0.5\n",
       "  70                 5.9               3.2                4.8               1.8\n",
       "  104                6.5               3.0                5.8               2.2\n",
       "  94                 5.6               2.7                4.2               1.3\n",
       "  1                  4.9               3.0                1.4               0.2\n",
       "  18                 5.7               3.8                1.7               0.3\n",
       "  2                  4.7               3.2                1.3               0.2\n",
       "  101                5.8               2.7                5.1               1.9\n",
       "  117                7.7               3.8                6.7               2.2,\n",
       "  'labels': Empty DataFrame\n",
       "  Columns: []\n",
       "  Index: [132, 42, 57, 40, 28, 83, 77, 90, 58, 46, 124, 146, 112, 63, 84, 141, 0, 119, 108, 149, 50, 102, 61, 136, 38, 31, 66, 13, 76, 23, 70, 104, 94, 1, 18, 2, 101, 117]}}"
      ]
     },
     "execution_count": 10,
     "metadata": {},
     "output_type": "execute_result"
    }
   ],
   "source": [
    "splitset.to_pandas()"
   ]
  },
  {
   "cell_type": "code",
   "execution_count": 12,
   "metadata": {},
   "outputs": [],
   "source": [
    "splitset_train68_val12_test20 = featureset.make_splitset(\n",
    "\tlabel_name='target'\n",
    "\t, size_test = 0.20\n",
    "\t, size_validation = 0.12\n",
    ")"
   ]
  },
  {
   "cell_type": "code",
   "execution_count": 14,
   "metadata": {},
   "outputs": [
    {
     "data": {
      "text/plain": [
       "{'validation': {'features': array([[7.7, 3. , 6.1, 2.3],\n",
       "         [5. , 3. , 1.6, 0.2],\n",
       "         [5.1, 3.4, 1.5, 0.2],\n",
       "         [7.7, 3.8, 6.7, 2.2],\n",
       "         [5.5, 2.4, 3.8, 1.1],\n",
       "         [5.9, 3. , 5.1, 1.8],\n",
       "         [5. , 3.4, 1.5, 0.2],\n",
       "         [6.5, 3. , 5.2, 2. ],\n",
       "         [6.7, 3. , 5. , 1.7],\n",
       "         [6.8, 2.8, 4.8, 1.4],\n",
       "         [7.1, 3. , 5.9, 2.1],\n",
       "         [6.4, 3.2, 4.5, 1.5],\n",
       "         [5. , 3.6, 1.4, 0.2],\n",
       "         [5.5, 4.2, 1.4, 0.2],\n",
       "         [5.8, 2.6, 4. , 1.2],\n",
       "         [5.4, 3.4, 1.5, 0.4],\n",
       "         [6.5, 3.2, 5.1, 2. ],\n",
       "         [5.8, 2.7, 4.1, 1. ]]),\n",
       "  'labels': array([], shape=(18, 0), dtype=float64)},\n",
       " 'train': {'features': array([[6.8, 3. , 5.5, 2.1],\n",
       "         [5.5, 2.4, 3.7, 1. ],\n",
       "         [5.2, 3.5, 1.5, 0.2],\n",
       "         [5.7, 2.9, 4.2, 1.3],\n",
       "         [6.3, 3.3, 4.7, 1.6],\n",
       "         [5. , 3.2, 1.2, 0.2],\n",
       "         [7.7, 2.8, 6.7, 2. ],\n",
       "         [7.3, 2.9, 6.3, 1.8],\n",
       "         [6.6, 2.9, 4.6, 1.3],\n",
       "         [4.9, 3.6, 1.4, 0.1],\n",
       "         [6.4, 2.8, 5.6, 2.1],\n",
       "         [6.1, 2.9, 4.7, 1.4],\n",
       "         [6.4, 3.2, 5.3, 2.3],\n",
       "         [6.2, 2.8, 4.8, 1.8],\n",
       "         [5.1, 3.8, 1.9, 0.4],\n",
       "         [7. , 3.2, 4.7, 1.4],\n",
       "         [4.4, 3.2, 1.3, 0.2],\n",
       "         [6.1, 2.8, 4. , 1.3],\n",
       "         [5. , 3.5, 1.3, 0.3],\n",
       "         [5.8, 2.7, 3.9, 1.2],\n",
       "         [6.4, 2.9, 4.3, 1.3],\n",
       "         [7.2, 3.2, 6. , 1.8],\n",
       "         [5.7, 3. , 4.2, 1.2],\n",
       "         [4.4, 2.9, 1.4, 0.2],\n",
       "         [6.1, 2.6, 5.6, 1.4],\n",
       "         [6. , 3.4, 4.5, 1.6],\n",
       "         [6.7, 3.3, 5.7, 2.5],\n",
       "         [5.1, 3.5, 1.4, 0.3],\n",
       "         [5.9, 3.2, 4.8, 1.8],\n",
       "         [5.7, 2.5, 5. , 2. ],\n",
       "         [5.6, 2.7, 4.2, 1.3],\n",
       "         [4.6, 3.6, 1. , 0.2],\n",
       "         [4.8, 3. , 1.4, 0.1],\n",
       "         [5.7, 2.8, 4.1, 1.3],\n",
       "         [6.1, 3. , 4.6, 1.4],\n",
       "         [4.9, 2.4, 3.3, 1. ],\n",
       "         [4.8, 3. , 1.4, 0.3],\n",
       "         [6.3, 2.8, 5.1, 1.5],\n",
       "         [5.1, 3.7, 1.5, 0.4],\n",
       "         [5.6, 2.9, 3.6, 1.3],\n",
       "         [6.9, 3.1, 5.1, 2.3],\n",
       "         [6.5, 3. , 5.8, 2.2],\n",
       "         [7.4, 2.8, 6.1, 1.9],\n",
       "         [5.6, 3. , 4.1, 1.3],\n",
       "         [5. , 3.5, 1.6, 0.6],\n",
       "         [6.9, 3.1, 4.9, 1.5],\n",
       "         [6.5, 2.8, 4.6, 1.5],\n",
       "         [6. , 2.2, 5. , 1.5],\n",
       "         [4.3, 3. , 1.1, 0.1],\n",
       "         [6.7, 3. , 5.2, 2.3],\n",
       "         [5.7, 3.8, 1.7, 0.3],\n",
       "         [4.9, 3. , 1.4, 0.2],\n",
       "         [5.2, 2.7, 3.9, 1.4],\n",
       "         [6.7, 3.1, 5.6, 2.4],\n",
       "         [6.7, 2.5, 5.8, 1.8],\n",
       "         [4.6, 3.1, 1.5, 0.2],\n",
       "         [7.7, 2.6, 6.9, 2.3],\n",
       "         [4.7, 3.2, 1.6, 0.2],\n",
       "         [6.8, 3.2, 5.9, 2.3],\n",
       "         [7.2, 3.6, 6.1, 2.5],\n",
       "         [6.2, 2.2, 4.5, 1.5],\n",
       "         [5.9, 3. , 4.2, 1.5],\n",
       "         [6.3, 2.9, 5.6, 1.8],\n",
       "         [6. , 2.9, 4.5, 1.5],\n",
       "         [6.4, 2.8, 5.6, 2.2],\n",
       "         [5.3, 3.7, 1.5, 0.2],\n",
       "         [6.6, 3. , 4.4, 1.4],\n",
       "         [6. , 2.7, 5.1, 1.6],\n",
       "         [5.7, 2.8, 4.5, 1.3],\n",
       "         [5.4, 3.7, 1.5, 0.2],\n",
       "         [6.3, 3.3, 6. , 2.5],\n",
       "         [4.6, 3.4, 1.4, 0.3],\n",
       "         [6.7, 3.1, 4.7, 1.5],\n",
       "         [4.9, 3.1, 1.5, 0.1],\n",
       "         [5.8, 2.8, 5.1, 2.4],\n",
       "         [4.7, 3.2, 1.3, 0.2],\n",
       "         [5.7, 4.4, 1.5, 0.4],\n",
       "         [6.1, 2.8, 4.7, 1.2],\n",
       "         [5.2, 3.4, 1.4, 0.2],\n",
       "         [5. , 2. , 3.5, 1. ],\n",
       "         [7.6, 3. , 6.6, 2.1],\n",
       "         [5.1, 3.8, 1.6, 0.2],\n",
       "         [5.4, 3. , 4.5, 1.5],\n",
       "         [4.9, 2.5, 4.5, 1.7],\n",
       "         [6.2, 2.9, 4.3, 1.3],\n",
       "         [5.4, 3.9, 1.7, 0.4],\n",
       "         [6.5, 3. , 5.5, 1.8],\n",
       "         [6.4, 3.1, 5.5, 1.8],\n",
       "         [5.1, 3.8, 1.5, 0.3],\n",
       "         [5.6, 3. , 4.5, 1.5],\n",
       "         [6.3, 2.7, 4.9, 1.8],\n",
       "         [7.9, 3.8, 6.4, 2. ],\n",
       "         [6.3, 2.5, 4.9, 1.5],\n",
       "         [4.4, 3. , 1.3, 0.2],\n",
       "         [4.8, 3.4, 1.6, 0.2],\n",
       "         [6.3, 2.5, 5. , 1.9],\n",
       "         [5.1, 3.3, 1.7, 0.5],\n",
       "         [5.2, 4.1, 1.5, 0.1],\n",
       "         [5.1, 3.5, 1.4, 0.2],\n",
       "         [5. , 3.3, 1.4, 0.2],\n",
       "         [6.7, 3.3, 5.7, 2.1],\n",
       "         [7.2, 3. , 5.8, 1.6]]),\n",
       "  'labels': array([], shape=(102, 0), dtype=float64)},\n",
       " 'test': {'features': array([[5.6, 2.8, 4.9, 2. ],\n",
       "         [6.4, 2.7, 5.3, 1.9],\n",
       "         [4.8, 3.4, 1.9, 0.2],\n",
       "         [5.7, 2.6, 3.5, 1. ],\n",
       "         [5. , 3.4, 1.6, 0.4],\n",
       "         [5.5, 2.5, 4. , 1.3],\n",
       "         [6.9, 3.2, 5.7, 2.3],\n",
       "         [5. , 2.3, 3.3, 1. ],\n",
       "         [4.8, 3.1, 1.6, 0.2],\n",
       "         [5.5, 3.5, 1.3, 0.2],\n",
       "         [6. , 2.2, 4. , 1. ],\n",
       "         [5.8, 2.7, 5.1, 1.9],\n",
       "         [6.1, 3. , 4.9, 1.8],\n",
       "         [5.5, 2.6, 4.4, 1.2],\n",
       "         [4.9, 3.1, 1.5, 0.2],\n",
       "         [4.6, 3.2, 1.4, 0.2],\n",
       "         [5.6, 2.5, 3.9, 1.1],\n",
       "         [6.7, 3.1, 4.4, 1.4],\n",
       "         [5.8, 2.7, 5.1, 1.9],\n",
       "         [5.5, 2.3, 4. , 1.3],\n",
       "         [5.1, 2.5, 3. , 1.1],\n",
       "         [5.4, 3.9, 1.3, 0.4],\n",
       "         [6.2, 3.4, 5.4, 2.3],\n",
       "         [6.3, 2.3, 4.4, 1.3],\n",
       "         [5.8, 4. , 1.2, 0.2],\n",
       "         [6.3, 3.4, 5.6, 2.4],\n",
       "         [4.5, 2.3, 1.3, 0.3],\n",
       "         [6.9, 3.1, 5.4, 2.1],\n",
       "         [5.4, 3.4, 1.7, 0.2],\n",
       "         [6. , 3. , 4.8, 1.8]]),\n",
       "  'labels': array([], shape=(30, 0), dtype=float64)}}"
      ]
     },
     "execution_count": 14,
     "metadata": {},
     "output_type": "execute_result"
    }
   ],
   "source": [
    "splitset_train68_val12_test20.to_numpy()"
   ]
  },
  {
   "cell_type": "markdown",
   "metadata": {},
   "source": [
    "---"
   ]
  },
  {
   "cell_type": "code",
   "execution_count": 9,
   "metadata": {},
   "outputs": [],
   "source": [
    "featureset = aidb.Featureset.from_dataset(\n",
    "    dataset_id = 1\n",
    "    , include_columns = None\n",
    "    , exclude_columns = None\n",
    ")"
   ]
  },
  {
   "cell_type": "code",
   "execution_count": 11,
   "metadata": {},
   "outputs": [],
   "source": [
    "featureset = aidb.Featureset.from_dataset(\n",
    "    dataset_id = 1\n",
    "    , include_columns = ['petal width (cm)', 'petal length (cm)']\n",
    "    , exclude_columns = None\n",
    ")"
   ]
  },
  {
   "cell_type": "code",
   "execution_count": 12,
   "metadata": {
    "collapsed": true,
    "jupyter": {
     "outputs_hidden": true
    }
   },
   "outputs": [
    {
     "ename": "ValueError",
     "evalue": "\nYikes - This Dataset already has Featureset <id:3> with the same columns.\nCannot create duplicate.\n",
     "output_type": "error",
     "traceback": [
      "\u001b[0;31m---------------------------------------------------------------------------\u001b[0m",
      "\u001b[0;31mValueError\u001b[0m                                Traceback (most recent call last)",
      "\u001b[0;32m<ipython-input-12-2bb819128442>\u001b[0m in \u001b[0;36m<module>\u001b[0;34m\u001b[0m\n\u001b[1;32m      2\u001b[0m     \u001b[0mdataset_id\u001b[0m \u001b[0;34m=\u001b[0m \u001b[0;36m1\u001b[0m\u001b[0;34m\u001b[0m\u001b[0;34m\u001b[0m\u001b[0m\n\u001b[1;32m      3\u001b[0m     \u001b[0;34m,\u001b[0m \u001b[0minclude_columns\u001b[0m \u001b[0;34m=\u001b[0m \u001b[0;34m[\u001b[0m\u001b[0;34m'petal width (cm)'\u001b[0m\u001b[0;34m,\u001b[0m \u001b[0;34m'petal length (cm)'\u001b[0m\u001b[0;34m]\u001b[0m\u001b[0;34m\u001b[0m\u001b[0;34m\u001b[0m\u001b[0m\n\u001b[0;32m----> 4\u001b[0;31m     \u001b[0;34m,\u001b[0m \u001b[0mexclude_columns\u001b[0m \u001b[0;34m=\u001b[0m \u001b[0;32mNone\u001b[0m\u001b[0;34m\u001b[0m\u001b[0;34m\u001b[0m\u001b[0m\n\u001b[0m\u001b[1;32m      5\u001b[0m )\n",
      "\u001b[0;32m~/Desktop/pydatasci/pydatasci/aidb/__init__.py\u001b[0m in \u001b[0;36mfrom_dataset\u001b[0;34m(dataset_id, include_columns, exclude_columns)\u001b[0m\n\u001b[1;32m    426\u001b[0m                                         \u001b[0mf_cols_alpha\u001b[0m \u001b[0;34m=\u001b[0m \u001b[0;32mNone\u001b[0m\u001b[0;34m\u001b[0m\u001b[0;34m\u001b[0m\u001b[0m\n\u001b[1;32m    427\u001b[0m                                 \u001b[0;32mif\u001b[0m \u001b[0mcols_aplha\u001b[0m \u001b[0;34m==\u001b[0m \u001b[0mf_cols_alpha\u001b[0m\u001b[0;34m:\u001b[0m\u001b[0;34m\u001b[0m\u001b[0;34m\u001b[0m\u001b[0m\n\u001b[0;32m--> 428\u001b[0;31m                                         \u001b[0;32mraise\u001b[0m \u001b[0mValueError\u001b[0m\u001b[0;34m(\u001b[0m\u001b[0;34m\"\\nYikes - This Dataset already has Featureset <id:\"\u001b[0m \u001b[0;34m+\u001b[0m \u001b[0mf_id\u001b[0m \u001b[0;34m+\u001b[0m \u001b[0;34m\"> with the same columns.\\nCannot create duplicate.\\n\"\u001b[0m\u001b[0;34m)\u001b[0m\u001b[0;34m\u001b[0m\u001b[0;34m\u001b[0m\u001b[0m\n\u001b[0m\u001b[1;32m    429\u001b[0m \u001b[0;34m\u001b[0m\u001b[0m\n\u001b[1;32m    430\u001b[0m \t\tf = Featureset.create(\n",
      "\u001b[0;31mValueError\u001b[0m: \nYikes - This Dataset already has Featureset <id:3> with the same columns.\nCannot create duplicate.\n"
     ]
    }
   ],
   "source": [
    "featureset = aidb.Featureset.from_dataset(\n",
    "    dataset_id = 1\n",
    "    , include_columns = ['petal width (cm)', 'petal length (cm)']\n",
    "    , exclude_columns = None\n",
    ")"
   ]
  },
  {
   "cell_type": "markdown",
   "metadata": {},
   "source": [
    "---"
   ]
  },
  {
   "cell_type": "code",
   "execution_count": 17,
   "metadata": {},
   "outputs": [],
   "source": [
    "def check_s(s):\n",
    "    print(s.sizes)\n",
    "    print(s.is_validated)\n",
    "    print(s.is_folded)"
   ]
  },
  {
   "cell_type": "code",
   "execution_count": 18,
   "metadata": {},
   "outputs": [],
   "source": [
    "s1 = aidb.Splitset.from_featureset(featureset_id=f1.id, size_test=0.20, size_validation=0.12)"
   ]
  },
  {
   "cell_type": "code",
   "execution_count": 19,
   "metadata": {},
   "outputs": [
    {
     "name": "stdout",
     "output_type": "stream",
     "text": [
      "{'validation': {'percent': 0.12, 'count': 18}, 'test': {'percent': 0.2, 'count': 30}, 'train': {'percent': 0.68, 'count': 102}}\n",
      "True\n",
      "False\n"
     ]
    }
   ],
   "source": [
    "check_s(s1)"
   ]
  },
  {
   "cell_type": "code",
   "execution_count": 20,
   "metadata": {},
   "outputs": [],
   "source": [
    "s2 = aidb.Splitset.from_featureset(featureset_id=f1.id, size_test=0.20)"
   ]
  },
  {
   "cell_type": "code",
   "execution_count": 21,
   "metadata": {},
   "outputs": [
    {
     "name": "stdout",
     "output_type": "stream",
     "text": [
      "{'test': {'percent': 0.2, 'count': 30}, 'train': {'percent': 0.8, 'count': 120}}\n",
      "False\n",
      "False\n"
     ]
    }
   ],
   "source": [
    "check_s(s2)"
   ]
  },
  {
   "cell_type": "code",
   "execution_count": 22,
   "metadata": {},
   "outputs": [],
   "source": [
    "s3 = aidb.Splitset.from_featureset(featureset_id=f4.id)"
   ]
  },
  {
   "cell_type": "code",
   "execution_count": 23,
   "metadata": {},
   "outputs": [
    {
     "name": "stdout",
     "output_type": "stream",
     "text": [
      "{'train': {'percent': 1.0, 'count': 150}}\n",
      "False\n",
      "False\n"
     ]
    }
   ],
   "source": [
    "check_s(s3)"
   ]
  },
  {
   "cell_type": "code",
   "execution_count": 24,
   "metadata": {},
   "outputs": [],
   "source": [
    "s4 = aidb.Splitset.from_featureset(featureset_id=f1.id)"
   ]
  },
  {
   "cell_type": "code",
   "execution_count": 25,
   "metadata": {},
   "outputs": [
    {
     "name": "stdout",
     "output_type": "stream",
     "text": [
      "{'test': {'percent': 0.25, 'count': 38}, 'train': {'percent': 0.75, 'count': 112}}\n",
      "False\n",
      "False\n"
     ]
    }
   ],
   "source": [
    "check_s(s4)"
   ]
  },
  {
   "cell_type": "code",
   "execution_count": 26,
   "metadata": {
    "collapsed": true,
    "jupyter": {
     "outputs_hidden": true
    }
   },
   "outputs": [
    {
     "data": {
      "text/plain": [
       "{'validation': {'features': array([[5.1, 3.7, 1.5, 0.4],\n",
       "         [4.9, 3.6, 1.4, 0.1],\n",
       "         [6. , 2.2, 5. , 1.5],\n",
       "         [6.4, 2.8, 5.6, 2.1],\n",
       "         [6.3, 2.5, 5. , 1.9],\n",
       "         [5.7, 2.8, 4.5, 1.3],\n",
       "         [6.5, 3. , 5.2, 2. ],\n",
       "         [5.7, 2.8, 4.1, 1.3],\n",
       "         [6.7, 3.1, 4.4, 1.4],\n",
       "         [6.9, 3.1, 4.9, 1.5],\n",
       "         [5.6, 2.9, 3.6, 1.3],\n",
       "         [5. , 3.3, 1.4, 0.2],\n",
       "         [5. , 3. , 1.6, 0.2],\n",
       "         [6.2, 3.4, 5.4, 2.3],\n",
       "         [5.7, 4.4, 1.5, 0.4],\n",
       "         [6.4, 2.8, 5.6, 2.2],\n",
       "         [5.8, 4. , 1.2, 0.2],\n",
       "         [4.9, 3.1, 1.5, 0.1],\n",
       "         [4.6, 3.2, 1.4, 0.2],\n",
       "         [6.1, 2.6, 5.6, 1.4],\n",
       "         [6.7, 3. , 5. , 1.7],\n",
       "         [5.1, 2.5, 3. , 1.1],\n",
       "         [5.5, 4.2, 1.4, 0.2],\n",
       "         [4.6, 3.1, 1.5, 0.2],\n",
       "         [6.3, 3.3, 4.7, 1.6],\n",
       "         [5.4, 3. , 4.5, 1.5],\n",
       "         [7.6, 3. , 6.6, 2.1],\n",
       "         [6.7, 3.1, 5.6, 2.4],\n",
       "         [6.3, 2.7, 4.9, 1.8],\n",
       "         [7. , 3.2, 4.7, 1.4]]),\n",
       "  'labels': array([[0.],\n",
       "         [0.],\n",
       "         [2.],\n",
       "         [2.],\n",
       "         [2.],\n",
       "         [1.],\n",
       "         [2.],\n",
       "         [1.],\n",
       "         [1.],\n",
       "         [1.],\n",
       "         [1.],\n",
       "         [0.],\n",
       "         [0.],\n",
       "         [2.],\n",
       "         [0.],\n",
       "         [2.],\n",
       "         [0.],\n",
       "         [0.],\n",
       "         [0.],\n",
       "         [2.],\n",
       "         [1.],\n",
       "         [1.],\n",
       "         [0.],\n",
       "         [0.],\n",
       "         [1.],\n",
       "         [1.],\n",
       "         [2.],\n",
       "         [2.],\n",
       "         [2.],\n",
       "         [1.]])},\n",
       " 'train': {'features': array([[5.1, 3.7, 1.5, 0.4],\n",
       "         [4.9, 3.6, 1.4, 0.1],\n",
       "         [6. , 2.2, 5. , 1.5],\n",
       "         [6.4, 2.8, 5.6, 2.1],\n",
       "         [6.3, 2.5, 5. , 1.9],\n",
       "         [5.7, 2.8, 4.5, 1.3],\n",
       "         [6.5, 3. , 5.2, 2. ],\n",
       "         [5.7, 2.8, 4.1, 1.3],\n",
       "         [6.7, 3.1, 4.4, 1.4],\n",
       "         [6.9, 3.1, 4.9, 1.5],\n",
       "         [5.6, 2.9, 3.6, 1.3],\n",
       "         [5. , 3.3, 1.4, 0.2],\n",
       "         [5. , 3. , 1.6, 0.2],\n",
       "         [6.2, 3.4, 5.4, 2.3],\n",
       "         [5.7, 4.4, 1.5, 0.4],\n",
       "         [6.4, 2.8, 5.6, 2.2],\n",
       "         [5.8, 4. , 1.2, 0.2],\n",
       "         [4.9, 3.1, 1.5, 0.1],\n",
       "         [4.6, 3.2, 1.4, 0.2],\n",
       "         [6.1, 2.6, 5.6, 1.4],\n",
       "         [6.7, 3. , 5. , 1.7],\n",
       "         [5.1, 2.5, 3. , 1.1],\n",
       "         [5.5, 4.2, 1.4, 0.2],\n",
       "         [4.6, 3.1, 1.5, 0.2],\n",
       "         [6.3, 3.3, 4.7, 1.6],\n",
       "         [5.4, 3. , 4.5, 1.5],\n",
       "         [7.6, 3. , 6.6, 2.1],\n",
       "         [6.7, 3.1, 5.6, 2.4],\n",
       "         [6.3, 2.7, 4.9, 1.8],\n",
       "         [7. , 3.2, 4.7, 1.4]]),\n",
       "  'labels': array([[0.],\n",
       "         [0.],\n",
       "         [2.],\n",
       "         [2.],\n",
       "         [2.],\n",
       "         [1.],\n",
       "         [2.],\n",
       "         [1.],\n",
       "         [1.],\n",
       "         [1.],\n",
       "         [1.],\n",
       "         [0.],\n",
       "         [0.],\n",
       "         [2.],\n",
       "         [0.],\n",
       "         [2.],\n",
       "         [0.],\n",
       "         [0.],\n",
       "         [0.],\n",
       "         [2.],\n",
       "         [1.],\n",
       "         [1.],\n",
       "         [0.],\n",
       "         [0.],\n",
       "         [1.],\n",
       "         [1.],\n",
       "         [2.],\n",
       "         [2.],\n",
       "         [2.],\n",
       "         [1.]])},\n",
       " 'test': {'features': array([[5.1, 3.7, 1.5, 0.4],\n",
       "         [4.9, 3.6, 1.4, 0.1],\n",
       "         [6. , 2.2, 5. , 1.5],\n",
       "         [6.4, 2.8, 5.6, 2.1],\n",
       "         [6.3, 2.5, 5. , 1.9],\n",
       "         [5.7, 2.8, 4.5, 1.3],\n",
       "         [6.5, 3. , 5.2, 2. ],\n",
       "         [5.7, 2.8, 4.1, 1.3],\n",
       "         [6.7, 3.1, 4.4, 1.4],\n",
       "         [6.9, 3.1, 4.9, 1.5],\n",
       "         [5.6, 2.9, 3.6, 1.3],\n",
       "         [5. , 3.3, 1.4, 0.2],\n",
       "         [5. , 3. , 1.6, 0.2],\n",
       "         [6.2, 3.4, 5.4, 2.3],\n",
       "         [5.7, 4.4, 1.5, 0.4],\n",
       "         [6.4, 2.8, 5.6, 2.2],\n",
       "         [5.8, 4. , 1.2, 0.2],\n",
       "         [4.9, 3.1, 1.5, 0.1],\n",
       "         [4.6, 3.2, 1.4, 0.2],\n",
       "         [6.1, 2.6, 5.6, 1.4],\n",
       "         [6.7, 3. , 5. , 1.7],\n",
       "         [5.1, 2.5, 3. , 1.1],\n",
       "         [5.5, 4.2, 1.4, 0.2],\n",
       "         [4.6, 3.1, 1.5, 0.2],\n",
       "         [6.3, 3.3, 4.7, 1.6],\n",
       "         [5.4, 3. , 4.5, 1.5],\n",
       "         [7.6, 3. , 6.6, 2.1],\n",
       "         [6.7, 3.1, 5.6, 2.4],\n",
       "         [6.3, 2.7, 4.9, 1.8],\n",
       "         [7. , 3.2, 4.7, 1.4]]),\n",
       "  'labels': array([[0.],\n",
       "         [0.],\n",
       "         [2.],\n",
       "         [2.],\n",
       "         [2.],\n",
       "         [1.],\n",
       "         [2.],\n",
       "         [1.],\n",
       "         [1.],\n",
       "         [1.],\n",
       "         [1.],\n",
       "         [0.],\n",
       "         [0.],\n",
       "         [2.],\n",
       "         [0.],\n",
       "         [2.],\n",
       "         [0.],\n",
       "         [0.],\n",
       "         [0.],\n",
       "         [2.],\n",
       "         [1.],\n",
       "         [1.],\n",
       "         [0.],\n",
       "         [0.],\n",
       "         [1.],\n",
       "         [1.],\n",
       "         [2.],\n",
       "         [2.],\n",
       "         [2.],\n",
       "         [1.]])}}"
      ]
     },
     "execution_count": 26,
     "metadata": {},
     "output_type": "execute_result"
    }
   ],
   "source": [
    "s1.to_numpy()"
   ]
  },
  {
   "cell_type": "code",
   "execution_count": 27,
   "metadata": {
    "collapsed": true,
    "jupyter": {
     "outputs_hidden": true
    }
   },
   "outputs": [
    {
     "data": {
      "text/plain": [
       "{'train': {'features': array([[6.5, 3. , 5.5, 1.8],\n",
       "         [7.7, 3. , 6.1, 2.3],\n",
       "         [5.1, 2.5, 3. , 1.1],\n",
       "         [5. , 3. , 1.6, 0.2],\n",
       "         [4.6, 3.4, 1.4, 0.3],\n",
       "         [4.6, 3.1, 1.5, 0.2],\n",
       "         [5.1, 3.8, 1.9, 0.4],\n",
       "         [6.7, 3. , 5.2, 2.3],\n",
       "         [6.9, 3.1, 5.4, 2.1],\n",
       "         [5.4, 3.9, 1.3, 0.4],\n",
       "         [5.6, 3. , 4.1, 1.3],\n",
       "         [5. , 3.4, 1.6, 0.4],\n",
       "         [5.5, 2.5, 4. , 1.3],\n",
       "         [5.1, 3.3, 1.7, 0.5],\n",
       "         [6.3, 3.4, 5.6, 2.4],\n",
       "         [6. , 2.2, 5. , 1.5],\n",
       "         [5. , 2.3, 3.3, 1. ],\n",
       "         [5. , 3.6, 1.4, 0.2],\n",
       "         [5.8, 2.7, 5.1, 1.9],\n",
       "         [6.2, 2.2, 4.5, 1.5],\n",
       "         [6.7, 3.1, 4.7, 1.5],\n",
       "         [5.5, 2.4, 3.8, 1.1],\n",
       "         [6.9, 3.1, 4.9, 1.5],\n",
       "         [6.5, 2.8, 4.6, 1.5],\n",
       "         [7.4, 2.8, 6.1, 1.9],\n",
       "         [5.4, 3.9, 1.7, 0.4],\n",
       "         [6.2, 3.4, 5.4, 2.3],\n",
       "         [5.8, 4. , 1.2, 0.2],\n",
       "         [6.3, 2.5, 5. , 1.9],\n",
       "         [5.7, 2.6, 3.5, 1. ]]),\n",
       "  'labels': array([[2.],\n",
       "         [2.],\n",
       "         [1.],\n",
       "         [0.],\n",
       "         [0.],\n",
       "         [0.],\n",
       "         [0.],\n",
       "         [2.],\n",
       "         [2.],\n",
       "         [0.],\n",
       "         [1.],\n",
       "         [0.],\n",
       "         [1.],\n",
       "         [0.],\n",
       "         [2.],\n",
       "         [2.],\n",
       "         [1.],\n",
       "         [0.],\n",
       "         [2.],\n",
       "         [1.],\n",
       "         [1.],\n",
       "         [1.],\n",
       "         [1.],\n",
       "         [1.],\n",
       "         [2.],\n",
       "         [0.],\n",
       "         [2.],\n",
       "         [0.],\n",
       "         [2.],\n",
       "         [1.]])},\n",
       " 'test': {'features': array([[6.5, 3. , 5.5, 1.8],\n",
       "         [7.7, 3. , 6.1, 2.3],\n",
       "         [5.1, 2.5, 3. , 1.1],\n",
       "         [5. , 3. , 1.6, 0.2],\n",
       "         [4.6, 3.4, 1.4, 0.3],\n",
       "         [4.6, 3.1, 1.5, 0.2],\n",
       "         [5.1, 3.8, 1.9, 0.4],\n",
       "         [6.7, 3. , 5.2, 2.3],\n",
       "         [6.9, 3.1, 5.4, 2.1],\n",
       "         [5.4, 3.9, 1.3, 0.4],\n",
       "         [5.6, 3. , 4.1, 1.3],\n",
       "         [5. , 3.4, 1.6, 0.4],\n",
       "         [5.5, 2.5, 4. , 1.3],\n",
       "         [5.1, 3.3, 1.7, 0.5],\n",
       "         [6.3, 3.4, 5.6, 2.4],\n",
       "         [6. , 2.2, 5. , 1.5],\n",
       "         [5. , 2.3, 3.3, 1. ],\n",
       "         [5. , 3.6, 1.4, 0.2],\n",
       "         [5.8, 2.7, 5.1, 1.9],\n",
       "         [6.2, 2.2, 4.5, 1.5],\n",
       "         [6.7, 3.1, 4.7, 1.5],\n",
       "         [5.5, 2.4, 3.8, 1.1],\n",
       "         [6.9, 3.1, 4.9, 1.5],\n",
       "         [6.5, 2.8, 4.6, 1.5],\n",
       "         [7.4, 2.8, 6.1, 1.9],\n",
       "         [5.4, 3.9, 1.7, 0.4],\n",
       "         [6.2, 3.4, 5.4, 2.3],\n",
       "         [5.8, 4. , 1.2, 0.2],\n",
       "         [6.3, 2.5, 5. , 1.9],\n",
       "         [5.7, 2.6, 3.5, 1. ]]),\n",
       "  'labels': array([[2.],\n",
       "         [2.],\n",
       "         [1.],\n",
       "         [0.],\n",
       "         [0.],\n",
       "         [0.],\n",
       "         [0.],\n",
       "         [2.],\n",
       "         [2.],\n",
       "         [0.],\n",
       "         [1.],\n",
       "         [0.],\n",
       "         [1.],\n",
       "         [0.],\n",
       "         [2.],\n",
       "         [2.],\n",
       "         [1.],\n",
       "         [0.],\n",
       "         [2.],\n",
       "         [1.],\n",
       "         [1.],\n",
       "         [1.],\n",
       "         [1.],\n",
       "         [1.],\n",
       "         [2.],\n",
       "         [0.],\n",
       "         [2.],\n",
       "         [0.],\n",
       "         [2.],\n",
       "         [1.]])}}"
      ]
     },
     "execution_count": 27,
     "metadata": {},
     "output_type": "execute_result"
    }
   ],
   "source": [
    "s2.to_numpy()"
   ]
  },
  {
   "cell_type": "code",
   "execution_count": 28,
   "metadata": {
    "collapsed": true,
    "jupyter": {
     "outputs_hidden": true
    }
   },
   "outputs": [
    {
     "data": {
      "text/plain": [
       "{'train': {'features': array([[5.1, 3.5, 1.4, 0.2, 0. ],\n",
       "         [4.9, 3. , 1.4, 0.2, 0. ],\n",
       "         [4.7, 3.2, 1.3, 0.2, 0. ],\n",
       "         [4.6, 3.1, 1.5, 0.2, 0. ],\n",
       "         [5. , 3.6, 1.4, 0.2, 0. ],\n",
       "         [5.4, 3.9, 1.7, 0.4, 0. ],\n",
       "         [4.6, 3.4, 1.4, 0.3, 0. ],\n",
       "         [5. , 3.4, 1.5, 0.2, 0. ],\n",
       "         [4.4, 2.9, 1.4, 0.2, 0. ],\n",
       "         [4.9, 3.1, 1.5, 0.1, 0. ],\n",
       "         [5.4, 3.7, 1.5, 0.2, 0. ],\n",
       "         [4.8, 3.4, 1.6, 0.2, 0. ],\n",
       "         [4.8, 3. , 1.4, 0.1, 0. ],\n",
       "         [4.3, 3. , 1.1, 0.1, 0. ],\n",
       "         [5.8, 4. , 1.2, 0.2, 0. ],\n",
       "         [5.7, 4.4, 1.5, 0.4, 0. ],\n",
       "         [5.4, 3.9, 1.3, 0.4, 0. ],\n",
       "         [5.1, 3.5, 1.4, 0.3, 0. ],\n",
       "         [5.7, 3.8, 1.7, 0.3, 0. ],\n",
       "         [5.1, 3.8, 1.5, 0.3, 0. ],\n",
       "         [5.4, 3.4, 1.7, 0.2, 0. ],\n",
       "         [5.1, 3.7, 1.5, 0.4, 0. ],\n",
       "         [4.6, 3.6, 1. , 0.2, 0. ],\n",
       "         [5.1, 3.3, 1.7, 0.5, 0. ],\n",
       "         [4.8, 3.4, 1.9, 0.2, 0. ],\n",
       "         [5. , 3. , 1.6, 0.2, 0. ],\n",
       "         [5. , 3.4, 1.6, 0.4, 0. ],\n",
       "         [5.2, 3.5, 1.5, 0.2, 0. ],\n",
       "         [5.2, 3.4, 1.4, 0.2, 0. ],\n",
       "         [4.7, 3.2, 1.6, 0.2, 0. ],\n",
       "         [4.8, 3.1, 1.6, 0.2, 0. ],\n",
       "         [5.4, 3.4, 1.5, 0.4, 0. ],\n",
       "         [5.2, 4.1, 1.5, 0.1, 0. ],\n",
       "         [5.5, 4.2, 1.4, 0.2, 0. ],\n",
       "         [4.9, 3.1, 1.5, 0.2, 0. ],\n",
       "         [5. , 3.2, 1.2, 0.2, 0. ],\n",
       "         [5.5, 3.5, 1.3, 0.2, 0. ],\n",
       "         [4.9, 3.6, 1.4, 0.1, 0. ],\n",
       "         [4.4, 3. , 1.3, 0.2, 0. ],\n",
       "         [5.1, 3.4, 1.5, 0.2, 0. ],\n",
       "         [5. , 3.5, 1.3, 0.3, 0. ],\n",
       "         [4.5, 2.3, 1.3, 0.3, 0. ],\n",
       "         [4.4, 3.2, 1.3, 0.2, 0. ],\n",
       "         [5. , 3.5, 1.6, 0.6, 0. ],\n",
       "         [5.1, 3.8, 1.9, 0.4, 0. ],\n",
       "         [4.8, 3. , 1.4, 0.3, 0. ],\n",
       "         [5.1, 3.8, 1.6, 0.2, 0. ],\n",
       "         [4.6, 3.2, 1.4, 0.2, 0. ],\n",
       "         [5.3, 3.7, 1.5, 0.2, 0. ],\n",
       "         [5. , 3.3, 1.4, 0.2, 0. ],\n",
       "         [7. , 3.2, 4.7, 1.4, 1. ],\n",
       "         [6.4, 3.2, 4.5, 1.5, 1. ],\n",
       "         [6.9, 3.1, 4.9, 1.5, 1. ],\n",
       "         [5.5, 2.3, 4. , 1.3, 1. ],\n",
       "         [6.5, 2.8, 4.6, 1.5, 1. ],\n",
       "         [5.7, 2.8, 4.5, 1.3, 1. ],\n",
       "         [6.3, 3.3, 4.7, 1.6, 1. ],\n",
       "         [4.9, 2.4, 3.3, 1. , 1. ],\n",
       "         [6.6, 2.9, 4.6, 1.3, 1. ],\n",
       "         [5.2, 2.7, 3.9, 1.4, 1. ],\n",
       "         [5. , 2. , 3.5, 1. , 1. ],\n",
       "         [5.9, 3. , 4.2, 1.5, 1. ],\n",
       "         [6. , 2.2, 4. , 1. , 1. ],\n",
       "         [6.1, 2.9, 4.7, 1.4, 1. ],\n",
       "         [5.6, 2.9, 3.6, 1.3, 1. ],\n",
       "         [6.7, 3.1, 4.4, 1.4, 1. ],\n",
       "         [5.6, 3. , 4.5, 1.5, 1. ],\n",
       "         [5.8, 2.7, 4.1, 1. , 1. ],\n",
       "         [6.2, 2.2, 4.5, 1.5, 1. ],\n",
       "         [5.6, 2.5, 3.9, 1.1, 1. ],\n",
       "         [5.9, 3.2, 4.8, 1.8, 1. ],\n",
       "         [6.1, 2.8, 4. , 1.3, 1. ],\n",
       "         [6.3, 2.5, 4.9, 1.5, 1. ],\n",
       "         [6.1, 2.8, 4.7, 1.2, 1. ],\n",
       "         [6.4, 2.9, 4.3, 1.3, 1. ],\n",
       "         [6.6, 3. , 4.4, 1.4, 1. ],\n",
       "         [6.8, 2.8, 4.8, 1.4, 1. ],\n",
       "         [6.7, 3. , 5. , 1.7, 1. ],\n",
       "         [6. , 2.9, 4.5, 1.5, 1. ],\n",
       "         [5.7, 2.6, 3.5, 1. , 1. ],\n",
       "         [5.5, 2.4, 3.8, 1.1, 1. ],\n",
       "         [5.5, 2.4, 3.7, 1. , 1. ],\n",
       "         [5.8, 2.7, 3.9, 1.2, 1. ],\n",
       "         [6. , 2.7, 5.1, 1.6, 1. ],\n",
       "         [5.4, 3. , 4.5, 1.5, 1. ],\n",
       "         [6. , 3.4, 4.5, 1.6, 1. ],\n",
       "         [6.7, 3.1, 4.7, 1.5, 1. ],\n",
       "         [6.3, 2.3, 4.4, 1.3, 1. ],\n",
       "         [5.6, 3. , 4.1, 1.3, 1. ],\n",
       "         [5.5, 2.5, 4. , 1.3, 1. ],\n",
       "         [5.5, 2.6, 4.4, 1.2, 1. ],\n",
       "         [6.1, 3. , 4.6, 1.4, 1. ],\n",
       "         [5.8, 2.6, 4. , 1.2, 1. ],\n",
       "         [5. , 2.3, 3.3, 1. , 1. ],\n",
       "         [5.6, 2.7, 4.2, 1.3, 1. ],\n",
       "         [5.7, 3. , 4.2, 1.2, 1. ],\n",
       "         [5.7, 2.9, 4.2, 1.3, 1. ],\n",
       "         [6.2, 2.9, 4.3, 1.3, 1. ],\n",
       "         [5.1, 2.5, 3. , 1.1, 1. ],\n",
       "         [5.7, 2.8, 4.1, 1.3, 1. ],\n",
       "         [6.3, 3.3, 6. , 2.5, 2. ],\n",
       "         [5.8, 2.7, 5.1, 1.9, 2. ],\n",
       "         [7.1, 3. , 5.9, 2.1, 2. ],\n",
       "         [6.3, 2.9, 5.6, 1.8, 2. ],\n",
       "         [6.5, 3. , 5.8, 2.2, 2. ],\n",
       "         [7.6, 3. , 6.6, 2.1, 2. ],\n",
       "         [4.9, 2.5, 4.5, 1.7, 2. ],\n",
       "         [7.3, 2.9, 6.3, 1.8, 2. ],\n",
       "         [6.7, 2.5, 5.8, 1.8, 2. ],\n",
       "         [7.2, 3.6, 6.1, 2.5, 2. ],\n",
       "         [6.5, 3.2, 5.1, 2. , 2. ],\n",
       "         [6.4, 2.7, 5.3, 1.9, 2. ],\n",
       "         [6.8, 3. , 5.5, 2.1, 2. ],\n",
       "         [5.7, 2.5, 5. , 2. , 2. ],\n",
       "         [5.8, 2.8, 5.1, 2.4, 2. ],\n",
       "         [6.4, 3.2, 5.3, 2.3, 2. ],\n",
       "         [6.5, 3. , 5.5, 1.8, 2. ],\n",
       "         [7.7, 3.8, 6.7, 2.2, 2. ],\n",
       "         [7.7, 2.6, 6.9, 2.3, 2. ],\n",
       "         [6. , 2.2, 5. , 1.5, 2. ],\n",
       "         [6.9, 3.2, 5.7, 2.3, 2. ],\n",
       "         [5.6, 2.8, 4.9, 2. , 2. ],\n",
       "         [7.7, 2.8, 6.7, 2. , 2. ],\n",
       "         [6.3, 2.7, 4.9, 1.8, 2. ],\n",
       "         [6.7, 3.3, 5.7, 2.1, 2. ],\n",
       "         [7.2, 3.2, 6. , 1.8, 2. ],\n",
       "         [6.2, 2.8, 4.8, 1.8, 2. ],\n",
       "         [6.1, 3. , 4.9, 1.8, 2. ],\n",
       "         [6.4, 2.8, 5.6, 2.1, 2. ],\n",
       "         [7.2, 3. , 5.8, 1.6, 2. ],\n",
       "         [7.4, 2.8, 6.1, 1.9, 2. ],\n",
       "         [7.9, 3.8, 6.4, 2. , 2. ],\n",
       "         [6.4, 2.8, 5.6, 2.2, 2. ],\n",
       "         [6.3, 2.8, 5.1, 1.5, 2. ],\n",
       "         [6.1, 2.6, 5.6, 1.4, 2. ],\n",
       "         [7.7, 3. , 6.1, 2.3, 2. ],\n",
       "         [6.3, 3.4, 5.6, 2.4, 2. ],\n",
       "         [6.4, 3.1, 5.5, 1.8, 2. ],\n",
       "         [6. , 3. , 4.8, 1.8, 2. ],\n",
       "         [6.9, 3.1, 5.4, 2.1, 2. ],\n",
       "         [6.7, 3.1, 5.6, 2.4, 2. ],\n",
       "         [6.9, 3.1, 5.1, 2.3, 2. ],\n",
       "         [5.8, 2.7, 5.1, 1.9, 2. ],\n",
       "         [6.8, 3.2, 5.9, 2.3, 2. ],\n",
       "         [6.7, 3.3, 5.7, 2.5, 2. ],\n",
       "         [6.7, 3. , 5.2, 2.3, 2. ],\n",
       "         [6.3, 2.5, 5. , 1.9, 2. ],\n",
       "         [6.5, 3. , 5.2, 2. , 2. ],\n",
       "         [6.2, 3.4, 5.4, 2.3, 2. ],\n",
       "         [5.9, 3. , 5.1, 1.8, 2. ]])}}"
      ]
     },
     "execution_count": 28,
     "metadata": {},
     "output_type": "execute_result"
    }
   ],
   "source": [
    "s3.to_numpy()"
   ]
  },
  {
   "cell_type": "code",
   "execution_count": 29,
   "metadata": {
    "collapsed": true,
    "jupyter": {
     "outputs_hidden": true
    }
   },
   "outputs": [
    {
     "data": {
      "text/plain": [
       "{'train': {'features': array([[4.6, 3.1, 1.5, 0.2],\n",
       "         [6.7, 3.3, 5.7, 2.5],\n",
       "         [5.1, 3.4, 1.5, 0.2],\n",
       "         [6.9, 3.2, 5.7, 2.3],\n",
       "         [4.5, 2.3, 1.3, 0.3],\n",
       "         [5.1, 3.8, 1.9, 0.4],\n",
       "         [6.3, 2.5, 5. , 1.9],\n",
       "         [5.5, 2.3, 4. , 1.3],\n",
       "         [6.4, 2.8, 5.6, 2.2],\n",
       "         [6. , 2.9, 4.5, 1.5],\n",
       "         [6.4, 2.9, 4.3, 1.3],\n",
       "         [5.8, 4. , 1.2, 0.2],\n",
       "         [4.6, 3.2, 1.4, 0.2],\n",
       "         [5.5, 2.5, 4. , 1.3],\n",
       "         [6.7, 3.1, 4.7, 1.5],\n",
       "         [5.6, 2.5, 3.9, 1.1],\n",
       "         [5.1, 3.8, 1.5, 0.3],\n",
       "         [6.7, 3.1, 5.6, 2.4],\n",
       "         [6.4, 3.2, 4.5, 1.5],\n",
       "         [6.3, 3.3, 4.7, 1.6],\n",
       "         [6.5, 3.2, 5.1, 2. ],\n",
       "         [6.2, 3.4, 5.4, 2.3],\n",
       "         [4.9, 2.4, 3.3, 1. ],\n",
       "         [6.3, 2.9, 5.6, 1.8],\n",
       "         [5.6, 3. , 4.1, 1.3],\n",
       "         [6.4, 3.1, 5.5, 1.8],\n",
       "         [4.8, 3. , 1.4, 0.1],\n",
       "         [6.1, 3. , 4.9, 1.8],\n",
       "         [5.5, 3.5, 1.3, 0.2],\n",
       "         [5.7, 3.8, 1.7, 0.3],\n",
       "         [5. , 3. , 1.6, 0.2],\n",
       "         [6.1, 2.9, 4.7, 1.4],\n",
       "         [6.5, 2.8, 4.6, 1.5],\n",
       "         [5.2, 3.4, 1.4, 0.2],\n",
       "         [5.4, 3.4, 1.5, 0.4],\n",
       "         [5.8, 2.7, 3.9, 1.2],\n",
       "         [6.5, 3. , 5.5, 1.8],\n",
       "         [6.9, 3.1, 5.4, 2.1]]),\n",
       "  'labels': array([[0.],\n",
       "         [2.],\n",
       "         [0.],\n",
       "         [2.],\n",
       "         [0.],\n",
       "         [0.],\n",
       "         [2.],\n",
       "         [1.],\n",
       "         [2.],\n",
       "         [1.],\n",
       "         [1.],\n",
       "         [0.],\n",
       "         [0.],\n",
       "         [1.],\n",
       "         [1.],\n",
       "         [1.],\n",
       "         [0.],\n",
       "         [2.],\n",
       "         [1.],\n",
       "         [1.],\n",
       "         [2.],\n",
       "         [2.],\n",
       "         [1.],\n",
       "         [2.],\n",
       "         [1.],\n",
       "         [2.],\n",
       "         [0.],\n",
       "         [2.],\n",
       "         [0.],\n",
       "         [0.],\n",
       "         [0.],\n",
       "         [1.],\n",
       "         [1.],\n",
       "         [0.],\n",
       "         [0.],\n",
       "         [1.],\n",
       "         [2.],\n",
       "         [2.]])},\n",
       " 'test': {'features': array([[4.6, 3.1, 1.5, 0.2],\n",
       "         [6.7, 3.3, 5.7, 2.5],\n",
       "         [5.1, 3.4, 1.5, 0.2],\n",
       "         [6.9, 3.2, 5.7, 2.3],\n",
       "         [4.5, 2.3, 1.3, 0.3],\n",
       "         [5.1, 3.8, 1.9, 0.4],\n",
       "         [6.3, 2.5, 5. , 1.9],\n",
       "         [5.5, 2.3, 4. , 1.3],\n",
       "         [6.4, 2.8, 5.6, 2.2],\n",
       "         [6. , 2.9, 4.5, 1.5],\n",
       "         [6.4, 2.9, 4.3, 1.3],\n",
       "         [5.8, 4. , 1.2, 0.2],\n",
       "         [4.6, 3.2, 1.4, 0.2],\n",
       "         [5.5, 2.5, 4. , 1.3],\n",
       "         [6.7, 3.1, 4.7, 1.5],\n",
       "         [5.6, 2.5, 3.9, 1.1],\n",
       "         [5.1, 3.8, 1.5, 0.3],\n",
       "         [6.7, 3.1, 5.6, 2.4],\n",
       "         [6.4, 3.2, 4.5, 1.5],\n",
       "         [6.3, 3.3, 4.7, 1.6],\n",
       "         [6.5, 3.2, 5.1, 2. ],\n",
       "         [6.2, 3.4, 5.4, 2.3],\n",
       "         [4.9, 2.4, 3.3, 1. ],\n",
       "         [6.3, 2.9, 5.6, 1.8],\n",
       "         [5.6, 3. , 4.1, 1.3],\n",
       "         [6.4, 3.1, 5.5, 1.8],\n",
       "         [4.8, 3. , 1.4, 0.1],\n",
       "         [6.1, 3. , 4.9, 1.8],\n",
       "         [5.5, 3.5, 1.3, 0.2],\n",
       "         [5.7, 3.8, 1.7, 0.3],\n",
       "         [5. , 3. , 1.6, 0.2],\n",
       "         [6.1, 2.9, 4.7, 1.4],\n",
       "         [6.5, 2.8, 4.6, 1.5],\n",
       "         [5.2, 3.4, 1.4, 0.2],\n",
       "         [5.4, 3.4, 1.5, 0.4],\n",
       "         [5.8, 2.7, 3.9, 1.2],\n",
       "         [6.5, 3. , 5.5, 1.8],\n",
       "         [6.9, 3.1, 5.4, 2.1]]),\n",
       "  'labels': array([[0.],\n",
       "         [2.],\n",
       "         [0.],\n",
       "         [2.],\n",
       "         [0.],\n",
       "         [0.],\n",
       "         [2.],\n",
       "         [1.],\n",
       "         [2.],\n",
       "         [1.],\n",
       "         [1.],\n",
       "         [0.],\n",
       "         [0.],\n",
       "         [1.],\n",
       "         [1.],\n",
       "         [1.],\n",
       "         [0.],\n",
       "         [2.],\n",
       "         [1.],\n",
       "         [1.],\n",
       "         [2.],\n",
       "         [2.],\n",
       "         [1.],\n",
       "         [2.],\n",
       "         [1.],\n",
       "         [2.],\n",
       "         [0.],\n",
       "         [2.],\n",
       "         [0.],\n",
       "         [0.],\n",
       "         [0.],\n",
       "         [1.],\n",
       "         [1.],\n",
       "         [0.],\n",
       "         [0.],\n",
       "         [1.],\n",
       "         [2.],\n",
       "         [2.]])}}"
      ]
     },
     "execution_count": 29,
     "metadata": {},
     "output_type": "execute_result"
    }
   ],
   "source": [
    "s4.to_numpy()"
   ]
  },
  {
   "cell_type": "markdown",
   "metadata": {},
   "source": [
    "---"
   ]
  },
  {
   "cell_type": "markdown",
   "metadata": {},
   "source": [
    "- For kfold I would not recommend multiple iterations.\n",
    "- For regular fold I would recommend it.\n",
    "\n",
    "> You either have a 2 (train-test) or 3 (train-val-test) way split. Then it's a question of whether or not you are generating kfolds in your training set.\n",
    "\n",
    "^ Can sklearn kfold preserve index?\n",
    "\n",
    "^ Stratified on continuous target?"
   ]
  },
  {
   "cell_type": "markdown",
   "metadata": {},
   "source": [
    "---"
   ]
  },
  {
   "cell_type": "markdown",
   "metadata": {},
   "source": [
    "Does train_test_split give different indices each time? = YES"
   ]
  },
  {
   "cell_type": "code",
   "execution_count": 35,
   "metadata": {},
   "outputs": [
    {
     "data": {
      "text/plain": [
       "['sepal length (cm)',\n",
       " 'sepal width (cm)',\n",
       " 'petal length (cm)',\n",
       " 'petal width (cm)']"
      ]
     },
     "execution_count": 35,
     "metadata": {},
     "output_type": "execute_result"
    }
   ],
   "source": [
    "f.columns"
   ]
  },
  {
   "cell_type": "code",
   "execution_count": 36,
   "metadata": {},
   "outputs": [
    {
     "data": {
      "text/plain": [
       "'target'"
      ]
     },
     "execution_count": 36,
     "metadata": {},
     "output_type": "execute_result"
    }
   ],
   "source": [
    "l.column"
   ]
  },
  {
   "cell_type": "code",
   "execution_count": 39,
   "metadata": {},
   "outputs": [
    {
     "data": {
      "text/plain": [
       "array([[5.1, 3.5, 1.4, 0.2],\n",
       "       [4.9, 3. , 1.4, 0.2],\n",
       "       [4.7, 3.2, 1.3, 0.2],\n",
       "       [4.6, 3.1, 1.5, 0.2]])"
      ]
     },
     "execution_count": 39,
     "metadata": {},
     "output_type": "execute_result"
    }
   ],
   "source": [
    "f_data = aidb.Dataset.read_to_numpy(id=1, columns=f.columns)\n",
    "f_data[:4]"
   ]
  },
  {
   "cell_type": "code",
   "execution_count": 40,
   "metadata": {},
   "outputs": [
    {
     "data": {
      "text/plain": [
       "array([[0.],\n",
       "       [0.],\n",
       "       [0.],\n",
       "       [0.]])"
      ]
     },
     "execution_count": 40,
     "metadata": {},
     "output_type": "execute_result"
    }
   ],
   "source": [
    "l_data = aidb.Dataset.read_to_numpy(id=1, columns=l.column)\n",
    "l_data[:4]"
   ]
  },
  {
   "cell_type": "code",
   "execution_count": 45,
   "metadata": {},
   "outputs": [],
   "source": [
    "row_count = l_data.shape[0]\n",
    "arr_idx = np.arange(row_count)"
   ]
  },
  {
   "cell_type": "code",
   "execution_count": 46,
   "metadata": {},
   "outputs": [],
   "source": [
    "from sklearn.model_selection import train_test_split"
   ]
  },
  {
   "cell_type": "code",
   "execution_count": 47,
   "metadata": {},
   "outputs": [],
   "source": [
    "features_train1, features_test1, labels_train1, labels_test1, indices_train1, indices_test1 = train_test_split(\n",
    "    f_data, l_data, arr_idx\n",
    "    ,stratify = l_data\n",
    ")"
   ]
  },
  {
   "cell_type": "code",
   "execution_count": 48,
   "metadata": {},
   "outputs": [],
   "source": [
    "features_train2, features_test2, labels_train2, labels_test2, indices_train2, indices_test2 = train_test_split(\n",
    "    f_data, l_data, arr_idx\n",
    "    ,stratify = l_data\n",
    ")"
   ]
  },
  {
   "cell_type": "code",
   "execution_count": 49,
   "metadata": {},
   "outputs": [
    {
     "data": {
      "text/plain": [
       "array([False, False, False, False, False, False, False, False, False,\n",
       "       False, False, False, False, False, False, False, False, False,\n",
       "       False, False, False, False, False, False, False, False, False,\n",
       "       False, False, False, False, False, False, False, False, False,\n",
       "       False, False, False, False, False, False, False, False, False,\n",
       "       False, False, False, False, False, False, False, False, False,\n",
       "       False, False, False, False, False, False,  True, False, False,\n",
       "       False, False, False, False, False, False, False, False, False,\n",
       "       False, False, False, False, False, False, False, False, False,\n",
       "       False, False, False, False, False, False, False, False, False,\n",
       "       False, False, False, False, False, False, False, False, False,\n",
       "       False, False, False, False, False, False, False, False, False,\n",
       "       False, False, False, False])"
      ]
     },
     "execution_count": 49,
     "metadata": {},
     "output_type": "execute_result"
    }
   ],
   "source": [
    "indices_train2 == indices_train1"
   ]
  },
  {
   "cell_type": "code",
   "execution_count": 50,
   "metadata": {},
   "outputs": [
    {
     "data": {
      "text/plain": [
       "array([False, False, False,  True, False, False, False, False, False,\n",
       "       False, False, False, False, False, False, False, False, False,\n",
       "       False, False, False, False, False, False, False, False, False,\n",
       "       False, False, False, False, False, False, False, False, False,\n",
       "       False, False])"
      ]
     },
     "execution_count": 50,
     "metadata": {},
     "output_type": "execute_result"
    }
   ],
   "source": [
    "indices_test2 == indices_test1"
   ]
  },
  {
   "cell_type": "code",
   "execution_count": 51,
   "metadata": {},
   "outputs": [],
   "source": [
    "indices_train1_lst, indices_test1_lst, indices_train2_lst, indices_test2_lst = indices_train1.tolist(), indices_test1.tolist(), indices_train2.tolist(), indices_test2.tolist()"
   ]
  },
  {
   "cell_type": "code",
   "execution_count": 63,
   "metadata": {},
   "outputs": [],
   "source": [
    "length_train = len(indices_train2_lst)\n",
    "length_test = len(indices_test2_lst)"
   ]
  },
  {
   "cell_type": "code",
   "execution_count": 66,
   "metadata": {
    "collapsed": true,
    "jupyter": {
     "outputs_hidden": true
    }
   },
   "outputs": [
    {
     "name": "stdout",
     "output_type": "stream",
     "text": [
      "True\n",
      "True\n",
      "False\n",
      "True\n",
      "True\n",
      "True\n",
      "True\n",
      "True\n",
      "True\n",
      "True\n",
      "True\n",
      "False\n",
      "True\n",
      "True\n",
      "True\n",
      "True\n",
      "True\n",
      "True\n",
      "True\n",
      "True\n",
      "True\n",
      "True\n",
      "True\n",
      "True\n",
      "True\n",
      "True\n",
      "False\n",
      "False\n",
      "True\n",
      "False\n",
      "True\n",
      "True\n",
      "False\n",
      "True\n",
      "True\n",
      "False\n",
      "True\n",
      "False\n",
      "True\n",
      "True\n",
      "False\n",
      "True\n",
      "True\n",
      "True\n",
      "True\n",
      "True\n",
      "True\n",
      "False\n",
      "False\n",
      "False\n",
      "False\n",
      "False\n",
      "False\n",
      "True\n",
      "True\n",
      "True\n",
      "True\n",
      "False\n",
      "True\n",
      "False\n",
      "True\n",
      "False\n",
      "False\n",
      "False\n",
      "False\n",
      "False\n",
      "True\n",
      "True\n",
      "True\n",
      "True\n",
      "True\n",
      "True\n",
      "True\n",
      "True\n",
      "False\n",
      "True\n",
      "True\n",
      "True\n",
      "False\n",
      "True\n",
      "True\n",
      "False\n",
      "False\n",
      "True\n",
      "False\n",
      "True\n",
      "True\n",
      "True\n",
      "False\n",
      "False\n",
      "True\n",
      "True\n",
      "True\n",
      "True\n",
      "True\n",
      "True\n",
      "True\n",
      "True\n",
      "True\n",
      "True\n",
      "True\n",
      "False\n",
      "False\n",
      "True\n",
      "True\n",
      "True\n",
      "True\n",
      "True\n",
      "True\n",
      "False\n",
      "True\n",
      "True\n"
     ]
    }
   ],
   "source": [
    "for i in range(length_train):\n",
    "    print(indices_train1_lst[i] in indices_train2_lst)"
   ]
  },
  {
   "cell_type": "code",
   "execution_count": 67,
   "metadata": {
    "collapsed": true,
    "jupyter": {
     "outputs_hidden": true
    }
   },
   "outputs": [
    {
     "name": "stdout",
     "output_type": "stream",
     "text": [
      "False\n",
      "False\n",
      "False\n",
      "True\n",
      "False\n",
      "True\n",
      "False\n",
      "False\n",
      "False\n",
      "False\n",
      "False\n",
      "True\n",
      "False\n",
      "False\n",
      "False\n",
      "False\n",
      "False\n",
      "False\n",
      "False\n",
      "False\n",
      "False\n",
      "False\n",
      "False\n",
      "False\n",
      "False\n",
      "False\n",
      "False\n",
      "False\n",
      "False\n",
      "False\n",
      "True\n",
      "False\n",
      "False\n",
      "True\n",
      "True\n",
      "False\n",
      "False\n",
      "False\n"
     ]
    }
   ],
   "source": [
    "for i in range(length_test):\n",
    "    print(indices_test1_lst[i] in indices_test2_lst)"
   ]
  },
  {
   "cell_type": "markdown",
   "metadata": {},
   "source": [
    "---"
   ]
  },
  {
   "cell_type": "markdown",
   "metadata": {},
   "source": [
    "Overview: https://scikit-learn.org/stable/modules/cross_validation.html\n",
    "\n",
    "Split Methods: https://scikit-learn.org/stable/modules/classes.html#module-sklearn.model_selection"
   ]
  },
  {
   "cell_type": "markdown",
   "metadata": {},
   "source": [
    "There is no stratified split for continuous variables:\n",
    "- 2 way split binning workaround: https://stackoverflow.com/a/39501510/5739514\n",
    "- kfold sklearn-based approach: https://github.com/scikit-learn/scikit-learn/issues/4757#issuecomment-694924478"
   ]
  },
  {
   "cell_type": "code",
   "execution_count": 19,
   "metadata": {},
   "outputs": [],
   "source": [
    "flts = np.arange(117, 1080, 3.13)\n",
    "rand_flts = np.random.choice(flts, size=150)  "
   ]
  },
  {
   "cell_type": "code",
   "execution_count": 20,
   "metadata": {},
   "outputs": [
    {
     "data": {
      "text/plain": [
       "array([ 217.16,  724.22,  251.59,  680.4 ,  138.91,  286.02,  157.69,\n",
       "        692.92,  367.4 ,  958.97,  843.16,  852.55,  558.33,  620.93,\n",
       "        777.43,  129.52,  962.1 ,  383.05,  993.4 ,  689.79,  301.67,\n",
       "        627.19,  774.3 ,  908.89,  173.34,  755.52,  508.25,  667.88,\n",
       "        117.  ,  624.06, 1068.52,  686.66,  599.02,  201.51,  176.47,\n",
       "        614.67, 1034.09,  289.15,  129.52,  705.44,  573.98,  242.2 ,\n",
       "        793.08, 1027.83,  987.14,  652.23,  358.01,  408.09,  292.28,\n",
       "        561.46, 1065.39,  448.78,  586.5 ,  248.46,  736.74,  630.32,\n",
       "        408.09,  739.87,  811.86,  408.09, 1021.57,  292.28,  223.42,\n",
       "        383.05,  436.26,  958.97,  680.4 ,  117.  ,  527.03,  836.9 ,\n",
       "        448.78,  486.34,  608.41,  489.47,  505.12,  332.97,  354.88,\n",
       "        207.77,  696.05,  154.56,  893.24,  908.89,  364.27,  430.  ,\n",
       "        145.17, 1043.48,  893.24,  464.43,  495.73,  924.54,  849.42,\n",
       "        877.59,  996.53,  580.24,  683.53,  295.41,  511.38,  492.6 ,\n",
       "        423.74,  289.15,  411.22,  564.59,  204.64,  527.03,  226.55,\n",
       "        145.17,  251.59, 1059.13,  170.21,  558.33,  705.44,  145.17,\n",
       "        642.84,  163.95,  743.  ,  674.14,  846.29,  198.38,  808.73,\n",
       "        379.92,  570.85,  192.12,  930.8 ,  270.37,  789.95,  990.27,\n",
       "        473.82, 1030.96,  921.41,  514.51,  573.98,  214.03,  511.38,\n",
       "       1037.22,  358.01,  717.96,  921.41,  336.1 ,  830.64,  990.27,\n",
       "        624.06, 1030.96,  376.79,  755.52,  542.68,  145.17,  342.36,\n",
       "        498.86,  370.53,  774.3 ])"
      ]
     },
     "execution_count": 20,
     "metadata": {},
     "output_type": "execute_result"
    }
   ],
   "source": [
    "rand_flts"
   ]
  },
  {
   "cell_type": "code",
   "execution_count": 21,
   "metadata": {},
   "outputs": [
    {
     "data": {
      "text/plain": [
       "(array([22., 14., 19., 17., 19., 17., 15., 12., 15.]),\n",
       " array([ 117.        ,  222.72444444,  328.44888889,  434.17333333,\n",
       "         539.89777778,  645.62222222,  751.34666667,  857.07111111,\n",
       "         962.79555556, 1068.52      ]),\n",
       " <BarContainer object of 9 artists>)"
      ]
     },
     "execution_count": 21,
     "metadata": {},
     "output_type": "execute_result"
    },
    {
     "data": {
      "image/png": "[encoded data removed]",
      "text/plain": [
       "<Figure size 432x288 with 1 Axes>"
      ]
     },
     "metadata": {
      "needs_background": "light"
     },
     "output_type": "display_data"
    }
   ],
   "source": [
    "import matplotlib.pyplot as plt\n",
    "plt.hist(rand_flts, bins='auto')"
   ]
  },
  {
   "cell_type": "code",
   "execution_count": 26,
   "metadata": {},
   "outputs": [
    {
     "name": "stdout",
     "output_type": "stream",
     "text": [
      "117.0\n",
      "1068.5199999999986\n"
     ]
    }
   ],
   "source": [
    "max = np.amax(rand_flts)\n",
    "min = np.amin(rand_flts)\n",
    "print(min)\n",
    "print(max)"
   ]
  },
  {
   "cell_type": "code",
   "execution_count": 27,
   "metadata": {},
   "outputs": [],
   "source": [
    "num_bins = 4"
   ]
  },
  {
   "cell_type": "code",
   "execution_count": 28,
   "metadata": {},
   "outputs": [
    {
     "data": {
      "text/plain": [
       "array([ 117.        ,  434.17333333,  751.34666667, 1068.52      ])"
      ]
     },
     "execution_count": 28,
     "metadata": {},
     "output_type": "execute_result"
    }
   ],
   "source": [
    "bins = np.linspace(start=min, stop=max, num=num_bins)\n",
    "bins"
   ]
  },
  {
   "cell_type": "code",
   "execution_count": 29,
   "metadata": {},
   "outputs": [
    {
     "data": {
      "text/plain": [
       "array([1, 2, 1, 2, 1, 1, 1, 2, 1, 3, 3, 3, 2, 2, 3, 1, 3, 1, 3, 2, 1, 2,\n",
       "       3, 3, 1, 3, 2, 2, 0, 2, 3, 2, 2, 1, 1, 2, 3, 1, 1, 2, 2, 1, 3, 3,\n",
       "       3, 2, 1, 1, 1, 2, 3, 2, 2, 1, 2, 2, 1, 2, 3, 1, 3, 1, 1, 1, 2, 3,\n",
       "       2, 0, 2, 3, 2, 2, 2, 2, 2, 1, 1, 1, 2, 1, 3, 3, 1, 1, 1, 3, 3, 2,\n",
       "       2, 3, 3, 3, 3, 2, 2, 1, 2, 2, 1, 1, 1, 2, 1, 2, 1, 1, 1, 3, 1, 2,\n",
       "       2, 1, 2, 1, 2, 2, 3, 1, 3, 1, 2, 1, 3, 1, 3, 3, 2, 3, 3, 2, 2, 1,\n",
       "       2, 3, 1, 2, 3, 1, 3, 3, 2, 3, 1, 3, 2, 1, 1, 2, 1, 3])"
      ]
     },
     "execution_count": 29,
     "metadata": {},
     "output_type": "execute_result"
    }
   ],
   "source": [
    "# Without `right=True`, it will make the max value a separate bin.\n",
    "flts_binned = np.digitize(rand_flts, bins, right=True)\n",
    "flts_binned"
   ]
  },
  {
   "cell_type": "markdown",
   "metadata": {},
   "source": [
    "^ these are just wrong. there are plenty in bin 3."
   ]
  },
  {
   "cell_type": "markdown",
   "metadata": {},
   "source": [
    "Let's pretend `flts` is the target"
   ]
  },
  {
   "cell_type": "code",
   "execution_count": 32,
   "metadata": {},
   "outputs": [],
   "source": [
    "from sklearn.model_selection import train_test_split"
   ]
  },
  {
   "cell_type": "code",
   "execution_count": 35,
   "metadata": {},
   "outputs": [],
   "source": [
    "features_train, features_test, labels_train, labels_test = train_test_split(\n",
    "    featureset.to_numpy(), rand_flts,\n",
    "    stratify = flts_binned\n",
    ")"
   ]
  },
  {
   "cell_type": "code",
   "execution_count": 36,
   "metadata": {},
   "outputs": [
    {
     "data": {
      "text/plain": [
       "(array([29., 32., 25., 26.]),\n",
       " array([ 117.  ,  354.88,  592.76,  830.64, 1068.52]),\n",
       " <BarContainer object of 4 artists>)"
      ]
     },
     "execution_count": 36,
     "metadata": {},
     "output_type": "execute_result"
    },
    {
     "data": {
      "image/png": "[encoded data removed]",
      "text/plain": [
       "<Figure size 432x288 with 1 Axes>"
      ]
     },
     "metadata": {
      "needs_background": "light"
     },
     "output_type": "display_data"
    }
   ],
   "source": [
    "plt.hist(labels_train, bins=num_bins) "
   ]
  },
  {
   "cell_type": "code",
   "execution_count": 336,
   "metadata": {},
   "outputs": [
    {
     "data": {
      "text/plain": [
       "(array([10.,  8., 13.,  7.]),\n",
       " array([ 129.52  ,  365.0525,  600.585 ,  836.1175, 1071.65  ]),\n",
       " <BarContainer object of 4 artists>)"
      ]
     },
     "execution_count": 336,
     "metadata": {},
     "output_type": "execute_result"
    },
    {
     "data": {
      "image/png": "[encoded data removed]",
      "text/plain": [
       "<Figure size 432x288 with 1 Axes>"
      ]
     },
     "metadata": {
      "needs_background": "light"
     },
     "output_type": "display_data"
    }
   ],
   "source": [
    "plt.hist(labels_test, bins=num_bins) "
   ]
  },
  {
   "cell_type": "markdown",
   "metadata": {},
   "source": [
    "---"
   ]
  },
  {
   "cell_type": "code",
   "execution_count": 2,
   "metadata": {},
   "outputs": [],
   "source": [
    "s = aidb.Splitset.get_by_id(1)"
   ]
  },
  {
   "cell_type": "code",
   "execution_count": 3,
   "metadata": {},
   "outputs": [],
   "source": [
    "dct = s.read_to_pandas()"
   ]
  },
  {
   "cell_type": "code",
   "execution_count": 4,
   "metadata": {},
   "outputs": [
    {
     "data": {
      "text/plain": [
       "{'validation': {'features':      sepal length (cm)  sepal width (cm)  petal length (cm)  petal width (cm)\n",
       "  0                  5.1               3.5                1.4               0.2\n",
       "  1                  4.9               3.0                1.4               0.2\n",
       "  2                  4.7               3.2                1.3               0.2\n",
       "  3                  4.6               3.1                1.5               0.2\n",
       "  4                  5.0               3.6                1.4               0.2\n",
       "  ..                 ...               ...                ...               ...\n",
       "  145                6.7               3.0                5.2               2.3\n",
       "  146                6.3               2.5                5.0               1.9\n",
       "  147                6.5               3.0                5.2               2.0\n",
       "  148                6.2               3.4                5.4               2.3\n",
       "  149                5.9               3.0                5.1               1.8\n",
       "  \n",
       "  [150 rows x 4 columns],\n",
       "  'label': None,\n",
       "  'labels':      target\n",
       "  0       0.0\n",
       "  1       0.0\n",
       "  2       0.0\n",
       "  3       0.0\n",
       "  4       0.0\n",
       "  ..      ...\n",
       "  145     2.0\n",
       "  146     2.0\n",
       "  147     2.0\n",
       "  148     2.0\n",
       "  149     2.0\n",
       "  \n",
       "  [150 rows x 1 columns]},\n",
       " 'train': {'features':      sepal length (cm)  sepal width (cm)  petal length (cm)  petal width (cm)\n",
       "  0                  5.1               3.5                1.4               0.2\n",
       "  1                  4.9               3.0                1.4               0.2\n",
       "  2                  4.7               3.2                1.3               0.2\n",
       "  3                  4.6               3.1                1.5               0.2\n",
       "  4                  5.0               3.6                1.4               0.2\n",
       "  ..                 ...               ...                ...               ...\n",
       "  145                6.7               3.0                5.2               2.3\n",
       "  146                6.3               2.5                5.0               1.9\n",
       "  147                6.5               3.0                5.2               2.0\n",
       "  148                6.2               3.4                5.4               2.3\n",
       "  149                5.9               3.0                5.1               1.8\n",
       "  \n",
       "  [150 rows x 4 columns],\n",
       "  'label': None,\n",
       "  'labels':      target\n",
       "  0       0.0\n",
       "  1       0.0\n",
       "  2       0.0\n",
       "  3       0.0\n",
       "  4       0.0\n",
       "  ..      ...\n",
       "  145     2.0\n",
       "  146     2.0\n",
       "  147     2.0\n",
       "  148     2.0\n",
       "  149     2.0\n",
       "  \n",
       "  [150 rows x 1 columns]},\n",
       " 'test': {'features':      sepal length (cm)  sepal width (cm)  petal length (cm)  petal width (cm)\n",
       "  0                  5.1               3.5                1.4               0.2\n",
       "  1                  4.9               3.0                1.4               0.2\n",
       "  2                  4.7               3.2                1.3               0.2\n",
       "  3                  4.6               3.1                1.5               0.2\n",
       "  4                  5.0               3.6                1.4               0.2\n",
       "  ..                 ...               ...                ...               ...\n",
       "  145                6.7               3.0                5.2               2.3\n",
       "  146                6.3               2.5                5.0               1.9\n",
       "  147                6.5               3.0                5.2               2.0\n",
       "  148                6.2               3.4                5.4               2.3\n",
       "  149                5.9               3.0                5.1               1.8\n",
       "  \n",
       "  [150 rows x 4 columns],\n",
       "  'label': None,\n",
       "  'labels':      target\n",
       "  0       0.0\n",
       "  1       0.0\n",
       "  2       0.0\n",
       "  3       0.0\n",
       "  4       0.0\n",
       "  ..      ...\n",
       "  145     2.0\n",
       "  146     2.0\n",
       "  147     2.0\n",
       "  148     2.0\n",
       "  149     2.0\n",
       "  \n",
       "  [150 rows x 1 columns]}}"
      ]
     },
     "execution_count": 4,
     "metadata": {},
     "output_type": "execute_result"
    }
   ],
   "source": [
    "dct"
   ]
  },
  {
   "cell_type": "code",
   "execution_count": null,
   "metadata": {},
   "outputs": [],
   "source": []
  }
 ],
 "metadata": {
  "kernelspec": {
   "display_name": "Python 3",
   "language": "python",
   "name": "python3"
  },
  "language_info": {
   "codemirror_mode": {
    "name": "ipython",
    "version": 3
   },
   "file_extension": ".py",
   "mimetype": "text/x-python",
   "name": "python",
   "nbconvert_exporter": "python",
   "pygments_lexer": "ipython3",
   "version": "3.7.6"
  }
 },
 "nbformat": 4,
 "nbformat_minor": 4
}
