{
 "cells": [
  {
   "cell_type": "code",
   "execution_count": 1,
   "metadata": {},
   "outputs": [
    {
     "data": {
      "text/plain": [
       "'/Users/layne/Desktop/pydatasci'"
      ]
     },
     "execution_count": 1,
     "metadata": {},
     "output_type": "execute_result"
    }
   ],
   "source": [
    "import os\n",
    "os.chdir('/Users/layne/Desktop/pydatasci')\n",
    "os.getcwd()"
   ]
  },
  {
   "cell_type": "markdown",
   "metadata": {},
   "source": [
    "https://pypi.org/project/persist-queue/"
   ]
  },
  {
   "cell_type": "code",
   "execution_count": 2,
   "metadata": {},
   "outputs": [
    {
     "name": "stderr",
     "output_type": "stream",
     "text": [
      "/Users/layne/.pyenv/versions/3.7.6/envs/jupyterlab/lib/python3.7/site-packages/pandas/compat/__init__.py:120: UserWarning: Could not import the lzma module. Your installed Python is incomplete. Attempting to use lzma compression will result in a RuntimeError.\n",
      "  warnings.warn(msg)\n"
     ]
    }
   ],
   "source": [
    "import pydatasci as pds\n",
    "from pydatasci import aidb"
   ]
  },
  {
   "cell_type": "code",
   "execution_count": 3,
   "metadata": {},
   "outputs": [
    {
     "name": "stdout",
     "output_type": "stream",
     "text": [
      "\n",
      "=> Success - deleted database file at path:\n",
      "/Users/layne/Library/Application Support/pydatasci/aidb.sqlite3\n",
      "\n",
      "\n",
      "=> Success - created database file for machine learning metrics at path:\n",
      "/Users/layne/Library/Application Support/pydatasci/aidb.sqlite3\n",
      "\n",
      "\n",
      "=> Success - created the following tables within database:\n",
      "['algorithm', 'dataset', 'featureset', 'fold', 'foldset', 'hyperparamcombo', 'hyperparamset', 'job', 'label', 'preprocess', 'splitset']\n",
      "\n"
     ]
    }
   ],
   "source": [
    "from importlib import reload; aidb.delete_db(True); reload(aidb); aidb.create_db()"
   ]
  },
  {
   "cell_type": "code",
   "execution_count": 4,
   "metadata": {},
   "outputs": [
    {
     "data": {
      "text/plain": [
       "{'config_path': '/Users/layne/Library/Application Support/pydatasci/config.json',\n",
       " 'db_path': '/Users/layne/Library/Application Support/pydatasci/aidb.sqlite3'}"
      ]
     },
     "execution_count": 4,
     "metadata": {},
     "output_type": "execute_result"
    }
   ],
   "source": [
    "pds.get_config()"
   ]
  },
  {
   "cell_type": "code",
   "execution_count": 61,
   "metadata": {},
   "outputs": [],
   "source": [
    "db_path = pds.get_config()['db_path']"
   ]
  },
  {
   "cell_type": "markdown",
   "metadata": {},
   "source": [
    "---"
   ]
  },
  {
   "cell_type": "code",
   "execution_count": 24,
   "metadata": {},
   "outputs": [],
   "source": [
    "os.chdir('Users/layne/Library/Application Support/pydatasci/')"
   ]
  },
  {
   "cell_type": "code",
   "execution_count": 85,
   "metadata": {},
   "outputs": [],
   "source": [
    "import persistqueue"
   ]
  },
  {
   "cell_type": "code",
   "execution_count": 121,
   "metadata": {},
   "outputs": [],
   "source": [
    "# `autosave=False` requires `.task_done()` to be called in case a crash happens before you finish working with the task in `.get()`\n",
    "q = persistqueue.Queue('/Users/layne/Library/Application Support/pydatasci/queue', autosave=False)"
   ]
  },
  {
   "cell_type": "code",
   "execution_count": 114,
   "metadata": {},
   "outputs": [],
   "source": [
    "q.put(1)"
   ]
  },
  {
   "cell_type": "code",
   "execution_count": 115,
   "metadata": {},
   "outputs": [],
   "source": [
    "q.put(2)"
   ]
  },
  {
   "cell_type": "code",
   "execution_count": 116,
   "metadata": {},
   "outputs": [],
   "source": [
    "q.put(3)"
   ]
  },
  {
   "cell_type": "code",
   "execution_count": 119,
   "metadata": {},
   "outputs": [
    {
     "name": "stdout",
     "output_type": "stream",
     "text": [
      "empty\n"
     ]
    }
   ],
   "source": [
    "while q.empty() is False:\n",
    "    task = q.get()\n",
    "    print(task)\n",
    "    q.task_done()\n",
    "    \n",
    "print(\"empty\")"
   ]
  },
  {
   "cell_type": "markdown",
   "metadata": {},
   "source": [
    "tf/keras maxes out cores, so no advantage to multithreading?\n",
    "https://stackoverflow.com/a/41597238/5739514"
   ]
  },
  {
   "cell_type": "markdown",
   "metadata": {},
   "source": [
    "---"
   ]
  },
  {
   "cell_type": "code",
   "execution_count": 13,
   "metadata": {},
   "outputs": [],
   "source": [
    "import threading\n",
    "from time import sleep"
   ]
  },
  {
   "cell_type": "markdown",
   "metadata": {},
   "source": [
    "each thread will need it's own db connection."
   ]
  },
  {
   "cell_type": "code",
   "execution_count": 60,
   "metadata": {},
   "outputs": [],
   "source": [
    "def sleepy():\n",
    "    sleep(90)"
   ]
  },
  {
   "cell_type": "code",
   "execution_count": 67,
   "metadata": {},
   "outputs": [
    {
     "data": {
      "text/plain": [
       "3"
      ]
     },
     "execution_count": 67,
     "metadata": {},
     "output_type": "execute_result"
    }
   ],
   "source": [
    "threading.TIMEOUT_MAX"
   ]
  },
  {
   "cell_type": "code",
   "execution_count": 68,
   "metadata": {},
   "outputs": [],
   "source": [
    "t1 = threading.Thread(target=sleepy, name=\"aidb_batch_1\") "
   ]
  },
  {
   "cell_type": "code",
   "execution_count": 74,
   "metadata": {},
   "outputs": [
    {
     "data": {
      "text/plain": [
       "5"
      ]
     },
     "execution_count": 74,
     "metadata": {},
     "output_type": "execute_result"
    }
   ],
   "source": [
    "threading.active_count()"
   ]
  },
  {
   "cell_type": "code",
   "execution_count": 71,
   "metadata": {},
   "outputs": [
    {
     "data": {
      "text/plain": [
       "[<_MainThread(MainThread, started 4734463424)>,\n",
       " <Thread(Thread-2, started daemon 123145399533568)>,\n",
       " <Heartbeat(Thread-3, started daemon 123145404788736)>,\n",
       " <HistorySavingThread(IPythonHistorySavingThread, started 123145411117056)>,\n",
       " <ParentPollerUnix(Thread-1, started daemon 123145416908800)>,\n",
       " <Thread(aidb_batch_1, started 123145422163968)>,\n",
       " <Thread(aidb_batch_1, started 123145427419136)>]"
      ]
     },
     "execution_count": 71,
     "metadata": {},
     "output_type": "execute_result"
    }
   ],
   "source": [
    "threading.enumerate()"
   ]
  },
  {
   "cell_type": "code",
   "execution_count": 49,
   "metadata": {},
   "outputs": [],
   "source": [
    "thread_names = [t.name for t in threading.enumerate()]"
   ]
  },
  {
   "cell_type": "code",
   "execution_count": 50,
   "metadata": {},
   "outputs": [
    {
     "data": {
      "text/plain": [
       "['MainThread',\n",
       " 'Thread-2',\n",
       " 'Thread-3',\n",
       " 'IPythonHistorySavingThread',\n",
       " 'Thread-1',\n",
       " 'aidb_batch_1']"
      ]
     },
     "execution_count": 50,
     "metadata": {},
     "output_type": "execute_result"
    }
   ],
   "source": [
    "thread_names"
   ]
  },
  {
   "cell_type": "code",
   "execution_count": 51,
   "metadata": {},
   "outputs": [],
   "source": [
    "bid=\"1\""
   ]
  },
  {
   "cell_type": "code",
   "execution_count": 52,
   "metadata": {},
   "outputs": [
    {
     "data": {
      "text/plain": [
       "True"
      ]
     },
     "execution_count": 52,
     "metadata": {},
     "output_type": "execute_result"
    }
   ],
   "source": [
    "threading.enumerate()[5].name == \"aidb_batch_\" + str(bid)"
   ]
  },
  {
   "cell_type": "code",
   "execution_count": 53,
   "metadata": {},
   "outputs": [
    {
     "data": {
      "text/plain": [
       "9223372036.0"
      ]
     },
     "execution_count": 53,
     "metadata": {},
     "output_type": "execute_result"
    }
   ],
   "source": [
    "threading.TIMEOUT_MAX"
   ]
  },
  {
   "cell_type": "code",
   "execution_count": 231,
   "metadata": {
    "collapsed": true,
    "jupyter": {
     "outputs_hidden": true
    }
   },
   "outputs": [
    {
     "data": {
      "text/plain": [
       "['Barrier',\n",
       " 'BoundedSemaphore',\n",
       " 'BrokenBarrierError',\n",
       " 'Condition',\n",
       " 'Event',\n",
       " 'Lock',\n",
       " 'RLock',\n",
       " 'Semaphore',\n",
       " 'TIMEOUT_MAX',\n",
       " 'Thread',\n",
       " 'ThreadError',\n",
       " 'Timer',\n",
       " 'WeakSet',\n",
       " '_CRLock',\n",
       " '_DummyThread',\n",
       " '_MainThread',\n",
       " '_PyRLock',\n",
       " '_RLock',\n",
       " '__all__',\n",
       " '__builtins__',\n",
       " '__cached__',\n",
       " '__doc__',\n",
       " '__file__',\n",
       " '__loader__',\n",
       " '__name__',\n",
       " '__package__',\n",
       " '__spec__',\n",
       " '_active',\n",
       " '_active_limbo_lock',\n",
       " '_after_fork',\n",
       " '_allocate_lock',\n",
       " '_count',\n",
       " '_counter',\n",
       " '_dangling',\n",
       " '_deque',\n",
       " '_enumerate',\n",
       " '_format_exc',\n",
       " '_islice',\n",
       " '_limbo',\n",
       " '_main_thread',\n",
       " '_newname',\n",
       " '_os',\n",
       " '_profile_hook',\n",
       " '_set_sentinel',\n",
       " '_shutdown',\n",
       " '_shutdown_locks',\n",
       " '_shutdown_locks_lock',\n",
       " '_start_new_thread',\n",
       " '_sys',\n",
       " '_time',\n",
       " '_trace_hook',\n",
       " 'activeCount',\n",
       " 'active_count',\n",
       " 'currentThread',\n",
       " 'current_thread',\n",
       " 'enumerate',\n",
       " 'get_ident',\n",
       " 'local',\n",
       " 'main_thread',\n",
       " 'setprofile',\n",
       " 'settrace',\n",
       " 'stack_size']"
      ]
     },
     "execution_count": 231,
     "metadata": {},
     "output_type": "execute_result"
    }
   ],
   "source": [
    "dir(threading)"
   ]
  },
  {
   "cell_type": "code",
   "execution_count": 201,
   "metadata": {
    "collapsed": true,
    "jupyter": {
     "outputs_hidden": true
    }
   },
   "outputs": [
    {
     "data": {
      "text/plain": [
       "['__class__',\n",
       " '__delattr__',\n",
       " '__dict__',\n",
       " '__dir__',\n",
       " '__doc__',\n",
       " '__eq__',\n",
       " '__format__',\n",
       " '__ge__',\n",
       " '__getattribute__',\n",
       " '__gt__',\n",
       " '__hash__',\n",
       " '__init__',\n",
       " '__init_subclass__',\n",
       " '__le__',\n",
       " '__lt__',\n",
       " '__module__',\n",
       " '__ne__',\n",
       " '__new__',\n",
       " '__reduce__',\n",
       " '__reduce_ex__',\n",
       " '__repr__',\n",
       " '__setattr__',\n",
       " '__sizeof__',\n",
       " '__str__',\n",
       " '__subclasshook__',\n",
       " '__weakref__',\n",
       " '_bootstrap',\n",
       " '_bootstrap_inner',\n",
       " '_daemonic',\n",
       " '_delete',\n",
       " '_exc_info',\n",
       " '_ident',\n",
       " '_initialized',\n",
       " '_is_stopped',\n",
       " '_name',\n",
       " '_reset_internal_locks',\n",
       " '_set_ident',\n",
       " '_set_tstate_lock',\n",
       " '_started',\n",
       " '_stderr',\n",
       " '_stop',\n",
       " '_tstate_lock',\n",
       " '_wait_for_tstate_lock',\n",
       " 'daemon',\n",
       " 'getName',\n",
       " 'ident',\n",
       " 'isAlive',\n",
       " 'isDaemon',\n",
       " 'is_alive',\n",
       " 'join',\n",
       " 'name',\n",
       " 'run',\n",
       " 'setDaemon',\n",
       " 'setName',\n",
       " 'start']"
      ]
     },
     "execution_count": 201,
     "metadata": {},
     "output_type": "execute_result"
    }
   ],
   "source": [
    "dir(t1)"
   ]
  },
  {
   "cell_type": "code",
   "execution_count": 216,
   "metadata": {},
   "outputs": [
    {
     "name": "stdout",
     "output_type": "stream",
     "text": [
      "dead\n"
     ]
    }
   ],
   "source": [
    "while t1.isAlive():\n",
    "    sleep(1)\n",
    "print(\"dead\")"
   ]
  }
 ],
 "metadata": {
  "kernelspec": {
   "display_name": "Python 3",
   "language": "python",
   "name": "python3"
  },
  "language_info": {
   "codemirror_mode": {
    "name": "ipython",
    "version": 3
   },
   "file_extension": ".py",
   "mimetype": "text/x-python",
   "name": "python",
   "nbconvert_exporter": "python",
   "pygments_lexer": "ipython3",
   "version": "3.7.6"
  }
 },
 "nbformat": 4,
 "nbformat_minor": 4
}
