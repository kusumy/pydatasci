{
 "cells": [
  {
   "cell_type": "code",
   "execution_count": 1,
   "metadata": {},
   "outputs": [
    {
     "name": "stdout",
     "output_type": "stream",
     "text": [
      "3.7.6 (default, Aug  9 2020, 21:13:30) \n",
      "[Clang 11.0.3 (clang-1103.0.32.62)] darwin /Users/layne/.pyenv/versions/3.7.6/envs/jupyterlab/bin/python3.7\n"
     ]
    }
   ],
   "source": [
    "import sys\n",
    "print(sys.version, sys.platform, sys.executable)"
   ]
  },
  {
   "cell_type": "code",
   "execution_count": 2,
   "metadata": {},
   "outputs": [
    {
     "data": {
      "text/plain": [
       "'/Users/layne/Desktop/pydatasci'"
      ]
     },
     "execution_count": 2,
     "metadata": {},
     "output_type": "execute_result"
    }
   ],
   "source": [
    "import os\n",
    "os.chdir('/Users/layne/Desktop/pydatasci')\n",
    "os.getcwd()"
   ]
  },
  {
   "cell_type": "code",
   "execution_count": 3,
   "metadata": {},
   "outputs": [
    {
     "name": "stderr",
     "output_type": "stream",
     "text": [
      "/Users/layne/.pyenv/versions/3.7.6/envs/jupyterlab/lib/python3.7/site-packages/pandas/compat/__init__.py:120: UserWarning: Could not import the lzma module. Your installed Python is incomplete. Attempting to use lzma compression will result in a RuntimeError.\n",
      "  warnings.warn(msg)\n"
     ]
    }
   ],
   "source": [
    "import h5py\n",
    "import pydatasci as pds\n",
    "from pydatasci import aidb\n",
    "import os, sqlite3, io, gzip \n",
    "import pandas as pd\n",
    "import numpy as np\n",
    "import pyarrow\n",
    "from pyarrow import csv as pc\n",
    "\n",
    "from sklearn.preprocessing import OneHotEncoder, StandardScaler, LabelEncoder\n",
    "\n",
    "import keras\n",
    "from keras import metrics\n",
    "from keras.models import Sequential, load_model\n",
    "from keras.callbacks import History\n",
    "from keras.layers import Dense, Dropout\n",
    "from keras.layers.normalization import BatchNormalization\n",
    "from keras.constraints import maxnorm\n",
    "from keras.optimizers import Adam\n",
    "from keras.wrappers.scikit_learn import KerasClassifier\n",
    "\n",
    "import matplotlib.pyplot as plt\n",
    "import plotly.express as px"
   ]
  },
  {
   "cell_type": "code",
   "execution_count": 4,
   "metadata": {},
   "outputs": [
    {
     "name": "stdout",
     "output_type": "stream",
     "text": [
      "\n",
      "=> Success - deleted database file at path:\n",
      "/Users/layne/Library/Application Support/pydatasci/aidb.sqlite3\n",
      "\n",
      "\n",
      "=> Success - created database file for machine learning metrics at path:\n",
      "/Users/layne/Library/Application Support/pydatasci/aidb.sqlite3\n",
      "\n",
      "\n",
      "=> Success - created the following tables within database:\n",
      "['algorithm', 'batch', 'dataset', 'featureset', 'fold', 'foldset', 'hyperparamcombo', 'hyperparamset', 'job', 'label', 'preprocess', 'result', 'splitset']\n",
      "\n"
     ]
    }
   ],
   "source": [
    "from importlib import reload; aidb.delete_db(True); reload(aidb); aidb.create_db()"
   ]
  },
  {
   "cell_type": "markdown",
   "metadata": {},
   "source": [
    "---"
   ]
  },
  {
   "cell_type": "code",
   "execution_count": 5,
   "metadata": {},
   "outputs": [],
   "source": [
    "dataset = aidb.Dataset.from_file(\n",
    "\tpath = 'data/iris.tsv' \n",
    "\t,file_format = 'tsv'\n",
    "\t,name = 'tab-separated plants'\n",
    "\t,perform_gzip = True\n",
    "    ,dtype = 'float64'\n",
    ")"
   ]
  },
  {
   "cell_type": "code",
   "execution_count": 6,
   "metadata": {},
   "outputs": [],
   "source": [
    "label_name = 'target'"
   ]
  },
  {
   "cell_type": "code",
   "execution_count": 7,
   "metadata": {},
   "outputs": [],
   "source": [
    "label = dataset.make_label(columns=[label_name])"
   ]
  },
  {
   "cell_type": "code",
   "execution_count": 8,
   "metadata": {},
   "outputs": [],
   "source": [
    "featureset = dataset.make_featureset(exclude_columns=[label_name])"
   ]
  },
  {
   "cell_type": "code",
   "execution_count": 9,
   "metadata": {},
   "outputs": [],
   "source": [
    "splitset = featureset.make_splitset(\n",
    "\tlabel_id = label.id\n",
    "\t, size_test = 0.20\n",
    "\t, size_validation = 0.12\n",
    ")"
   ]
  },
  {
   "cell_type": "code",
   "execution_count": 10,
   "metadata": {},
   "outputs": [],
   "source": [
    "#foldset = splitset.make_foldset(fold_count=6)"
   ]
  },
  {
   "cell_type": "markdown",
   "metadata": {},
   "source": [
    "# aidb"
   ]
  },
  {
   "cell_type": "markdown",
   "metadata": {},
   "source": [
    "### Define Preprocess (Optional)"
   ]
  },
  {
   "cell_type": "markdown",
   "metadata": {},
   "source": [
    "Going to have to make sure that I am uniformly importing the packages. \n",
    "`from sklearn.preprocessing import *`"
   ]
  },
  {
   "cell_type": "code",
   "execution_count": 11,
   "metadata": {},
   "outputs": [],
   "source": [
    "encoder_features = StandardScaler()"
   ]
  },
  {
   "cell_type": "code",
   "execution_count": 12,
   "metadata": {},
   "outputs": [],
   "source": [
    "encoder_labels = OneHotEncoder(sparse=False)"
   ]
  },
  {
   "cell_type": "code",
   "execution_count": 13,
   "metadata": {},
   "outputs": [],
   "source": [
    "#params_encode_labels = {\"sparse\": [False]}"
   ]
  },
  {
   "cell_type": "markdown",
   "metadata": {},
   "source": [
    "### Define Algorithm"
   ]
  },
  {
   "cell_type": "code",
   "execution_count": 14,
   "metadata": {},
   "outputs": [],
   "source": [
    "def function_model_build(**hyperparameters):\n",
    "    model = Sequential()\n",
    "    model.add(Dense(13, input_shape=(4,), activation='relu', kernel_initializer='he_uniform', name='fc1')) # first hidden layer\n",
    "    model.add(Dense(hyperparameters['l2_neuron_count'], activation='relu', kernel_initializer='he_uniform', name='fc2'))\n",
    "    model.add(Dense(3, activation='softmax', name='output'))\n",
    "\n",
    "    model.compile(optimizer=hyperparameters['optimizer'], loss='categorical_crossentropy', metrics=['accuracy'])\n",
    "    \n",
    "    return model"
   ]
  },
  {
   "cell_type": "code",
   "execution_count": 15,
   "metadata": {},
   "outputs": [],
   "source": [
    "def function_model_train(model, samples_train, samples_evaluate, **hyperparameters):\n",
    "    model.fit(\n",
    "        samples_train[\"features\"]\n",
    "        , samples_train[\"labels\"]\n",
    "        , validation_data = (\n",
    "            samples_evaluate[\"features\"]\n",
    "            , samples_evaluate[\"labels\"]\n",
    "        )\n",
    "        , verbose = 0\n",
    "        , batch_size = 3\n",
    "        , epochs = hyperparameters['epochs']\n",
    "        , callbacks=[History()]\n",
    "    )\n",
    "    return model"
   ]
  },
  {
   "cell_type": "code",
   "execution_count": 16,
   "metadata": {},
   "outputs": [],
   "source": [
    "def function_model_evaluate(model, samples_evaluate, **hyperparameters):\n",
    "    results = model.evaluate(samples_evaluate[\"features\"], samples_evaluate[\"labels\"], verbose=0)\n",
    "    #print(\"Loss = \" + str(results[0]) + \" // Accuracy = \" + str(results[1]) )\n",
    "    return results"
   ]
  },
  {
   "cell_type": "code",
   "execution_count": 17,
   "metadata": {},
   "outputs": [],
   "source": [
    "# hyperparameters = {\n",
    "#     \"l1_neuron_count\": [9, 18]\n",
    "#     , \"l2_neuron_count\": [9, 18]\n",
    "#     , \"optimizer\": [\"adamax\", \"adam\"]\n",
    "#     , \"epochs\": [30, 60, 90]\n",
    "#     , \"batch_size\": [3, 5]\n",
    "# }"
   ]
  },
  {
   "cell_type": "code",
   "execution_count": 18,
   "metadata": {},
   "outputs": [],
   "source": [
    "hyperparameters = {\n",
    "    \"l2_neuron_count\": [9, 13, 18]\n",
    "    , \"optimizer\": [\"adamax\", \"adam\"]\n",
    "    , \"epochs\": [60, 100, 300]\n",
    "}"
   ]
  },
  {
   "cell_type": "markdown",
   "metadata": {},
   "source": [
    "### Stage the Experiment and Parameters"
   ]
  },
  {
   "cell_type": "code",
   "execution_count": 19,
   "metadata": {},
   "outputs": [],
   "source": [
    "algorithm = aidb.Algorithm.create(\n",
    "    library = \"Keras\"\n",
    "    , description = \"dense, 2 layers, medium height\"\n",
    "\t, function_model_build = function_model_build\n",
    "\t, function_model_train = function_model_train\n",
    "\t, function_model_evaluate = function_model_evaluate\n",
    ")"
   ]
  },
  {
   "cell_type": "code",
   "execution_count": 20,
   "metadata": {},
   "outputs": [],
   "source": [
    "preprocess = aidb.Preprocess.from_splitset(\n",
    "    splitset_id = splitset.id\n",
    "    , description = \"standard scaling on features\"\n",
    "    , encoder_features = encoder_features\n",
    "    , encoder_labels = encoder_labels\n",
    ")"
   ]
  },
  {
   "cell_type": "code",
   "execution_count": 21,
   "metadata": {},
   "outputs": [],
   "source": [
    "hyperparamset = aidb.Hyperparamset.from_algorithm(\n",
    "    algorithm_id = algorithm.id\n",
    "    , preprocess_id = preprocess.id\n",
    "    , description = \"experimenting with number of epochs\"\n",
    "\t, hyperparameters = hyperparameters\n",
    ")"
   ]
  },
  {
   "cell_type": "code",
   "execution_count": 22,
   "metadata": {},
   "outputs": [
    {
     "data": {
      "text/plain": [
       "18"
      ]
     },
     "execution_count": 22,
     "metadata": {},
     "output_type": "execute_result"
    }
   ],
   "source": [
    "hyperparamset.hyperparamcombo_count"
   ]
  },
  {
   "cell_type": "code",
   "execution_count": 23,
   "metadata": {},
   "outputs": [],
   "source": [
    "batch = aidb.Batch.from_algorithm(\n",
    "    algorithm_id = algorithm.id\n",
    "    , splitset_id = splitset.id\n",
    "    , hyperparamset_id = hyperparamset.id\n",
    "    , foldset_id = None #foldset.id\n",
    "    , only_folded_training = False\n",
    ")"
   ]
  },
  {
   "cell_type": "code",
   "execution_count": 24,
   "metadata": {},
   "outputs": [
    {
     "data": {
      "text/plain": [
       "18"
      ]
     },
     "execution_count": 24,
     "metadata": {},
     "output_type": "execute_result"
    }
   ],
   "source": [
    "batch.job_count"
   ]
  },
  {
   "cell_type": "code",
   "execution_count": 25,
   "metadata": {},
   "outputs": [
    {
     "name": "stderr",
     "output_type": "stream",
     "text": [
      "🔮 Training Models 🔮: 100%|████████████████████████████████████████| 18/18 [01:49<00:00,  6.09s/it]\n"
     ]
    }
   ],
   "source": [
    "batch.run_jobs(verbose=False)"
   ]
  },
  {
   "cell_type": "code",
   "execution_count": 30,
   "metadata": {},
   "outputs": [
    {
     "data": {
      "text/plain": [
       "{1: 'Succeeded',\n",
       " 2: 'Succeeded',\n",
       " 3: 'Succeeded',\n",
       " 4: 'Succeeded',\n",
       " 5: 'Succeeded',\n",
       " 6: 'Succeeded',\n",
       " 7: 'Succeeded',\n",
       " 8: 'Succeeded',\n",
       " 9: 'Succeeded',\n",
       " 10: 'Succeeded',\n",
       " 11: 'Succeeded',\n",
       " 12: 'Queued',\n",
       " 13: 'Queued',\n",
       " 14: 'Queued',\n",
       " 15: 'Queued',\n",
       " 16: 'Queued',\n",
       " 17: 'Queued',\n",
       " 18: 'Queued'}"
      ]
     },
     "execution_count": 30,
     "metadata": {},
     "output_type": "execute_result"
    }
   ],
   "source": [
    "batch.get_statuses()"
   ]
  },
  {
   "cell_type": "code",
   "execution_count": 31,
   "metadata": {},
   "outputs": [],
   "source": [
    "#batch.stop_jobs()"
   ]
  },
  {
   "cell_type": "code",
   "execution_count": 32,
   "metadata": {},
   "outputs": [
    {
     "data": {
      "text/plain": [
       "{'train': [0.18633891642093658, 0.9019607901573181],\n",
       " 'validation': [0.29165956377983093, 0.8888888955116272],\n",
       " 'test': [0.4498462378978729, 0.8333333134651184]}"
      ]
     },
     "execution_count": 32,
     "metadata": {},
     "output_type": "execute_result"
    }
   ],
   "source": [
    "#batch.jobs[0].results[0].get_model()\n",
    "batch.jobs[0].results[0].evaluations\n",
    "#batch.jobs[0].results[0].model_history"
   ]
  },
  {
   "cell_type": "code",
   "execution_count": 5,
   "metadata": {},
   "outputs": [
    {
     "ename": "ValueError",
     "evalue": "Value of 'x' is not the name of a column in 'data_frame'. Expected one of [] but received: loss",
     "output_type": "error",
     "traceback": [
      "\u001b[0;31m---------------------------------------------------------------------------\u001b[0m",
      "\u001b[0;31mValueError\u001b[0m                                Traceback (most recent call last)",
      "\u001b[0;32m<ipython-input-5-29a16601067e>\u001b[0m in \u001b[0;36m<module>\u001b[0;34m\u001b[0m\n\u001b[0;32m----> 1\u001b[0;31m \u001b[0mfig\u001b[0m \u001b[0;34m=\u001b[0m \u001b[0mbatch\u001b[0m\u001b[0;34m.\u001b[0m\u001b[0mplot_evaluations\u001b[0m\u001b[0;34m(\u001b[0m\u001b[0mmax_loss\u001b[0m\u001b[0;34m=\u001b[0m\u001b[0;36m0.2\u001b[0m\u001b[0;34m,\u001b[0m \u001b[0mmin_accuracy\u001b[0m\u001b[0;34m=\u001b[0m\u001b[0;36m0.93\u001b[0m\u001b[0;34m)\u001b[0m\u001b[0;34m\u001b[0m\u001b[0;34m\u001b[0m\u001b[0m\n\u001b[0m\u001b[1;32m      2\u001b[0m \u001b[0mfig\u001b[0m\u001b[0;34m\u001b[0m\u001b[0;34m\u001b[0m\u001b[0m\n",
      "\u001b[0;32m~/Desktop/pydatasci/pydatasci/aidb/__init__.py\u001b[0m in \u001b[0;36mplot_evaluations\u001b[0;34m(id, max_loss, min_accuracy)\u001b[0m\n\u001b[1;32m   1328\u001b[0m                         \u001b[0;34m,\u001b[0m \u001b[0mcolor\u001b[0m \u001b[0;34m=\u001b[0m \u001b[0;34m'job_id'\u001b[0m\u001b[0;34m\u001b[0m\u001b[0;34m\u001b[0m\u001b[0m\n\u001b[1;32m   1329\u001b[0m                         \u001b[0;34m,\u001b[0m \u001b[0mheight\u001b[0m \u001b[0;34m=\u001b[0m \u001b[0;36m600\u001b[0m\u001b[0;34m\u001b[0m\u001b[0;34m\u001b[0m\u001b[0m\n\u001b[0;32m-> 1330\u001b[0;31m                         \u001b[0;34m,\u001b[0m \u001b[0mhover_data\u001b[0m \u001b[0;34m=\u001b[0m \u001b[0;34m[\u001b[0m\u001b[0;34m'job_id'\u001b[0m\u001b[0;34m,\u001b[0m \u001b[0;34m'split'\u001b[0m\u001b[0;34m,\u001b[0m \u001b[0;34m'accuracy'\u001b[0m\u001b[0;34m,\u001b[0m \u001b[0;34m'loss'\u001b[0m\u001b[0;34m]\u001b[0m\u001b[0;34m\u001b[0m\u001b[0;34m\u001b[0m\u001b[0m\n\u001b[0m\u001b[1;32m   1331\u001b[0m \t\t)\n\u001b[1;32m   1332\u001b[0m \t\tfig.update_traces(\n",
      "\u001b[0;32m~/.pyenv/versions/3.7.6/envs/jupyterlab/lib/python3.7/site-packages/plotly/express/_chart_types.py\u001b[0m in \u001b[0;36mline\u001b[0;34m(data_frame, x, y, line_group, color, line_dash, hover_name, hover_data, custom_data, text, facet_row, facet_col, facet_col_wrap, facet_row_spacing, facet_col_spacing, error_x, error_x_minus, error_y, error_y_minus, animation_frame, animation_group, category_orders, labels, orientation, color_discrete_sequence, color_discrete_map, line_dash_sequence, line_dash_map, log_x, log_y, range_x, range_y, line_shape, render_mode, title, template, width, height)\u001b[0m\n\u001b[1;32m    250\u001b[0m     \u001b[0ma\u001b[0m \u001b[0mpolyline\u001b[0m \u001b[0mmark\u001b[0m \u001b[0;32min\u001b[0m \u001b[0;36m2\u001b[0m\u001b[0mD\u001b[0m \u001b[0mspace\u001b[0m\u001b[0;34m.\u001b[0m\u001b[0;34m\u001b[0m\u001b[0;34m\u001b[0m\u001b[0m\n\u001b[1;32m    251\u001b[0m     \"\"\"\n\u001b[0;32m--> 252\u001b[0;31m     \u001b[0;32mreturn\u001b[0m \u001b[0mmake_figure\u001b[0m\u001b[0;34m(\u001b[0m\u001b[0margs\u001b[0m\u001b[0;34m=\u001b[0m\u001b[0mlocals\u001b[0m\u001b[0;34m(\u001b[0m\u001b[0;34m)\u001b[0m\u001b[0;34m,\u001b[0m \u001b[0mconstructor\u001b[0m\u001b[0;34m=\u001b[0m\u001b[0mgo\u001b[0m\u001b[0;34m.\u001b[0m\u001b[0mScatter\u001b[0m\u001b[0;34m)\u001b[0m\u001b[0;34m\u001b[0m\u001b[0;34m\u001b[0m\u001b[0m\n\u001b[0m\u001b[1;32m    253\u001b[0m \u001b[0;34m\u001b[0m\u001b[0m\n\u001b[1;32m    254\u001b[0m \u001b[0;34m\u001b[0m\u001b[0m\n",
      "\u001b[0;32m~/.pyenv/versions/3.7.6/envs/jupyterlab/lib/python3.7/site-packages/plotly/express/_core.py\u001b[0m in \u001b[0;36mmake_figure\u001b[0;34m(args, constructor, trace_patch, layout_patch)\u001b[0m\n\u001b[1;32m   1829\u001b[0m     \u001b[0mapply_default_cascade\u001b[0m\u001b[0;34m(\u001b[0m\u001b[0margs\u001b[0m\u001b[0;34m)\u001b[0m\u001b[0;34m\u001b[0m\u001b[0;34m\u001b[0m\u001b[0m\n\u001b[1;32m   1830\u001b[0m \u001b[0;34m\u001b[0m\u001b[0m\n\u001b[0;32m-> 1831\u001b[0;31m     \u001b[0margs\u001b[0m \u001b[0;34m=\u001b[0m \u001b[0mbuild_dataframe\u001b[0m\u001b[0;34m(\u001b[0m\u001b[0margs\u001b[0m\u001b[0;34m,\u001b[0m \u001b[0mconstructor\u001b[0m\u001b[0;34m)\u001b[0m\u001b[0;34m\u001b[0m\u001b[0;34m\u001b[0m\u001b[0m\n\u001b[0m\u001b[1;32m   1832\u001b[0m     \u001b[0;32mif\u001b[0m \u001b[0mconstructor\u001b[0m \u001b[0;32min\u001b[0m \u001b[0;34m[\u001b[0m\u001b[0mgo\u001b[0m\u001b[0;34m.\u001b[0m\u001b[0mTreemap\u001b[0m\u001b[0;34m,\u001b[0m \u001b[0mgo\u001b[0m\u001b[0;34m.\u001b[0m\u001b[0mSunburst\u001b[0m\u001b[0;34m]\u001b[0m \u001b[0;32mand\u001b[0m \u001b[0margs\u001b[0m\u001b[0;34m[\u001b[0m\u001b[0;34m\"path\"\u001b[0m\u001b[0;34m]\u001b[0m \u001b[0;32mis\u001b[0m \u001b[0;32mnot\u001b[0m \u001b[0;32mNone\u001b[0m\u001b[0;34m:\u001b[0m\u001b[0;34m\u001b[0m\u001b[0;34m\u001b[0m\u001b[0m\n\u001b[1;32m   1833\u001b[0m         \u001b[0margs\u001b[0m \u001b[0;34m=\u001b[0m \u001b[0mprocess_dataframe_hierarchy\u001b[0m\u001b[0;34m(\u001b[0m\u001b[0margs\u001b[0m\u001b[0;34m)\u001b[0m\u001b[0;34m\u001b[0m\u001b[0;34m\u001b[0m\u001b[0m\n",
      "\u001b[0;32m~/.pyenv/versions/3.7.6/envs/jupyterlab/lib/python3.7/site-packages/plotly/express/_core.py\u001b[0m in \u001b[0;36mbuild_dataframe\u001b[0;34m(args, constructor)\u001b[0m\n\u001b[1;32m   1362\u001b[0m \u001b[0;34m\u001b[0m\u001b[0m\n\u001b[1;32m   1363\u001b[0m     df_output, wide_id_vars = process_args_into_dataframe(\n\u001b[0;32m-> 1364\u001b[0;31m         \u001b[0margs\u001b[0m\u001b[0;34m,\u001b[0m \u001b[0mwide_mode\u001b[0m\u001b[0;34m,\u001b[0m \u001b[0mvar_name\u001b[0m\u001b[0;34m,\u001b[0m \u001b[0mvalue_name\u001b[0m\u001b[0;34m\u001b[0m\u001b[0;34m\u001b[0m\u001b[0m\n\u001b[0m\u001b[1;32m   1365\u001b[0m     )\n\u001b[1;32m   1366\u001b[0m \u001b[0;34m\u001b[0m\u001b[0m\n",
      "\u001b[0;32m~/.pyenv/versions/3.7.6/envs/jupyterlab/lib/python3.7/site-packages/plotly/express/_core.py\u001b[0m in \u001b[0;36mprocess_args_into_dataframe\u001b[0;34m(args, wide_mode, var_name, value_name)\u001b[0m\n\u001b[1;32m   1164\u001b[0m                         \u001b[0;32mif\u001b[0m \u001b[0margument\u001b[0m \u001b[0;34m==\u001b[0m \u001b[0;34m\"index\"\u001b[0m\u001b[0;34m:\u001b[0m\u001b[0;34m\u001b[0m\u001b[0;34m\u001b[0m\u001b[0m\n\u001b[1;32m   1165\u001b[0m                             \u001b[0merr_msg\u001b[0m \u001b[0;34m+=\u001b[0m \u001b[0;34m\"\\n To use the index, pass it in directly as `df.index`.\"\u001b[0m\u001b[0;34m\u001b[0m\u001b[0;34m\u001b[0m\u001b[0m\n\u001b[0;32m-> 1166\u001b[0;31m                         \u001b[0;32mraise\u001b[0m \u001b[0mValueError\u001b[0m\u001b[0;34m(\u001b[0m\u001b[0merr_msg\u001b[0m\u001b[0;34m)\u001b[0m\u001b[0;34m\u001b[0m\u001b[0;34m\u001b[0m\u001b[0m\n\u001b[0m\u001b[1;32m   1167\u001b[0m                 \u001b[0;32melif\u001b[0m \u001b[0mlength\u001b[0m \u001b[0;32mand\u001b[0m \u001b[0mlen\u001b[0m\u001b[0;34m(\u001b[0m\u001b[0mdf_input\u001b[0m\u001b[0;34m[\u001b[0m\u001b[0margument\u001b[0m\u001b[0;34m]\u001b[0m\u001b[0;34m)\u001b[0m \u001b[0;34m!=\u001b[0m \u001b[0mlength\u001b[0m\u001b[0;34m:\u001b[0m\u001b[0;34m\u001b[0m\u001b[0;34m\u001b[0m\u001b[0m\n\u001b[1;32m   1168\u001b[0m                     raise ValueError(\n",
      "\u001b[0;31mValueError\u001b[0m: Value of 'x' is not the name of a column in 'data_frame'. Expected one of [] but received: loss"
     ]
    }
   ],
   "source": [
    "fig = batch.plot_evaluations(max_loss=0.2, min_accuracy=0.93)\n",
    "fig"
   ]
  },
  {
   "cell_type": "markdown",
   "metadata": {},
   "source": [
    "---"
   ]
  },
  {
   "cell_type": "code",
   "execution_count": 28,
   "metadata": {},
   "outputs": [],
   "source": [
    "# peewee as dicts\n",
    "# http://docs.peewee-orm.com/en/latest/peewee/querying.html\n",
    "# pandas from list of dicts\n",
    "# https://pandas.pydata.org/pandas-docs/stable/reference/api/pandas.DataFrame.from_records.html"
   ]
  },
  {
   "cell_type": "code",
   "execution_count": 7,
   "metadata": {},
   "outputs": [],
   "source": [
    "evaluation_dicts = aidb.Result.select(\n",
    "    aidb.Result.id, aidb.Result.evaluations\n",
    ").join(aidb.Job).join(aidb.Batch).where(aidb.Batch.id == 1).dicts()"
   ]
  },
  {
   "cell_type": "code",
   "execution_count": 8,
   "metadata": {},
   "outputs": [],
   "source": [
    "data_names = list(evaluation_dicts[0]['evaluations'].keys())"
   ]
  },
  {
   "cell_type": "code",
   "execution_count": 9,
   "metadata": {},
   "outputs": [],
   "source": [
    "# for d in evaluation_dicts:\n",
    "#     for k in data_names:\n",
    "#         key_loss = k + '_loss'\n",
    "#         key_acc = k + '_accuracy'\n",
    "        \n",
    "#         d[key_loss] = d['evaluations'][k][0]\n",
    "#         d[key_acc] = d['evaluations'][k][1]\n",
    "    \n",
    "#     del d['evaluations']"
   ]
  },
  {
   "cell_type": "code",
   "execution_count": 10,
   "metadata": {},
   "outputs": [],
   "source": [
    "max_loss = 0.2\n",
    "min_acc = 0.93"
   ]
  },
  {
   "cell_type": "code",
   "execution_count": 11,
   "metadata": {},
   "outputs": [
    {
     "data": {
      "text/plain": [
       "[{'id': 1,\n",
       "  'evaluations': {'train': [0.18633891642093658, 0.9019607901573181],\n",
       "   'validation': [0.29165956377983093, 0.8888888955116272],\n",
       "   'test': [0.4498462378978729, 0.8333333134651184]}},\n",
       " {'id': 2,\n",
       "  'evaluations': {'train': [0.27278611063957214, 0.9607843160629272],\n",
       "   'validation': [0.4587622880935669, 0.8888888955116272],\n",
       "   'test': [0.6343663334846497, 0.7666666507720947]}},\n",
       " {'id': 3,\n",
       "  'evaluations': {'train': [0.02161559835076332, 1.0],\n",
       "   'validation': [0.25241410732269287, 0.9444444179534912],\n",
       "   'test': [0.26610124111175537, 0.9333333373069763]}},\n",
       " {'id': 4,\n",
       "  'evaluations': {'train': [0.04986751452088356, 0.970588207244873],\n",
       "   'validation': [0.2302398979663849, 0.9444444179534912],\n",
       "   'test': [0.37474334239959717, 0.8666666746139526]}},\n",
       " {'id': 5,\n",
       "  'evaluations': {'train': [0.028787637129426003, 0.9901960492134094],\n",
       "   'validation': [0.3561955690383911, 0.9444444179534912],\n",
       "   'test': [0.35720616579055786, 0.8999999761581421]}},\n",
       " {'id': 6,\n",
       "  'evaluations': {'train': [0.0007702177972532809, 1.0],\n",
       "   'validation': [0.5426470041275024, 0.8888888955116272],\n",
       "   'test': [0.9559397101402283, 0.8999999761581421]}},\n",
       " {'id': 7,\n",
       "  'evaluations': {'train': [0.1397189497947693, 0.9313725233078003],\n",
       "   'validation': [0.32163941860198975, 0.9444444179534912],\n",
       "   'test': [0.29917412996292114, 0.8666666746139526]}},\n",
       " {'id': 8,\n",
       "  'evaluations': {'train': [0.08023428171873093, 0.9803921580314636],\n",
       "   'validation': [0.2469029426574707, 0.9444444179534912],\n",
       "   'test': [0.36667153239250183, 0.8999999761581421]}},\n",
       " {'id': 9,\n",
       "  'evaluations': {'train': [0.0174260176718235, 1.0],\n",
       "   'validation': [0.7785703539848328, 0.8888888955116272],\n",
       "   'test': [1.2923301458358765, 0.8666666746139526]}},\n",
       " {'id': 10,\n",
       "  'evaluations': {'train': [0.062347155064344406, 0.970588207244873],\n",
       "   'validation': [0.23683446645736694, 0.9444444179534912],\n",
       "   'test': [0.529831051826477, 0.8999999761581421]}},\n",
       " {'id': 11,\n",
       "  'evaluations': {'train': [0.020827680826187134, 1.0],\n",
       "   'validation': [0.30884358286857605, 0.9444444179534912],\n",
       "   'test': [0.4416492283344269, 0.8999999761581421]}},\n",
       " {'id': 12,\n",
       "  'evaluations': {'train': [0.0003453274257481098, 1.0],\n",
       "   'validation': [0.711573600769043, 0.8888888955116272],\n",
       "   'test': [1.0441796779632568, 0.8999999761581421]}},\n",
       " {'id': 13,\n",
       "  'evaluations': {'train': [0.12410322576761246, 0.9607843160629272],\n",
       "   'validation': [0.28349754214286804, 0.9444444179534912],\n",
       "   'test': [0.34426286816596985, 0.8666666746139526]}},\n",
       " {'id': 14,\n",
       "  'evaluations': {'train': [0.0875958651304245, 0.9803921580314636],\n",
       "   'validation': [0.2950076758861542, 0.9444444179534912],\n",
       "   'test': [0.21103432774543762, 0.8999999761581421]}},\n",
       " {'id': 15,\n",
       "  'evaluations': {'train': [0.01708879880607128, 1.0],\n",
       "   'validation': [0.5297194123268127, 0.9444444179534912],\n",
       "   'test': [0.5609766840934753, 0.8666666746139526]}},\n",
       " {'id': 16,\n",
       "  'evaluations': {'train': [0.03658397123217583, 0.9901960492134094],\n",
       "   'validation': [0.19043301045894623, 0.9444444179534912],\n",
       "   'test': [0.2963055968284607, 0.8999999761581421]}},\n",
       " {'id': 17,\n",
       "  'evaluations': {'train': [0.015009347349405289, 1.0],\n",
       "   'validation': [0.35885167121887207, 0.9444444179534912],\n",
       "   'test': [0.37549227476119995, 0.8999999761581421]}},\n",
       " {'id': 18,\n",
       "  'evaluations': {'train': [0.00015720805095043033, 1.0],\n",
       "   'validation': [0.36215198040008545, 0.8888888955116272],\n",
       "   'test': [0.7376807928085327, 0.8999999761581421]}}]"
      ]
     },
     "execution_count": 11,
     "metadata": {},
     "output_type": "execute_result"
    }
   ],
   "source": [
    "# need to extract each instance from the model object\n",
    "evaluation_dicts = [ed for ed in evaluation_dicts]\n",
    "evaluation_dicts"
   ]
  },
  {
   "cell_type": "code",
   "execution_count": 12,
   "metadata": {},
   "outputs": [],
   "source": [
    "dicts_by_split = []\n",
    "\n",
    "# Create a separate dictionary for each split.\n",
    "# Prune out the jobs that don't meet the criteria for any split.\n",
    "for d in evaluation_dicts:\n",
    "    rows = []\n",
    "    checks = []\n",
    "    for k in data_names:\n",
    "        pack = {}\n",
    "        loss = d['evaluations'][k][0]\n",
    "        acc = d['evaluations'][k][1]\n",
    "        \n",
    "        if (loss >= max_loss) or (acc <= min_acc):\n",
    "            failed = True\n",
    "        else:\n",
    "            failed = False\n",
    "            pack['loss'] = loss\n",
    "            pack['accuracy'] = acc\n",
    "            # Manipulate so that `split` is it's own column is easy to plot.\n",
    "            pack['split'] = k\n",
    "            # Rename key to be obvious to user on the chart.\n",
    "            pack['job_id'] = d['id']\n",
    "            \n",
    "        checks.append(failed)\n",
    "        rows.append(pack)\n",
    "    if True in checks:\n",
    "        pass\n",
    "    else:\n",
    "        for r in rows:\n",
    "            dicts_by_split.append(r)"
   ]
  },
  {
   "cell_type": "code",
   "execution_count": 13,
   "metadata": {},
   "outputs": [
    {
     "data": {
      "text/html": [
       "<div>\n",
       "<style scoped>\n",
       "    .dataframe tbody tr th:only-of-type {\n",
       "        vertical-align: middle;\n",
       "    }\n",
       "\n",
       "    .dataframe tbody tr th {\n",
       "        vertical-align: top;\n",
       "    }\n",
       "\n",
       "    .dataframe thead th {\n",
       "        text-align: right;\n",
       "    }\n",
       "</style>\n",
       "<table border=\"1\" class=\"dataframe\">\n",
       "  <thead>\n",
       "    <tr style=\"text-align: right;\">\n",
       "      <th></th>\n",
       "    </tr>\n",
       "  </thead>\n",
       "  <tbody>\n",
       "  </tbody>\n",
       "</table>\n",
       "</div>"
      ],
      "text/plain": [
       "Empty DataFrame\n",
       "Columns: []\n",
       "Index: []"
      ]
     },
     "execution_count": 13,
     "metadata": {},
     "output_type": "execute_result"
    }
   ],
   "source": [
    "df = pd.DataFrame.from_records(dicts_by_split)\n",
    "df"
   ]
  },
  {
   "cell_type": "code",
   "execution_count": 90,
   "metadata": {},
   "outputs": [],
   "source": [
    "# fig = px.scatter(\n",
    "#     df\n",
    "#     , title = 'Models by Loss and Accuracy'\n",
    "#     , x = 'validation_loss'\n",
    "#     , y = 'validation_accuracy'\n",
    "#     , text = 'id'\n",
    "#     , color = 'validation_accuracy'\n",
    "#     #, size = 'validation_loss'\n",
    "#     , color_continuous_scale=px.colors.sequential.Mint\n",
    "#     , opacity=0.65\n",
    "#     , height = 750\n",
    "# )\n",
    "# fig.update_traces(textposition='top center', marker = dict(size=10))\n",
    "# fig.show()"
   ]
  },
  {
   "cell_type": "code",
   "execution_count": 91,
   "metadata": {},
   "outputs": [],
   "source": [
    "# import pandas as pd\n",
    "# df = pd.DataFrame.from_records([\n",
    "#     {'job_id': '1', 'split': 'train', 'loss': 0.05, 'accuracy': 0.95}\n",
    "#     , {'job_id': '1', 'split': 'validation', 'loss': 0.04, 'accuracy': 0.96}\n",
    "#     , {'job_id': '1', 'split': 'test', 'loss': 0.03, 'accuracy': 0.97}\n",
    "#     , {'job_id': '2', 'split': 'train', 'loss': 0.15, 'accuracy': 0.85}\n",
    "#     , {'job_id': '2', 'split': 'validation', 'loss': 0.14, 'accuracy': 0.86}\n",
    "#     , {'job_id': '2', 'split': 'test', 'loss': 0.13, 'accuracy': 0.87}\n",
    "# ])"
   ]
  },
  {
   "cell_type": "code",
   "execution_count": 249,
   "metadata": {},
   "outputs": [
    {
     "data": {
      "application/vnd.plotly.v1+json": {
       "config": {
        "plotlyServerURL": "https://plot.ly"
       },
       "data": [
        {
         "customdata": [
          [
           3,
           "train",
           0.9901960492134094,
           0.03171217069029808
          ],
          [
           3,
           "validation",
           0.9444444179534912,
           0.12717430293560028
          ],
          [
           3,
           "test",
           0.9333333373069763,
           0.07465623319149017
          ]
         ],
         "hovertemplate": "job_id=%{customdata[0]}<br>loss=%{customdata[3]}<br>accuracy=%{customdata[2]}<br>split=%{customdata[1]}<extra></extra>",
         "legendgroup": "3",
         "line": {
          "color": "#636efa",
          "dash": "solid",
          "width": 1
         },
         "mode": "markers+lines",
         "name": "3",
         "opacity": 0.9,
         "orientation": "v",
         "showlegend": true,
         "type": "scatter",
         "x": [
          0.03171217069029808,
          0.12717430293560028,
          0.07465623319149017
         ],
         "xaxis": "x",
         "y": [
          0.9901960492134094,
          0.9444444179534912,
          0.9333333373069763
         ],
         "yaxis": "y"
        },
        {
         "customdata": [
          [
           4,
           "train",
           0.9901960492134094,
           0.047735415399074554
          ],
          [
           4,
           "validation",
           0.9444444179534912,
           0.13528980314731598
          ],
          [
           4,
           "test",
           0.9666666388511658,
           0.07909873127937317
          ]
         ],
         "hovertemplate": "job_id=%{customdata[0]}<br>loss=%{customdata[3]}<br>accuracy=%{customdata[2]}<br>split=%{customdata[1]}<extra></extra>",
         "legendgroup": "4",
         "line": {
          "color": "#EF553B",
          "dash": "solid",
          "width": 1
         },
         "mode": "markers+lines",
         "name": "4",
         "opacity": 0.9,
         "orientation": "v",
         "showlegend": true,
         "type": "scatter",
         "x": [
          0.047735415399074554,
          0.13528980314731598,
          0.07909873127937317
         ],
         "xaxis": "x",
         "y": [
          0.9901960492134094,
          0.9444444179534912,
          0.9666666388511658
         ],
         "yaxis": "y"
        },
        {
         "customdata": [
          [
           14,
           "train",
           0.9803921580314636,
           0.09444286674261093
          ],
          [
           14,
           "validation",
           0.9444444179534912,
           0.12689512968063354
          ],
          [
           14,
           "test",
           0.9333333373069763,
           0.17835025489330292
          ]
         ],
         "hovertemplate": "job_id=%{customdata[0]}<br>loss=%{customdata[3]}<br>accuracy=%{customdata[2]}<br>split=%{customdata[1]}<extra></extra>",
         "legendgroup": "14",
         "line": {
          "color": "#00cc96",
          "dash": "solid",
          "width": 1
         },
         "mode": "markers+lines",
         "name": "14",
         "opacity": 0.9,
         "orientation": "v",
         "showlegend": true,
         "type": "scatter",
         "x": [
          0.09444286674261093,
          0.12689512968063354,
          0.17835025489330292
         ],
         "xaxis": "x",
         "y": [
          0.9803921580314636,
          0.9444444179534912,
          0.9333333373069763
         ],
         "yaxis": "y"
        },
        {
         "customdata": [
          [
           16,
           "train",
           1,
           0.024510767310857773
          ],
          [
           16,
           "validation",
           0.9444444179534912,
           0.16113825142383575
          ],
          [
           16,
           "test",
           0.9333333373069763,
           0.14975497126579285
          ]
         ],
         "hovertemplate": "job_id=%{customdata[0]}<br>loss=%{customdata[3]}<br>accuracy=%{customdata[2]}<br>split=%{customdata[1]}<extra></extra>",
         "legendgroup": "16",
         "line": {
          "color": "#ab63fa",
          "dash": "solid",
          "width": 1
         },
         "mode": "markers+lines",
         "name": "16",
         "opacity": 0.9,
         "orientation": "v",
         "showlegend": true,
         "type": "scatter",
         "x": [
          0.024510767310857773,
          0.16113825142383575,
          0.14975497126579285
         ],
         "xaxis": "x",
         "y": [
          1,
          0.9444444179534912,
          0.9333333373069763
         ],
         "yaxis": "y"
        },
        {
         "customdata": [
          [
           17,
           "train",
           1,
           0.011544108390808105
          ],
          [
           17,
           "validation",
           0.9444444179534912,
           0.15103048086166382
          ],
          [
           17,
           "test",
           0.9333333373069763,
           0.06971447169780731
          ]
         ],
         "hovertemplate": "job_id=%{customdata[0]}<br>loss=%{customdata[3]}<br>accuracy=%{customdata[2]}<br>split=%{customdata[1]}<extra></extra>",
         "legendgroup": "17",
         "line": {
          "color": "#FFA15A",
          "dash": "solid",
          "width": 1
         },
         "mode": "markers+lines",
         "name": "17",
         "opacity": 0.9,
         "orientation": "v",
         "showlegend": true,
         "type": "scatter",
         "x": [
          0.011544108390808105,
          0.15103048086166382,
          0.06971447169780731
         ],
         "xaxis": "x",
         "y": [
          1,
          0.9444444179534912,
          0.9333333373069763
         ],
         "yaxis": "y"
        }
       ],
       "layout": {
        "autosize": true,
        "font": {
         "color": "#FAFAFA",
         "family": "Avenir"
        },
        "hoverlabel": {
         "bgcolor": "#E0E0E0",
         "font": {
          "family": "Avenir",
          "size": 12
         }
        },
        "legend": {
         "title": {
          "text": "job_id"
         },
         "tracegroupgap": 0
        },
        "paper_bgcolor": "#181B1E",
        "plot_bgcolor": "#181B1E",
        "template": {
         "data": {
          "bar": [
           {
            "error_x": {
             "color": "#2a3f5f"
            },
            "error_y": {
             "color": "#2a3f5f"
            },
            "marker": {
             "line": {
              "color": "#E5ECF6",
              "width": 0.5
             }
            },
            "type": "bar"
           }
          ],
          "barpolar": [
           {
            "marker": {
             "line": {
              "color": "#E5ECF6",
              "width": 0.5
             }
            },
            "type": "barpolar"
           }
          ],
          "carpet": [
           {
            "aaxis": {
             "endlinecolor": "#2a3f5f",
             "gridcolor": "white",
             "linecolor": "white",
             "minorgridcolor": "white",
             "startlinecolor": "#2a3f5f"
            },
            "baxis": {
             "endlinecolor": "#2a3f5f",
             "gridcolor": "white",
             "linecolor": "white",
             "minorgridcolor": "white",
             "startlinecolor": "#2a3f5f"
            },
            "type": "carpet"
           }
          ],
          "choropleth": [
           {
            "colorbar": {
             "outlinewidth": 0,
             "ticks": ""
            },
            "type": "choropleth"
           }
          ],
          "contour": [
           {
            "colorbar": {
             "outlinewidth": 0,
             "ticks": ""
            },
            "colorscale": [
             [
              0,
              "#0d0887"
             ],
             [
              0.1111111111111111,
              "#46039f"
             ],
             [
              0.2222222222222222,
              "#7201a8"
             ],
             [
              0.3333333333333333,
              "#9c179e"
             ],
             [
              0.4444444444444444,
              "#bd3786"
             ],
             [
              0.5555555555555556,
              "#d8576b"
             ],
             [
              0.6666666666666666,
              "#ed7953"
             ],
             [
              0.7777777777777778,
              "#fb9f3a"
             ],
             [
              0.8888888888888888,
              "#fdca26"
             ],
             [
              1,
              "#f0f921"
             ]
            ],
            "type": "contour"
           }
          ],
          "contourcarpet": [
           {
            "colorbar": {
             "outlinewidth": 0,
             "ticks": ""
            },
            "type": "contourcarpet"
           }
          ],
          "heatmap": [
           {
            "colorbar": {
             "outlinewidth": 0,
             "ticks": ""
            },
            "colorscale": [
             [
              0,
              "#0d0887"
             ],
             [
              0.1111111111111111,
              "#46039f"
             ],
             [
              0.2222222222222222,
              "#7201a8"
             ],
             [
              0.3333333333333333,
              "#9c179e"
             ],
             [
              0.4444444444444444,
              "#bd3786"
             ],
             [
              0.5555555555555556,
              "#d8576b"
             ],
             [
              0.6666666666666666,
              "#ed7953"
             ],
             [
              0.7777777777777778,
              "#fb9f3a"
             ],
             [
              0.8888888888888888,
              "#fdca26"
             ],
             [
              1,
              "#f0f921"
             ]
            ],
            "type": "heatmap"
           }
          ],
          "heatmapgl": [
           {
            "colorbar": {
             "outlinewidth": 0,
             "ticks": ""
            },
            "colorscale": [
             [
              0,
              "#0d0887"
             ],
             [
              0.1111111111111111,
              "#46039f"
             ],
             [
              0.2222222222222222,
              "#7201a8"
             ],
             [
              0.3333333333333333,
              "#9c179e"
             ],
             [
              0.4444444444444444,
              "#bd3786"
             ],
             [
              0.5555555555555556,
              "#d8576b"
             ],
             [
              0.6666666666666666,
              "#ed7953"
             ],
             [
              0.7777777777777778,
              "#fb9f3a"
             ],
             [
              0.8888888888888888,
              "#fdca26"
             ],
             [
              1,
              "#f0f921"
             ]
            ],
            "type": "heatmapgl"
           }
          ],
          "histogram": [
           {
            "marker": {
             "colorbar": {
              "outlinewidth": 0,
              "ticks": ""
             }
            },
            "type": "histogram"
           }
          ],
          "histogram2d": [
           {
            "colorbar": {
             "outlinewidth": 0,
             "ticks": ""
            },
            "colorscale": [
             [
              0,
              "#0d0887"
             ],
             [
              0.1111111111111111,
              "#46039f"
             ],
             [
              0.2222222222222222,
              "#7201a8"
             ],
             [
              0.3333333333333333,
              "#9c179e"
             ],
             [
              0.4444444444444444,
              "#bd3786"
             ],
             [
              0.5555555555555556,
              "#d8576b"
             ],
             [
              0.6666666666666666,
              "#ed7953"
             ],
             [
              0.7777777777777778,
              "#fb9f3a"
             ],
             [
              0.8888888888888888,
              "#fdca26"
             ],
             [
              1,
              "#f0f921"
             ]
            ],
            "type": "histogram2d"
           }
          ],
          "histogram2dcontour": [
           {
            "colorbar": {
             "outlinewidth": 0,
             "ticks": ""
            },
            "colorscale": [
             [
              0,
              "#0d0887"
             ],
             [
              0.1111111111111111,
              "#46039f"
             ],
             [
              0.2222222222222222,
              "#7201a8"
             ],
             [
              0.3333333333333333,
              "#9c179e"
             ],
             [
              0.4444444444444444,
              "#bd3786"
             ],
             [
              0.5555555555555556,
              "#d8576b"
             ],
             [
              0.6666666666666666,
              "#ed7953"
             ],
             [
              0.7777777777777778,
              "#fb9f3a"
             ],
             [
              0.8888888888888888,
              "#fdca26"
             ],
             [
              1,
              "#f0f921"
             ]
            ],
            "type": "histogram2dcontour"
           }
          ],
          "mesh3d": [
           {
            "colorbar": {
             "outlinewidth": 0,
             "ticks": ""
            },
            "type": "mesh3d"
           }
          ],
          "parcoords": [
           {
            "line": {
             "colorbar": {
              "outlinewidth": 0,
              "ticks": ""
             }
            },
            "type": "parcoords"
           }
          ],
          "pie": [
           {
            "automargin": true,
            "type": "pie"
           }
          ],
          "scatter": [
           {
            "marker": {
             "colorbar": {
              "outlinewidth": 0,
              "ticks": ""
             }
            },
            "type": "scatter"
           }
          ],
          "scatter3d": [
           {
            "line": {
             "colorbar": {
              "outlinewidth": 0,
              "ticks": ""
             }
            },
            "marker": {
             "colorbar": {
              "outlinewidth": 0,
              "ticks": ""
             }
            },
            "type": "scatter3d"
           }
          ],
          "scattercarpet": [
           {
            "marker": {
             "colorbar": {
              "outlinewidth": 0,
              "ticks": ""
             }
            },
            "type": "scattercarpet"
           }
          ],
          "scattergeo": [
           {
            "marker": {
             "colorbar": {
              "outlinewidth": 0,
              "ticks": ""
             }
            },
            "type": "scattergeo"
           }
          ],
          "scattergl": [
           {
            "marker": {
             "colorbar": {
              "outlinewidth": 0,
              "ticks": ""
             }
            },
            "type": "scattergl"
           }
          ],
          "scattermapbox": [
           {
            "marker": {
             "colorbar": {
              "outlinewidth": 0,
              "ticks": ""
             }
            },
            "type": "scattermapbox"
           }
          ],
          "scatterpolar": [
           {
            "marker": {
             "colorbar": {
              "outlinewidth": 0,
              "ticks": ""
             }
            },
            "type": "scatterpolar"
           }
          ],
          "scatterpolargl": [
           {
            "marker": {
             "colorbar": {
              "outlinewidth": 0,
              "ticks": ""
             }
            },
            "type": "scatterpolargl"
           }
          ],
          "scatterternary": [
           {
            "marker": {
             "colorbar": {
              "outlinewidth": 0,
              "ticks": ""
             }
            },
            "type": "scatterternary"
           }
          ],
          "surface": [
           {
            "colorbar": {
             "outlinewidth": 0,
             "ticks": ""
            },
            "colorscale": [
             [
              0,
              "#0d0887"
             ],
             [
              0.1111111111111111,
              "#46039f"
             ],
             [
              0.2222222222222222,
              "#7201a8"
             ],
             [
              0.3333333333333333,
              "#9c179e"
             ],
             [
              0.4444444444444444,
              "#bd3786"
             ],
             [
              0.5555555555555556,
              "#d8576b"
             ],
             [
              0.6666666666666666,
              "#ed7953"
             ],
             [
              0.7777777777777778,
              "#fb9f3a"
             ],
             [
              0.8888888888888888,
              "#fdca26"
             ],
             [
              1,
              "#f0f921"
             ]
            ],
            "type": "surface"
           }
          ],
          "table": [
           {
            "cells": {
             "fill": {
              "color": "#EBF0F8"
             },
             "line": {
              "color": "white"
             }
            },
            "header": {
             "fill": {
              "color": "#C8D4E3"
             },
             "line": {
              "color": "white"
             }
            },
            "type": "table"
           }
          ]
         },
         "layout": {
          "annotationdefaults": {
           "arrowcolor": "#2a3f5f",
           "arrowhead": 0,
           "arrowwidth": 1
          },
          "coloraxis": {
           "colorbar": {
            "outlinewidth": 0,
            "ticks": ""
           }
          },
          "colorscale": {
           "diverging": [
            [
             0,
             "#8e0152"
            ],
            [
             0.1,
             "#c51b7d"
            ],
            [
             0.2,
             "#de77ae"
            ],
            [
             0.3,
             "#f1b6da"
            ],
            [
             0.4,
             "#fde0ef"
            ],
            [
             0.5,
             "#f7f7f7"
            ],
            [
             0.6,
             "#e6f5d0"
            ],
            [
             0.7,
             "#b8e186"
            ],
            [
             0.8,
             "#7fbc41"
            ],
            [
             0.9,
             "#4d9221"
            ],
            [
             1,
             "#276419"
            ]
           ],
           "sequential": [
            [
             0,
             "#0d0887"
            ],
            [
             0.1111111111111111,
             "#46039f"
            ],
            [
             0.2222222222222222,
             "#7201a8"
            ],
            [
             0.3333333333333333,
             "#9c179e"
            ],
            [
             0.4444444444444444,
             "#bd3786"
            ],
            [
             0.5555555555555556,
             "#d8576b"
            ],
            [
             0.6666666666666666,
             "#ed7953"
            ],
            [
             0.7777777777777778,
             "#fb9f3a"
            ],
            [
             0.8888888888888888,
             "#fdca26"
            ],
            [
             1,
             "#f0f921"
            ]
           ],
           "sequentialminus": [
            [
             0,
             "#0d0887"
            ],
            [
             0.1111111111111111,
             "#46039f"
            ],
            [
             0.2222222222222222,
             "#7201a8"
            ],
            [
             0.3333333333333333,
             "#9c179e"
            ],
            [
             0.4444444444444444,
             "#bd3786"
            ],
            [
             0.5555555555555556,
             "#d8576b"
            ],
            [
             0.6666666666666666,
             "#ed7953"
            ],
            [
             0.7777777777777778,
             "#fb9f3a"
            ],
            [
             0.8888888888888888,
             "#fdca26"
            ],
            [
             1,
             "#f0f921"
            ]
           ]
          },
          "colorway": [
           "#636efa",
           "#EF553B",
           "#00cc96",
           "#ab63fa",
           "#FFA15A",
           "#19d3f3",
           "#FF6692",
           "#B6E880",
           "#FF97FF",
           "#FECB52"
          ],
          "font": {
           "color": "#2a3f5f"
          },
          "geo": {
           "bgcolor": "white",
           "lakecolor": "white",
           "landcolor": "#E5ECF6",
           "showlakes": true,
           "showland": true,
           "subunitcolor": "white"
          },
          "hoverlabel": {
           "align": "left"
          },
          "hovermode": "closest",
          "mapbox": {
           "style": "light"
          },
          "paper_bgcolor": "white",
          "plot_bgcolor": "#E5ECF6",
          "polar": {
           "angularaxis": {
            "gridcolor": "white",
            "linecolor": "white",
            "ticks": ""
           },
           "bgcolor": "#E5ECF6",
           "radialaxis": {
            "gridcolor": "white",
            "linecolor": "white",
            "ticks": ""
           }
          },
          "scene": {
           "xaxis": {
            "backgroundcolor": "#E5ECF6",
            "gridcolor": "white",
            "gridwidth": 2,
            "linecolor": "white",
            "showbackground": true,
            "ticks": "",
            "zerolinecolor": "white"
           },
           "yaxis": {
            "backgroundcolor": "#E5ECF6",
            "gridcolor": "white",
            "gridwidth": 2,
            "linecolor": "white",
            "showbackground": true,
            "ticks": "",
            "zerolinecolor": "white"
           },
           "zaxis": {
            "backgroundcolor": "#E5ECF6",
            "gridcolor": "white",
            "gridwidth": 2,
            "linecolor": "white",
            "showbackground": true,
            "ticks": "",
            "zerolinecolor": "white"
           }
          },
          "shapedefaults": {
           "line": {
            "color": "#2a3f5f"
           }
          },
          "ternary": {
           "aaxis": {
            "gridcolor": "white",
            "linecolor": "white",
            "ticks": ""
           },
           "baxis": {
            "gridcolor": "white",
            "linecolor": "white",
            "ticks": ""
           },
           "bgcolor": "#E5ECF6",
           "caxis": {
            "gridcolor": "white",
            "linecolor": "white",
            "ticks": ""
           }
          },
          "title": {
           "x": 0.05
          },
          "xaxis": {
           "automargin": true,
           "gridcolor": "white",
           "linecolor": "white",
           "ticks": "",
           "title": {
            "standoff": 15
           },
           "zerolinecolor": "white",
           "zerolinewidth": 2
          },
          "yaxis": {
           "automargin": true,
           "gridcolor": "white",
           "linecolor": "white",
           "ticks": "",
           "title": {
            "standoff": 15
           },
           "zerolinecolor": "white",
           "zerolinewidth": 2
          }
         }
        },
        "title": {
         "text": "<i>Models Metrics by Split ['train', 'validation', 'test']</i>"
        },
        "xaxis": {
         "anchor": "y",
         "autorange": true,
         "domain": [
          0,
          1
         ],
         "gridcolor": "#262B2F",
         "range": [
          0.0011187242344021797,
          0.18877563904970884
         ],
         "tickfont": {
          "color": "#818487"
         },
         "title": {
          "text": "loss"
         },
         "type": "linear"
        },
        "yaxis": {
         "anchor": "x",
         "autorange": true,
         "domain": [
          0,
          1
         ],
         "gridcolor": "#262B2F",
         "range": [
          0.9288798962768755,
          1.0044534410301007
         ],
         "tickfont": {
          "color": "#818487"
         },
         "title": {
          "text": "accuracy"
         },
         "type": "linear"
        }
       }
      },
      "image/png": "[encoded data removed]",
      "text/html": [
       "<div>\n",
       "        \n",
       "        \n",
       "            <div id=\"797108ad-4f77-468b-8d03-48692dff3eae\" class=\"plotly-graph-div\" style=\"height:600px; width:100%;\"></div>\n",
       "            <script type=\"text/javascript\">\n",
       "                require([\"plotly\"], function(Plotly) {\n",
       "                    window.PLOTLYENV=window.PLOTLYENV || {};\n",
       "                    \n",
       "                if (document.getElementById(\"797108ad-4f77-468b-8d03-48692dff3eae\")) {\n",
       "                    Plotly.newPlot(\n",
       "                        '797108ad-4f77-468b-8d03-48692dff3eae',\n",
       "                        [{\"customdata\": [[3, \"train\", 0.9901960492134094, 0.03171217069029808], [3, \"validation\", 0.9444444179534912, 0.12717430293560028], [3, \"test\", 0.9333333373069763, 0.07465623319149017]], \"hovertemplate\": \"job_id=%{customdata[0]}<br>loss=%{customdata[3]}<br>accuracy=%{customdata[2]}<br>split=%{customdata[1]}<extra></extra>\", \"legendgroup\": \"3\", \"line\": {\"color\": \"#636efa\", \"dash\": \"solid\", \"width\": 1}, \"mode\": \"markers+lines\", \"name\": \"3\", \"opacity\": 0.9, \"orientation\": \"v\", \"showlegend\": true, \"type\": \"scatter\", \"x\": [0.03171217069029808, 0.12717430293560028, 0.07465623319149017], \"xaxis\": \"x\", \"y\": [0.9901960492134094, 0.9444444179534912, 0.9333333373069763], \"yaxis\": \"y\"}, {\"customdata\": [[4, \"train\", 0.9901960492134094, 0.047735415399074554], [4, \"validation\", 0.9444444179534912, 0.13528980314731598], [4, \"test\", 0.9666666388511658, 0.07909873127937317]], \"hovertemplate\": \"job_id=%{customdata[0]}<br>loss=%{customdata[3]}<br>accuracy=%{customdata[2]}<br>split=%{customdata[1]}<extra></extra>\", \"legendgroup\": \"4\", \"line\": {\"color\": \"#EF553B\", \"dash\": \"solid\", \"width\": 1}, \"mode\": \"markers+lines\", \"name\": \"4\", \"opacity\": 0.9, \"orientation\": \"v\", \"showlegend\": true, \"type\": \"scatter\", \"x\": [0.047735415399074554, 0.13528980314731598, 0.07909873127937317], \"xaxis\": \"x\", \"y\": [0.9901960492134094, 0.9444444179534912, 0.9666666388511658], \"yaxis\": \"y\"}, {\"customdata\": [[14, \"train\", 0.9803921580314636, 0.09444286674261093], [14, \"validation\", 0.9444444179534912, 0.12689512968063354], [14, \"test\", 0.9333333373069763, 0.17835025489330292]], \"hovertemplate\": \"job_id=%{customdata[0]}<br>loss=%{customdata[3]}<br>accuracy=%{customdata[2]}<br>split=%{customdata[1]}<extra></extra>\", \"legendgroup\": \"14\", \"line\": {\"color\": \"#00cc96\", \"dash\": \"solid\", \"width\": 1}, \"mode\": \"markers+lines\", \"name\": \"14\", \"opacity\": 0.9, \"orientation\": \"v\", \"showlegend\": true, \"type\": \"scatter\", \"x\": [0.09444286674261093, 0.12689512968063354, 0.17835025489330292], \"xaxis\": \"x\", \"y\": [0.9803921580314636, 0.9444444179534912, 0.9333333373069763], \"yaxis\": \"y\"}, {\"customdata\": [[16, \"train\", 1.0, 0.024510767310857773], [16, \"validation\", 0.9444444179534912, 0.16113825142383575], [16, \"test\", 0.9333333373069763, 0.14975497126579285]], \"hovertemplate\": \"job_id=%{customdata[0]}<br>loss=%{customdata[3]}<br>accuracy=%{customdata[2]}<br>split=%{customdata[1]}<extra></extra>\", \"legendgroup\": \"16\", \"line\": {\"color\": \"#ab63fa\", \"dash\": \"solid\", \"width\": 1}, \"mode\": \"markers+lines\", \"name\": \"16\", \"opacity\": 0.9, \"orientation\": \"v\", \"showlegend\": true, \"type\": \"scatter\", \"x\": [0.024510767310857773, 0.16113825142383575, 0.14975497126579285], \"xaxis\": \"x\", \"y\": [1.0, 0.9444444179534912, 0.9333333373069763], \"yaxis\": \"y\"}, {\"customdata\": [[17, \"train\", 1.0, 0.011544108390808105], [17, \"validation\", 0.9444444179534912, 0.15103048086166382], [17, \"test\", 0.9333333373069763, 0.06971447169780731]], \"hovertemplate\": \"job_id=%{customdata[0]}<br>loss=%{customdata[3]}<br>accuracy=%{customdata[2]}<br>split=%{customdata[1]}<extra></extra>\", \"legendgroup\": \"17\", \"line\": {\"color\": \"#FFA15A\", \"dash\": \"solid\", \"width\": 1}, \"mode\": \"markers+lines\", \"name\": \"17\", \"opacity\": 0.9, \"orientation\": \"v\", \"showlegend\": true, \"type\": \"scatter\", \"x\": [0.011544108390808105, 0.15103048086166382, 0.06971447169780731], \"xaxis\": \"x\", \"y\": [1.0, 0.9444444179534912, 0.9333333373069763], \"yaxis\": \"y\"}],\n",
       "                        {\"font\": {\"color\": \"#FAFAFA\", \"family\": \"Avenir\"}, \"height\": 600, \"hoverlabel\": {\"bgcolor\": \"#E0E0E0\", \"font\": {\"family\": \"Avenir\", \"size\": 12}}, \"legend\": {\"title\": {\"text\": \"job_id\"}, \"tracegroupgap\": 0}, \"paper_bgcolor\": \"#181B1E\", \"plot_bgcolor\": \"#181B1E\", \"template\": {\"data\": {\"bar\": [{\"error_x\": {\"color\": \"#2a3f5f\"}, \"error_y\": {\"color\": \"#2a3f5f\"}, \"marker\": {\"line\": {\"color\": \"#E5ECF6\", \"width\": 0.5}}, \"type\": \"bar\"}], \"barpolar\": [{\"marker\": {\"line\": {\"color\": \"#E5ECF6\", \"width\": 0.5}}, \"type\": \"barpolar\"}], \"carpet\": [{\"aaxis\": {\"endlinecolor\": \"#2a3f5f\", \"gridcolor\": \"white\", \"linecolor\": \"white\", \"minorgridcolor\": \"white\", \"startlinecolor\": \"#2a3f5f\"}, \"baxis\": {\"endlinecolor\": \"#2a3f5f\", \"gridcolor\": \"white\", \"linecolor\": \"white\", \"minorgridcolor\": \"white\", \"startlinecolor\": \"#2a3f5f\"}, \"type\": \"carpet\"}], \"choropleth\": [{\"colorbar\": {\"outlinewidth\": 0, \"ticks\": \"\"}, \"type\": \"choropleth\"}], \"contour\": [{\"colorbar\": {\"outlinewidth\": 0, \"ticks\": \"\"}, \"colorscale\": [[0.0, \"#0d0887\"], [0.1111111111111111, \"#46039f\"], [0.2222222222222222, \"#7201a8\"], [0.3333333333333333, \"#9c179e\"], [0.4444444444444444, \"#bd3786\"], [0.5555555555555556, \"#d8576b\"], [0.6666666666666666, \"#ed7953\"], [0.7777777777777778, \"#fb9f3a\"], [0.8888888888888888, \"#fdca26\"], [1.0, \"#f0f921\"]], \"type\": \"contour\"}], \"contourcarpet\": [{\"colorbar\": {\"outlinewidth\": 0, \"ticks\": \"\"}, \"type\": \"contourcarpet\"}], \"heatmap\": [{\"colorbar\": {\"outlinewidth\": 0, \"ticks\": \"\"}, \"colorscale\": [[0.0, \"#0d0887\"], [0.1111111111111111, \"#46039f\"], [0.2222222222222222, \"#7201a8\"], [0.3333333333333333, \"#9c179e\"], [0.4444444444444444, \"#bd3786\"], [0.5555555555555556, \"#d8576b\"], [0.6666666666666666, \"#ed7953\"], [0.7777777777777778, \"#fb9f3a\"], [0.8888888888888888, \"#fdca26\"], [1.0, \"#f0f921\"]], \"type\": \"heatmap\"}], \"heatmapgl\": [{\"colorbar\": {\"outlinewidth\": 0, \"ticks\": \"\"}, \"colorscale\": [[0.0, \"#0d0887\"], [0.1111111111111111, \"#46039f\"], [0.2222222222222222, \"#7201a8\"], [0.3333333333333333, \"#9c179e\"], [0.4444444444444444, \"#bd3786\"], [0.5555555555555556, \"#d8576b\"], [0.6666666666666666, \"#ed7953\"], [0.7777777777777778, \"#fb9f3a\"], [0.8888888888888888, \"#fdca26\"], [1.0, \"#f0f921\"]], \"type\": \"heatmapgl\"}], \"histogram\": [{\"marker\": {\"colorbar\": {\"outlinewidth\": 0, \"ticks\": \"\"}}, \"type\": \"histogram\"}], \"histogram2d\": [{\"colorbar\": {\"outlinewidth\": 0, \"ticks\": \"\"}, \"colorscale\": [[0.0, \"#0d0887\"], [0.1111111111111111, \"#46039f\"], [0.2222222222222222, \"#7201a8\"], [0.3333333333333333, \"#9c179e\"], [0.4444444444444444, \"#bd3786\"], [0.5555555555555556, \"#d8576b\"], [0.6666666666666666, \"#ed7953\"], [0.7777777777777778, \"#fb9f3a\"], [0.8888888888888888, \"#fdca26\"], [1.0, \"#f0f921\"]], \"type\": \"histogram2d\"}], \"histogram2dcontour\": [{\"colorbar\": {\"outlinewidth\": 0, \"ticks\": \"\"}, \"colorscale\": [[0.0, \"#0d0887\"], [0.1111111111111111, \"#46039f\"], [0.2222222222222222, \"#7201a8\"], [0.3333333333333333, \"#9c179e\"], [0.4444444444444444, \"#bd3786\"], [0.5555555555555556, \"#d8576b\"], [0.6666666666666666, \"#ed7953\"], [0.7777777777777778, \"#fb9f3a\"], [0.8888888888888888, \"#fdca26\"], [1.0, \"#f0f921\"]], \"type\": \"histogram2dcontour\"}], \"mesh3d\": [{\"colorbar\": {\"outlinewidth\": 0, \"ticks\": \"\"}, \"type\": \"mesh3d\"}], \"parcoords\": [{\"line\": {\"colorbar\": {\"outlinewidth\": 0, \"ticks\": \"\"}}, \"type\": \"parcoords\"}], \"pie\": [{\"automargin\": true, \"type\": \"pie\"}], \"scatter\": [{\"marker\": {\"colorbar\": {\"outlinewidth\": 0, \"ticks\": \"\"}}, \"type\": \"scatter\"}], \"scatter3d\": [{\"line\": {\"colorbar\": {\"outlinewidth\": 0, \"ticks\": \"\"}}, \"marker\": {\"colorbar\": {\"outlinewidth\": 0, \"ticks\": \"\"}}, \"type\": \"scatter3d\"}], \"scattercarpet\": [{\"marker\": {\"colorbar\": {\"outlinewidth\": 0, \"ticks\": \"\"}}, \"type\": \"scattercarpet\"}], \"scattergeo\": [{\"marker\": {\"colorbar\": {\"outlinewidth\": 0, \"ticks\": \"\"}}, \"type\": \"scattergeo\"}], \"scattergl\": [{\"marker\": {\"colorbar\": {\"outlinewidth\": 0, \"ticks\": \"\"}}, \"type\": \"scattergl\"}], \"scattermapbox\": [{\"marker\": {\"colorbar\": {\"outlinewidth\": 0, \"ticks\": \"\"}}, \"type\": \"scattermapbox\"}], \"scatterpolar\": [{\"marker\": {\"colorbar\": {\"outlinewidth\": 0, \"ticks\": \"\"}}, \"type\": \"scatterpolar\"}], \"scatterpolargl\": [{\"marker\": {\"colorbar\": {\"outlinewidth\": 0, \"ticks\": \"\"}}, \"type\": \"scatterpolargl\"}], \"scatterternary\": [{\"marker\": {\"colorbar\": {\"outlinewidth\": 0, \"ticks\": \"\"}}, \"type\": \"scatterternary\"}], \"surface\": [{\"colorbar\": {\"outlinewidth\": 0, \"ticks\": \"\"}, \"colorscale\": [[0.0, \"#0d0887\"], [0.1111111111111111, \"#46039f\"], [0.2222222222222222, \"#7201a8\"], [0.3333333333333333, \"#9c179e\"], [0.4444444444444444, \"#bd3786\"], [0.5555555555555556, \"#d8576b\"], [0.6666666666666666, \"#ed7953\"], [0.7777777777777778, \"#fb9f3a\"], [0.8888888888888888, \"#fdca26\"], [1.0, \"#f0f921\"]], \"type\": \"surface\"}], \"table\": [{\"cells\": {\"fill\": {\"color\": \"#EBF0F8\"}, \"line\": {\"color\": \"white\"}}, \"header\": {\"fill\": {\"color\": \"#C8D4E3\"}, \"line\": {\"color\": \"white\"}}, \"type\": \"table\"}]}, \"layout\": {\"annotationdefaults\": {\"arrowcolor\": \"#2a3f5f\", \"arrowhead\": 0, \"arrowwidth\": 1}, \"coloraxis\": {\"colorbar\": {\"outlinewidth\": 0, \"ticks\": \"\"}}, \"colorscale\": {\"diverging\": [[0, \"#8e0152\"], [0.1, \"#c51b7d\"], [0.2, \"#de77ae\"], [0.3, \"#f1b6da\"], [0.4, \"#fde0ef\"], [0.5, \"#f7f7f7\"], [0.6, \"#e6f5d0\"], [0.7, \"#b8e186\"], [0.8, \"#7fbc41\"], [0.9, \"#4d9221\"], [1, \"#276419\"]], \"sequential\": [[0.0, \"#0d0887\"], [0.1111111111111111, \"#46039f\"], [0.2222222222222222, \"#7201a8\"], [0.3333333333333333, \"#9c179e\"], [0.4444444444444444, \"#bd3786\"], [0.5555555555555556, \"#d8576b\"], [0.6666666666666666, \"#ed7953\"], [0.7777777777777778, \"#fb9f3a\"], [0.8888888888888888, \"#fdca26\"], [1.0, \"#f0f921\"]], \"sequentialminus\": [[0.0, \"#0d0887\"], [0.1111111111111111, \"#46039f\"], [0.2222222222222222, \"#7201a8\"], [0.3333333333333333, \"#9c179e\"], [0.4444444444444444, \"#bd3786\"], [0.5555555555555556, \"#d8576b\"], [0.6666666666666666, \"#ed7953\"], [0.7777777777777778, \"#fb9f3a\"], [0.8888888888888888, \"#fdca26\"], [1.0, \"#f0f921\"]]}, \"colorway\": [\"#636efa\", \"#EF553B\", \"#00cc96\", \"#ab63fa\", \"#FFA15A\", \"#19d3f3\", \"#FF6692\", \"#B6E880\", \"#FF97FF\", \"#FECB52\"], \"font\": {\"color\": \"#2a3f5f\"}, \"geo\": {\"bgcolor\": \"white\", \"lakecolor\": \"white\", \"landcolor\": \"#E5ECF6\", \"showlakes\": true, \"showland\": true, \"subunitcolor\": \"white\"}, \"hoverlabel\": {\"align\": \"left\"}, \"hovermode\": \"closest\", \"mapbox\": {\"style\": \"light\"}, \"paper_bgcolor\": \"white\", \"plot_bgcolor\": \"#E5ECF6\", \"polar\": {\"angularaxis\": {\"gridcolor\": \"white\", \"linecolor\": \"white\", \"ticks\": \"\"}, \"bgcolor\": \"#E5ECF6\", \"radialaxis\": {\"gridcolor\": \"white\", \"linecolor\": \"white\", \"ticks\": \"\"}}, \"scene\": {\"xaxis\": {\"backgroundcolor\": \"#E5ECF6\", \"gridcolor\": \"white\", \"gridwidth\": 2, \"linecolor\": \"white\", \"showbackground\": true, \"ticks\": \"\", \"zerolinecolor\": \"white\"}, \"yaxis\": {\"backgroundcolor\": \"#E5ECF6\", \"gridcolor\": \"white\", \"gridwidth\": 2, \"linecolor\": \"white\", \"showbackground\": true, \"ticks\": \"\", \"zerolinecolor\": \"white\"}, \"zaxis\": {\"backgroundcolor\": \"#E5ECF6\", \"gridcolor\": \"white\", \"gridwidth\": 2, \"linecolor\": \"white\", \"showbackground\": true, \"ticks\": \"\", \"zerolinecolor\": \"white\"}}, \"shapedefaults\": {\"line\": {\"color\": \"#2a3f5f\"}}, \"ternary\": {\"aaxis\": {\"gridcolor\": \"white\", \"linecolor\": \"white\", \"ticks\": \"\"}, \"baxis\": {\"gridcolor\": \"white\", \"linecolor\": \"white\", \"ticks\": \"\"}, \"bgcolor\": \"#E5ECF6\", \"caxis\": {\"gridcolor\": \"white\", \"linecolor\": \"white\", \"ticks\": \"\"}}, \"title\": {\"x\": 0.05}, \"xaxis\": {\"automargin\": true, \"gridcolor\": \"white\", \"linecolor\": \"white\", \"ticks\": \"\", \"title\": {\"standoff\": 15}, \"zerolinecolor\": \"white\", \"zerolinewidth\": 2}, \"yaxis\": {\"automargin\": true, \"gridcolor\": \"white\", \"linecolor\": \"white\", \"ticks\": \"\", \"title\": {\"standoff\": 15}, \"zerolinecolor\": \"white\", \"zerolinewidth\": 2}}}, \"title\": {\"text\": \"<i>Models Metrics by Split ['train', 'validation', 'test']</i>\"}, \"xaxis\": {\"anchor\": \"y\", \"domain\": [0.0, 1.0], \"gridcolor\": \"#262B2F\", \"tickfont\": {\"color\": \"#818487\"}, \"title\": {\"text\": \"loss\"}}, \"yaxis\": {\"anchor\": \"x\", \"domain\": [0.0, 1.0], \"gridcolor\": \"#262B2F\", \"tickfont\": {\"color\": \"#818487\"}, \"title\": {\"text\": \"accuracy\"}}},\n",
       "                        {\"responsive\": true}\n",
       "                    ).then(function(){\n",
       "                            \n",
       "var gd = document.getElementById('797108ad-4f77-468b-8d03-48692dff3eae');\n",
       "var x = new MutationObserver(function (mutations, observer) {{\n",
       "        var display = window.getComputedStyle(gd).display;\n",
       "        if (!display || display === 'none') {{\n",
       "            console.log([gd, 'removed!']);\n",
       "            Plotly.purge(gd);\n",
       "            observer.disconnect();\n",
       "        }}\n",
       "}});\n",
       "\n",
       "// Listen for the removal of the full notebook cells\n",
       "var notebookContainer = gd.closest('#notebook-container');\n",
       "if (notebookContainer) {{\n",
       "    x.observe(notebookContainer, {childList: true});\n",
       "}}\n",
       "\n",
       "// Listen for the clearing of the current output cell\n",
       "var outputEl = gd.closest('.output');\n",
       "if (outputEl) {{\n",
       "    x.observe(outputEl, {childList: true});\n",
       "}}\n",
       "\n",
       "                        })\n",
       "                };\n",
       "                });\n",
       "            </script>\n",
       "        </div>"
      ]
     },
     "metadata": {},
     "output_type": "display_data"
    }
   ],
   "source": [
    "fig = px.line(\n",
    "    df\n",
    "    , title = '<i>Models Metrics by Split ' + str(data_names) + '</i>'\n",
    "    , x = 'loss'\n",
    "    , y = 'accuracy'\n",
    "    , color = 'job_id'\n",
    "    , height = 600\n",
    "    , hover_data = ['job_id', 'split', 'accuracy', 'loss']\n",
    ")\n",
    "fig.update_traces(\n",
    "    mode = 'markers+lines'\n",
    "    , line = dict(width=1)\n",
    "    , opacity = 0.90\n",
    ")\n",
    "fig.update_layout(\n",
    "    font_family = \"Avenir\"\n",
    "    , font_color = \"#FAFAFA\"\n",
    "    , plot_bgcolor = \"#181B1E\"\n",
    "    , paper_bgcolor = \"#181B1E\"\n",
    "    , hoverlabel = dict(\n",
    "        bgcolor = \"#E0E0E0\"\n",
    "        , font_size = 12\n",
    "        , font_family = \"Avenir\"\n",
    "    )\n",
    ")\n",
    "fig.update_xaxes(gridcolor='#262B2F', tickfont=dict(color='#818487'))\n",
    "fig.update_yaxes(gridcolor='#262B2F', tickfont=dict(color='#818487'))\n",
    "# include the 'split' in the hover\n",
    "fig"
   ]
  },
  {
   "cell_type": "markdown",
   "metadata": {},
   "source": [
    "---"
   ]
  },
  {
   "cell_type": "markdown",
   "metadata": {},
   "source": [
    "---"
   ]
  },
  {
   "cell_type": "markdown",
   "metadata": {},
   "source": [
    "---"
   ]
  },
  {
   "cell_type": "markdown",
   "metadata": {},
   "source": [
    "### Data to use"
   ]
  },
  {
   "cell_type": "code",
   "execution_count": null,
   "metadata": {},
   "outputs": [],
   "source": [
    "samples = splitset.to_numpy()"
   ]
  },
  {
   "cell_type": "code",
   "execution_count": null,
   "metadata": {},
   "outputs": [],
   "source": [
    "train_features = samples[\"train\"][\"features\"]\n",
    "validation_features = samples[\"validation\"][\"features\"]\n",
    "test_features = samples[\"test\"][\"features\"]"
   ]
  },
  {
   "cell_type": "code",
   "execution_count": null,
   "metadata": {},
   "outputs": [],
   "source": [
    "train_labels = samples[\"train\"][\"labels\"]\n",
    "validation_labels = samples[\"validation\"][\"labels\"]\n",
    "test_labels = samples[\"test\"][\"labels\"]"
   ]
  },
  {
   "cell_type": "markdown",
   "metadata": {},
   "source": [
    "https://scikit-learn.org/stable/modules/classes.html#module-sklearn.preprocessing"
   ]
  },
  {
   "cell_type": "markdown",
   "metadata": {},
   "source": [
    "---"
   ]
  },
  {
   "cell_type": "code",
   "execution_count": null,
   "metadata": {},
   "outputs": [],
   "source": [
    "folds = [None]\n",
    "fset = ['a','b','c']\n",
    "folds = folds + fset"
   ]
  },
  {
   "cell_type": "markdown",
   "metadata": {},
   "source": [
    "On jobs need a `Job.from_hyperparamset()`"
   ]
  },
  {
   "cell_type": "markdown",
   "metadata": {},
   "source": [
    "---"
   ]
  },
  {
   "cell_type": "markdown",
   "metadata": {},
   "source": [
    "^ Alternatively, pass in a dictionary of values for that keyword."
   ]
  },
  {
   "cell_type": "markdown",
   "metadata": {},
   "source": [
    "^ Or just pass the params directly into the encoder function if you don't want to hypertune on them."
   ]
  },
  {
   "cell_type": "code",
   "execution_count": null,
   "metadata": {},
   "outputs": [],
   "source": [
    "encoder_labels = encoder.set_params(**encode_features_kwargs)"
   ]
  },
  {
   "cell_type": "code",
   "execution_count": null,
   "metadata": {},
   "outputs": [],
   "source": [
    "encoder_labels_trained = encoder_labels.fit(train_labels)"
   ]
  },
  {
   "cell_type": "code",
   "execution_count": null,
   "metadata": {},
   "outputs": [],
   "source": [
    "train_labels = encoder_labels_trained.transform(train_labels)\n",
    "validation_labels = encoder_labels_trained.transform(validation_labels)\n",
    "test_labels = encoder_labels_trained.transform(test_labels)"
   ]
  },
  {
   "cell_type": "markdown",
   "metadata": {},
   "source": [
    "Create the preprocess object."
   ]
  },
  {
   "cell_type": "code",
   "execution_count": null,
   "metadata": {},
   "outputs": [],
   "source": [
    "preprocess = aidb.Preprocess.create(\n",
    "    encode_labels_function = encoder\n",
    ")"
   ]
  },
  {
   "cell_type": "code",
   "execution_count": null,
   "metadata": {},
   "outputs": [],
   "source": [
    "feature_encoder = preprocess.preprocess_labels_function.set_params(**preprocess_features_kwargs)"
   ]
  },
  {
   "cell_type": "code",
   "execution_count": null,
   "metadata": {},
   "outputs": [],
   "source": [
    "encoder_labels_trained = feature_encoder.fit(train_labels)"
   ]
  },
  {
   "cell_type": "code",
   "execution_count": null,
   "metadata": {},
   "outputs": [],
   "source": [
    "train_labels = encoder_labels_trained.transform(train_labels)\n",
    "validation_labels = encoder_labels_trained.transform(validation_labels)\n",
    "test_labels = encoder_labels_trained.transform(test_labels)"
   ]
  },
  {
   "cell_type": "markdown",
   "metadata": {},
   "source": [
    "^^^ Now do the same, but with kwargs stored in the hyperparamset attribute."
   ]
  },
  {
   "cell_type": "markdown",
   "metadata": {},
   "source": [
    "---"
   ]
  },
  {
   "cell_type": "markdown",
   "metadata": {},
   "source": [
    "---"
   ]
  },
  {
   "cell_type": "markdown",
   "metadata": {},
   "source": [
    "# Normal"
   ]
  },
  {
   "cell_type": "markdown",
   "metadata": {},
   "source": [
    "ToDo - Does Pandas labels probably wants a series too, not a full dataframe? `.as_series()` method?"
   ]
  },
  {
   "cell_type": "code",
   "execution_count": null,
   "metadata": {},
   "outputs": [],
   "source": [
    "samples = splitset.to_numpy()"
   ]
  },
  {
   "cell_type": "code",
   "execution_count": null,
   "metadata": {},
   "outputs": [],
   "source": [
    "train_features = samples[\"train\"][\"features\"]\n",
    "test_features = samples[\"test\"][\"features\"]"
   ]
  },
  {
   "cell_type": "code",
   "execution_count": null,
   "metadata": {},
   "outputs": [],
   "source": [
    "train_labels = samples[\"train\"][\"labels\"]\n",
    "test_labels = samples[\"test\"][\"labels\"]"
   ]
  },
  {
   "cell_type": "code",
   "execution_count": null,
   "metadata": {},
   "outputs": [],
   "source": [
    "encoder = OneHotEncoder(sparse=False)\n",
    "train_labels = encoder.fit_transform(train_labels)\n",
    "test_labels = encoder.fit_transform(test_labels)"
   ]
  },
  {
   "cell_type": "code",
   "execution_count": null,
   "metadata": {},
   "outputs": [],
   "source": [
    "model = Sequential()\n",
    "model.add(Dense(13, input_shape=(4,), activation='relu', kernel_initializer='he_uniform', name='fc1')) # first hidden layer\n",
    "model.add(Dense(3, activation='softmax', name='output'))\n",
    "model.compile(optimizer='adamax', loss='categorical_crossentropy', metrics=['accuracy'])"
   ]
  },
  {
   "cell_type": "code",
   "execution_count": null,
   "metadata": {},
   "outputs": [],
   "source": [
    "print(model.summary())"
   ]
  },
  {
   "cell_type": "code",
   "execution_count": null,
   "metadata": {},
   "outputs": [],
   "source": [
    "# Train\n",
    "model.fit(\n",
    "    train_features\n",
    "    , train_labels\n",
    "    , validation_data = (test_features, test_labels)\n",
    "    , verbose = 0\n",
    "    , batch_size = 6\n",
    "    , epochs = 60\n",
    "    , callbacks=[History()]\n",
    ")"
   ]
  },
  {
   "cell_type": "code",
   "execution_count": null,
   "metadata": {},
   "outputs": [],
   "source": [
    "model.predict_classes(test_features)"
   ]
  },
  {
   "cell_type": "code",
   "execution_count": null,
   "metadata": {},
   "outputs": [],
   "source": [
    "np.argmax(model.predict(test_features), axis=-1)"
   ]
  },
  {
   "cell_type": "code",
   "execution_count": null,
   "metadata": {},
   "outputs": [],
   "source": [
    "np.argmax(test_labels, axis=-1)"
   ]
  },
  {
   "cell_type": "code",
   "execution_count": null,
   "metadata": {},
   "outputs": [],
   "source": [
    "with open('/trainHistoryDict', 'wb') as file_pi:\n",
    "    pickle.dump(history.history, file_pi)"
   ]
  },
  {
   "cell_type": "code",
   "execution_count": null,
   "metadata": {},
   "outputs": [],
   "source": [
    "type(model)"
   ]
  },
  {
   "cell_type": "code",
   "execution_count": null,
   "metadata": {},
   "outputs": [],
   "source": [
    "# Train\n",
    "dir(model)"
   ]
  },
  {
   "cell_type": "code",
   "execution_count": null,
   "metadata": {},
   "outputs": [],
   "source": [
    "plt.subplot(211)\n",
    "plt.title('Loss')\n",
    "plt.plot(history.history['loss'], label='train')\n",
    "plt.plot(history.history['val_loss'], label='test')\n",
    "plt.legend()\n",
    "\n",
    "plt.subplot(212)\n",
    "plt.title('Accuracy')\n",
    "plt.plot(history.history['accuracy'], label='train')\n",
    "plt.plot(history.history['val_accuracy'], label='test')\n",
    "plt.legend()\n",
    "\n",
    "plt.subplots_adjust(top=2, right=2)\n",
    "\n",
    "plt.show()"
   ]
  },
  {
   "cell_type": "markdown",
   "metadata": {},
   "source": [
    "---"
   ]
  },
  {
   "cell_type": "code",
   "execution_count": null,
   "metadata": {},
   "outputs": [],
   "source": [
    "d = {\"test\":[1,2,3,4,5]}"
   ]
  },
  {
   "cell_type": "code",
   "execution_count": null,
   "metadata": {},
   "outputs": [],
   "source": [
    "pip install plotly"
   ]
  },
  {
   "cell_type": "code",
   "execution_count": null,
   "metadata": {},
   "outputs": [],
   "source": []
  }
 ],
 "metadata": {
  "kernelspec": {
   "display_name": "Python 3",
   "language": "python",
   "name": "python3"
  },
  "language_info": {
   "codemirror_mode": {
    "name": "ipython",
    "version": 3
   },
   "file_extension": ".py",
   "mimetype": "text/x-python",
   "name": "python",
   "nbconvert_exporter": "python",
   "pygments_lexer": "ipython3",
   "version": "3.7.6"
  }
 },
 "nbformat": 4,
 "nbformat_minor": 4
}
