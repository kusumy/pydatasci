{
 "cells": [
  {
   "cell_type": "code",
   "execution_count": 1,
   "metadata": {},
   "outputs": [
    {
     "data": {
      "text/plain": [
       "'/Users/layne/Desktop/pydatasci'"
      ]
     },
     "execution_count": 1,
     "metadata": {},
     "output_type": "execute_result"
    }
   ],
   "source": [
    "import os\n",
    "os.chdir('/Users/layne/Desktop/pydatasci')\n",
    "os.getcwd()"
   ]
  },
  {
   "cell_type": "code",
   "execution_count": 2,
   "metadata": {},
   "outputs": [
    {
     "name": "stderr",
     "output_type": "stream",
     "text": [
      "/Users/layne/.pyenv/versions/3.7.6/envs/jupyterlab/lib/python3.7/site-packages/pandas/compat/__init__.py:120: UserWarning: Could not import the lzma module. Your installed Python is incomplete. Attempting to use lzma compression will result in a RuntimeError.\n",
      "  warnings.warn(msg)\n"
     ]
    }
   ],
   "source": [
    "import pydatasci as pds\n",
    "from pydatasci import aidb\n",
    "import os, sqlite3, io, gzip \n",
    "import pandas as pd\n",
    "import numpy as np\n",
    "import pyarrow\n",
    "from pyarrow import csv as pc\n",
    "\n",
    "from sklearn.preprocessing import OneHotEncoder, StandardScaler, LabelEncoder\n",
    "\n",
    "import keras\n",
    "from keras import metrics\n",
    "from keras.models import Sequential\n",
    "from keras.layers import Dense, Dropout\n",
    "from keras.layers.normalization import BatchNormalization\n",
    "from keras.constraints import maxnorm\n",
    "from keras.optimizers import Adam\n",
    "from keras.wrappers.scikit_learn import KerasClassifier\n",
    "\n",
    "import matplotlib.pyplot as plt"
   ]
  },
  {
   "cell_type": "code",
   "execution_count": 3,
   "metadata": {},
   "outputs": [
    {
     "name": "stdout",
     "output_type": "stream",
     "text": [
      "\n",
      "=> Success - deleted database file at path:\n",
      "/Users/layne/Library/Application Support/pydatasci/aidb.sqlite3\n",
      "\n",
      "\n",
      "=> Success - created database file for machine learning metrics at path:\n",
      "/Users/layne/Library/Application Support/pydatasci/aidb.sqlite3\n",
      "\n",
      "\n",
      "=> Success - created the following tables within database:\n",
      "['algorithm', 'dataset', 'featureset', 'fold', 'foldset', 'hypercombination', 'hyperparamset', 'job', 'label', 'preprocess', 'splitset']\n",
      "\n"
     ]
    }
   ],
   "source": [
    "from importlib import reload; aidb.delete_db(True); reload(aidb); aidb.create_db()"
   ]
  },
  {
   "cell_type": "markdown",
   "metadata": {},
   "source": [
    "---"
   ]
  },
  {
   "cell_type": "code",
   "execution_count": 4,
   "metadata": {},
   "outputs": [],
   "source": [
    "dataset = aidb.Dataset.from_file(\n",
    "\tpath = 'data/iris.tsv' \n",
    "\t,file_format = 'tsv'\n",
    "\t,name = 'tab-separated plants'\n",
    "\t,perform_gzip = True\n",
    "    ,dtype = 'float64'\n",
    ")"
   ]
  },
  {
   "cell_type": "code",
   "execution_count": 5,
   "metadata": {},
   "outputs": [],
   "source": [
    "label_name = 'target'"
   ]
  },
  {
   "cell_type": "code",
   "execution_count": 6,
   "metadata": {},
   "outputs": [],
   "source": [
    "label = dataset.make_label(columns=[label_name])"
   ]
  },
  {
   "cell_type": "code",
   "execution_count": 7,
   "metadata": {},
   "outputs": [],
   "source": [
    "label_id = label.id"
   ]
  },
  {
   "cell_type": "code",
   "execution_count": 8,
   "metadata": {},
   "outputs": [],
   "source": [
    "featureset = dataset.make_featureset(exclude_columns=[label_name])"
   ]
  },
  {
   "cell_type": "code",
   "execution_count": 9,
   "metadata": {},
   "outputs": [],
   "source": [
    "splitset_train75_test25 = featureset.make_splitset(label_id=label_id)"
   ]
  },
  {
   "cell_type": "code",
   "execution_count": 10,
   "metadata": {},
   "outputs": [],
   "source": [
    "splitset_train68_val12_test20 = featureset.make_splitset(\n",
    "\tlabel_id = label_id\n",
    "\t, size_test = 0.20\n",
    "\t, size_validation = 0.12\n",
    ")"
   ]
  },
  {
   "cell_type": "markdown",
   "metadata": {},
   "source": [
    "---"
   ]
  },
  {
   "cell_type": "markdown",
   "metadata": {},
   "source": [
    "ToDo - Does Pandas labels probably wants a series too, not a full dataframe? `.as_series()` method?"
   ]
  },
  {
   "cell_type": "markdown",
   "metadata": {},
   "source": [
    "ToDo - OHE'ing preprocessing."
   ]
  },
  {
   "cell_type": "markdown",
   "metadata": {},
   "source": [
    "ToDo - standardscaler preprocessing."
   ]
  },
  {
   "cell_type": "code",
   "execution_count": 11,
   "metadata": {},
   "outputs": [],
   "source": [
    "samples = splitset_train75_test25.to_numpy()"
   ]
  },
  {
   "cell_type": "code",
   "execution_count": 12,
   "metadata": {},
   "outputs": [],
   "source": [
    "train_features = samples[\"train\"][\"features\"]\n",
    "test_features = samples[\"test\"][\"features\"]"
   ]
  },
  {
   "cell_type": "code",
   "execution_count": 13,
   "metadata": {},
   "outputs": [],
   "source": [
    "train_labels = samples[\"train\"][\"labels\"]\n",
    "test_labels = samples[\"test\"][\"labels\"]"
   ]
  },
  {
   "cell_type": "code",
   "execution_count": 14,
   "metadata": {},
   "outputs": [],
   "source": [
    "encoder = OneHotEncoder(sparse=False)\n",
    "train_labels = encoder.fit_transform(train_labels)\n",
    "test_labels = encoder.fit_transform(test_labels)"
   ]
  },
  {
   "cell_type": "code",
   "execution_count": 15,
   "metadata": {},
   "outputs": [],
   "source": [
    "model = Sequential()\n",
    "model.add(Dense(13, input_shape=(4,), activation='relu', kernel_initializer='he_uniform', name='fc1')) # first hidden layer\n",
    "model.add(Dense(3, activation='softmax', name='output'))\n",
    "model.compile(optimizer='adamax', loss='categorical_crossentropy', metrics=['accuracy'])"
   ]
  },
  {
   "cell_type": "code",
   "execution_count": 16,
   "metadata": {},
   "outputs": [
    {
     "name": "stdout",
     "output_type": "stream",
     "text": [
      "Model: \"sequential\"\n",
      "_________________________________________________________________\n",
      "Layer (type)                 Output Shape              Param #   \n",
      "=================================================================\n",
      "fc1 (Dense)                  (None, 13)                65        \n",
      "_________________________________________________________________\n",
      "output (Dense)               (None, 3)                 42        \n",
      "=================================================================\n",
      "Total params: 107\n",
      "Trainable params: 107\n",
      "Non-trainable params: 0\n",
      "_________________________________________________________________\n",
      "None\n"
     ]
    }
   ],
   "source": [
    "print(model.summary())"
   ]
  },
  {
   "cell_type": "code",
   "execution_count": 17,
   "metadata": {},
   "outputs": [],
   "source": [
    "# Train\n",
    "history = model.fit(\n",
    "    train_features\n",
    "    , train_labels\n",
    "    , validation_data = (test_features, test_labels)\n",
    "    , verbose = 0\n",
    "    , batch_size = 6\n",
    "    , epochs = 60\n",
    ")"
   ]
  },
  {
   "cell_type": "code",
   "execution_count": 18,
   "metadata": {},
   "outputs": [
    {
     "data": {
      "image/png": "[encoded data removed]",
      "text/plain": [
       "<Figure size 432x288 with 2 Axes>"
      ]
     },
     "metadata": {
      "needs_background": "light"
     },
     "output_type": "display_data"
    }
   ],
   "source": [
    "plt.subplot(211)\n",
    "plt.title('Loss')\n",
    "plt.plot(history.history['loss'], label='train')\n",
    "plt.plot(history.history['val_loss'], label='test')\n",
    "plt.legend()\n",
    "\n",
    "plt.subplot(212)\n",
    "plt.title('Accuracy')\n",
    "plt.plot(history.history['accuracy'], label='train')\n",
    "plt.plot(history.history['val_accuracy'], label='test')\n",
    "plt.legend()\n",
    "\n",
    "plt.subplots_adjust(top=2, right=2)\n",
    "\n",
    "plt.show()"
   ]
  },
  {
   "cell_type": "markdown",
   "metadata": {},
   "source": [
    "---"
   ]
  },
  {
   "cell_type": "code",
   "execution_count": 11,
   "metadata": {},
   "outputs": [],
   "source": [
    "samples = splitset_train68_val12_test20.to_numpy()"
   ]
  },
  {
   "cell_type": "code",
   "execution_count": 12,
   "metadata": {},
   "outputs": [],
   "source": [
    "train_features = samples[\"train\"][\"features\"]\n",
    "validation_features = samples[\"validation\"][\"features\"]\n",
    "test_features = samples[\"test\"][\"features\"]"
   ]
  },
  {
   "cell_type": "code",
   "execution_count": 13,
   "metadata": {},
   "outputs": [],
   "source": [
    "train_labels = samples[\"train\"][\"labels\"]\n",
    "validation_labels = samples[\"validation\"][\"labels\"]\n",
    "test_labels = samples[\"test\"][\"labels\"]"
   ]
  },
  {
   "cell_type": "markdown",
   "metadata": {},
   "source": [
    "https://scikit-learn.org/stable/modules/classes.html#module-sklearn.preprocessing"
   ]
  },
  {
   "cell_type": "markdown",
   "metadata": {},
   "source": [
    "### Preprocess"
   ]
  },
  {
   "cell_type": "markdown",
   "metadata": {},
   "source": [
    "How it works normally."
   ]
  },
  {
   "cell_type": "code",
   "execution_count": 14,
   "metadata": {},
   "outputs": [],
   "source": [
    "preprocess_features_kwargs = {\"sparse\": False}"
   ]
  },
  {
   "cell_type": "markdown",
   "metadata": {},
   "source": [
    "^ Alternatively, pass in a dictionary of values for that keyword."
   ]
  },
  {
   "cell_type": "code",
   "execution_count": 15,
   "metadata": {},
   "outputs": [],
   "source": [
    "encoder = OneHotEncoder()"
   ]
  },
  {
   "cell_type": "markdown",
   "metadata": {},
   "source": [
    "^ Or just pass the params directly into the encoder function if you don't want to hypertune on them."
   ]
  },
  {
   "cell_type": "code",
   "execution_count": 16,
   "metadata": {},
   "outputs": [],
   "source": [
    "encoder_labels = encoder.set_params(**encode_features_kwargs)"
   ]
  },
  {
   "cell_type": "code",
   "execution_count": 17,
   "metadata": {},
   "outputs": [],
   "source": [
    "encoder_labels_trained = encoder_labels.fit(train_labels)"
   ]
  },
  {
   "cell_type": "code",
   "execution_count": 18,
   "metadata": {},
   "outputs": [],
   "source": [
    "train_labels = encoder_labels_trained.transform(train_labels)\n",
    "validation_labels = encoder_labels_trained.transform(validation_labels)\n",
    "test_labels = encoder_labels_trained.transform(test_labels)"
   ]
  },
  {
   "cell_type": "code",
   "execution_count": 38,
   "metadata": {},
   "outputs": [
    {
     "data": {
      "text/plain": [
       "['__class__',\n",
       " '__delattr__',\n",
       " '__dict__',\n",
       " '__dir__',\n",
       " '__doc__',\n",
       " '__eq__',\n",
       " '__format__',\n",
       " '__ge__',\n",
       " '__getattribute__',\n",
       " '__getstate__',\n",
       " '__gt__',\n",
       " '__hash__',\n",
       " '__init__',\n",
       " '__init_subclass__',\n",
       " '__le__',\n",
       " '__lt__',\n",
       " '__module__',\n",
       " '__ne__',\n",
       " '__new__',\n",
       " '__reduce__',\n",
       " '__reduce_ex__',\n",
       " '__repr__',\n",
       " '__setattr__',\n",
       " '__setstate__',\n",
       " '__sizeof__',\n",
       " '__str__',\n",
       " '__subclasshook__',\n",
       " '__weakref__',\n",
       " '_check_X',\n",
       " '_check_n_features',\n",
       " '_compute_drop_idx',\n",
       " '_fit',\n",
       " '_get_feature',\n",
       " '_get_param_names',\n",
       " '_get_tags',\n",
       " '_more_tags',\n",
       " '_repr_html_',\n",
       " '_repr_html_inner',\n",
       " '_repr_mimebundle_',\n",
       " '_transform',\n",
       " '_validate_data',\n",
       " '_validate_keywords',\n",
       " 'categories',\n",
       " 'categories_',\n",
       " 'drop',\n",
       " 'drop_idx_',\n",
       " 'dtype',\n",
       " 'fit',\n",
       " 'fit_transform',\n",
       " 'get_feature_names',\n",
       " 'get_params',\n",
       " 'handle_unknown',\n",
       " 'inverse_transform',\n",
       " 'set_params',\n",
       " 'sparse',\n",
       " 'transform']"
      ]
     },
     "execution_count": 38,
     "metadata": {},
     "output_type": "execute_result"
    }
   ],
   "source": [
    "dir(encoder)"
   ]
  },
  {
   "cell_type": "markdown",
   "metadata": {},
   "source": [
    "Create the preprocess object."
   ]
  },
  {
   "cell_type": "code",
   "execution_count": 19,
   "metadata": {},
   "outputs": [
    {
     "data": {
      "text/plain": [
       "<Preprocess: 1>"
      ]
     },
     "execution_count": 19,
     "metadata": {},
     "output_type": "execute_result"
    }
   ],
   "source": [
    "preprocess = aidb.Preprocess.create(\n",
    "    encode_labels_function = encoder\n",
    ")"
   ]
  },
  {
   "cell_type": "code",
   "execution_count": 24,
   "metadata": {},
   "outputs": [],
   "source": [
    "feature_encoder = preprocess.preprocess_labels_function.set_params(**preprocess_features_kwargs)"
   ]
  },
  {
   "cell_type": "code",
   "execution_count": 25,
   "metadata": {},
   "outputs": [],
   "source": [
    "encoder_labels_trained = feature_encoder.fit(train_labels)"
   ]
  },
  {
   "cell_type": "code",
   "execution_count": 26,
   "metadata": {},
   "outputs": [],
   "source": [
    "train_labels = encoder_labels_trained.transform(train_labels)\n",
    "validation_labels = encoder_labels_trained.transform(validation_labels)\n",
    "test_labels = encoder_labels_trained.transform(test_labels)"
   ]
  },
  {
   "cell_type": "markdown",
   "metadata": {},
   "source": [
    "^^^ Now do the same, but with kwargs stored in the hyperparamset attribute."
   ]
  },
  {
   "cell_type": "markdown",
   "metadata": {},
   "source": [
    "### Algorithm"
   ]
  },
  {
   "cell_type": "code",
   "execution_count": 52,
   "metadata": {},
   "outputs": [],
   "source": [
    "build_model_kwargs = {\n",
    "    \"l1_neuron_count\": 9\n",
    "    , \"l2_neuron_count\": 9\n",
    "    , \"optimizer\": \"adamax\"\n",
    "}"
   ]
  },
  {
   "cell_type": "code",
   "execution_count": 53,
   "metadata": {},
   "outputs": [],
   "source": [
    "def build_model_function(**build_model_kwargs):\n",
    "    model = Sequential()\n",
    "    model.add(Dense(l1_neuron_count, input_shape=(4,), activation='relu', kernel_initializer='he_uniform', name='fc1')) # first hidden layer\n",
    "    model.add(Dense(l2_neuron_count, activation='relu', kernel_initializer='he_uniform', name='fc2'))\n",
    "    model.add(Dense(3, activation='softmax', name='output'))\n",
    "\n",
    "    model.compile(optimizer=optimizer, loss='categorical_crossentropy', metrics=['accuracy'])\n",
    "    \n",
    "    return model"
   ]
  },
  {
   "cell_type": "code",
   "execution_count": 25,
   "metadata": {},
   "outputs": [],
   "source": [
    "model = build_model_function(**build_model_kwargs)"
   ]
  },
  {
   "cell_type": "code",
   "execution_count": 26,
   "metadata": {},
   "outputs": [],
   "source": [
    "# model = Sequential()\n",
    "# model.add(Dense(9, input_shape=(4,), activation='relu', kernel_initializer='he_uniform', name='fc1')) # first hidden layer\n",
    "# model.add(Dense(9, activation='relu', kernel_initializer='he_uniform', name='fc2'))\n",
    "# model.add(Dense(3, activation='softmax', name='output'))\n",
    "# model.compile(optimizer='adamax', loss='categorical_crossentropy', metrics=['accuracy'])"
   ]
  },
  {
   "cell_type": "code",
   "execution_count": 27,
   "metadata": {},
   "outputs": [
    {
     "name": "stdout",
     "output_type": "stream",
     "text": [
      "Model: \"sequential_1\"\n",
      "_________________________________________________________________\n",
      "Layer (type)                 Output Shape              Param #   \n",
      "=================================================================\n",
      "fc1 (Dense)                  (None, 9)                 45        \n",
      "_________________________________________________________________\n",
      "fc2 (Dense)                  (None, 9)                 90        \n",
      "_________________________________________________________________\n",
      "output (Dense)               (None, 3)                 30        \n",
      "=================================================================\n",
      "Total params: 165\n",
      "Trainable params: 165\n",
      "Non-trainable params: 0\n",
      "_________________________________________________________________\n",
      "None\n"
     ]
    }
   ],
   "source": [
    "print(model.summary())"
   ]
  },
  {
   "cell_type": "code",
   "execution_count": 49,
   "metadata": {},
   "outputs": [],
   "source": [
    "train_model_kwargs = {\n",
    "    \"epochs\": 60\n",
    "    , \"batch_size\": 3\n",
    "}"
   ]
  },
  {
   "cell_type": "code",
   "execution_count": 54,
   "metadata": {},
   "outputs": [],
   "source": [
    "train_model_data = {\n",
    "    \"train\":{\n",
    "        \"features\": train_features\n",
    "        ,\"labels\": train_labels\n",
    "    },\n",
    "    \"eval\":{\n",
    "        \"features\": test_features\n",
    "        ,\"labels\": test_labels\n",
    "    }\n",
    "}"
   ]
  },
  {
   "cell_type": "code",
   "execution_count": 55,
   "metadata": {},
   "outputs": [],
   "source": [
    "def train_model_function(train_model_data, **train_model_kwargs):\n",
    "    history = model.fit(\n",
    "        train_model_data[\"train\"][\"features\"]\n",
    "        , train_model_data[\"train\"][\"labels\"]\n",
    "        , validation_data = (\n",
    "            train_model_data[\"eval\"][\"features\"],\n",
    "            train_model_data[\"eval\"][\"labels\"]\n",
    "        )\n",
    "        , verbose = 1\n",
    "        , batch_size = batch_size\n",
    "        , epochs = epochs\n",
    "    )\n",
    "    \n",
    "    return history"
   ]
  },
  {
   "cell_type": "code",
   "execution_count": 52,
   "metadata": {
    "collapsed": true,
    "jupyter": {
     "outputs_hidden": true
    }
   },
   "outputs": [
    {
     "name": "stdout",
     "output_type": "stream",
     "text": [
      "Epoch 1/60\n",
      "34/34 [==============================] - 0s 2ms/step - loss: 0.2680 - accuracy: 0.9412 - val_loss: 0.3489 - val_accuracy: 0.8667\n",
      "Epoch 2/60\n",
      "34/34 [==============================] - 0s 2ms/step - loss: 0.2672 - accuracy: 0.9412 - val_loss: 0.3443 - val_accuracy: 0.8667\n",
      "Epoch 3/60\n",
      "34/34 [==============================] - 0s 2ms/step - loss: 0.2636 - accuracy: 0.9510 - val_loss: 0.3456 - val_accuracy: 0.8667\n",
      "Epoch 4/60\n",
      "34/34 [==============================] - 0s 2ms/step - loss: 0.2616 - accuracy: 0.9412 - val_loss: 0.3416 - val_accuracy: 0.8667\n",
      "Epoch 5/60\n",
      "34/34 [==============================] - 0s 2ms/step - loss: 0.2597 - accuracy: 0.9412 - val_loss: 0.3415 - val_accuracy: 0.8667\n",
      "Epoch 6/60\n",
      "34/34 [==============================] - 0s 2ms/step - loss: 0.2586 - accuracy: 0.9314 - val_loss: 0.3388 - val_accuracy: 0.8667\n",
      "Epoch 7/60\n",
      "34/34 [==============================] - 0s 2ms/step - loss: 0.2552 - accuracy: 0.9412 - val_loss: 0.3371 - val_accuracy: 0.8667\n",
      "Epoch 8/60\n",
      "34/34 [==============================] - 0s 2ms/step - loss: 0.2540 - accuracy: 0.9314 - val_loss: 0.3351 - val_accuracy: 0.8667\n",
      "Epoch 9/60\n",
      "34/34 [==============================] - 0s 2ms/step - loss: 0.2505 - accuracy: 0.9412 - val_loss: 0.3365 - val_accuracy: 0.8667\n",
      "Epoch 10/60\n",
      "34/34 [==============================] - 0s 2ms/step - loss: 0.2497 - accuracy: 0.9412 - val_loss: 0.3351 - val_accuracy: 0.8667\n",
      "Epoch 11/60\n",
      "34/34 [==============================] - 0s 2ms/step - loss: 0.2480 - accuracy: 0.9412 - val_loss: 0.3340 - val_accuracy: 0.8667\n",
      "Epoch 12/60\n",
      "34/34 [==============================] - 0s 2ms/step - loss: 0.2474 - accuracy: 0.9412 - val_loss: 0.3348 - val_accuracy: 0.8667\n",
      "Epoch 13/60\n",
      "34/34 [==============================] - 0s 2ms/step - loss: 0.2478 - accuracy: 0.9510 - val_loss: 0.3276 - val_accuracy: 0.8667\n",
      "Epoch 14/60\n",
      "34/34 [==============================] - 0s 2ms/step - loss: 0.2423 - accuracy: 0.9510 - val_loss: 0.3312 - val_accuracy: 0.8667\n",
      "Epoch 15/60\n",
      "34/34 [==============================] - 0s 2ms/step - loss: 0.2414 - accuracy: 0.9412 - val_loss: 0.3267 - val_accuracy: 0.8667\n",
      "Epoch 16/60\n",
      "34/34 [==============================] - 0s 2ms/step - loss: 0.2386 - accuracy: 0.9510 - val_loss: 0.3237 - val_accuracy: 0.8667\n",
      "Epoch 17/60\n",
      "34/34 [==============================] - 0s 2ms/step - loss: 0.2389 - accuracy: 0.9314 - val_loss: 0.3250 - val_accuracy: 0.8667\n",
      "Epoch 18/60\n",
      "34/34 [==============================] - 0s 2ms/step - loss: 0.2354 - accuracy: 0.9510 - val_loss: 0.3222 - val_accuracy: 0.8667\n",
      "Epoch 19/60\n",
      "34/34 [==============================] - 0s 2ms/step - loss: 0.2357 - accuracy: 0.9412 - val_loss: 0.3235 - val_accuracy: 0.8667\n",
      "Epoch 20/60\n",
      "34/34 [==============================] - 0s 2ms/step - loss: 0.2343 - accuracy: 0.9412 - val_loss: 0.3184 - val_accuracy: 0.8667\n",
      "Epoch 21/60\n",
      "34/34 [==============================] - 0s 2ms/step - loss: 0.2324 - accuracy: 0.9412 - val_loss: 0.3182 - val_accuracy: 0.8667\n",
      "Epoch 22/60\n",
      "34/34 [==============================] - 0s 2ms/step - loss: 0.2293 - accuracy: 0.9510 - val_loss: 0.3187 - val_accuracy: 0.8667\n",
      "Epoch 23/60\n",
      "34/34 [==============================] - 0s 2ms/step - loss: 0.2286 - accuracy: 0.9412 - val_loss: 0.3167 - val_accuracy: 0.8667\n",
      "Epoch 24/60\n",
      "34/34 [==============================] - 0s 2ms/step - loss: 0.2268 - accuracy: 0.9412 - val_loss: 0.3160 - val_accuracy: 0.8667\n",
      "Epoch 25/60\n",
      "34/34 [==============================] - 0s 2ms/step - loss: 0.2254 - accuracy: 0.9510 - val_loss: 0.3146 - val_accuracy: 0.8667\n",
      "Epoch 26/60\n",
      "34/34 [==============================] - 0s 2ms/step - loss: 0.2262 - accuracy: 0.9412 - val_loss: 0.3169 - val_accuracy: 0.8667\n",
      "Epoch 27/60\n",
      "34/34 [==============================] - 0s 2ms/step - loss: 0.2229 - accuracy: 0.9412 - val_loss: 0.3101 - val_accuracy: 0.8667\n",
      "Epoch 28/60\n",
      "34/34 [==============================] - 0s 2ms/step - loss: 0.2205 - accuracy: 0.9412 - val_loss: 0.3107 - val_accuracy: 0.8667\n",
      "Epoch 29/60\n",
      "34/34 [==============================] - 0s 2ms/step - loss: 0.2210 - accuracy: 0.9412 - val_loss: 0.3092 - val_accuracy: 0.8667\n",
      "Epoch 30/60\n",
      "34/34 [==============================] - 0s 2ms/step - loss: 0.2181 - accuracy: 0.9412 - val_loss: 0.3122 - val_accuracy: 0.8667\n",
      "Epoch 31/60\n",
      "34/34 [==============================] - 0s 2ms/step - loss: 0.2223 - accuracy: 0.9412 - val_loss: 0.3114 - val_accuracy: 0.8667\n",
      "Epoch 32/60\n",
      "34/34 [==============================] - 0s 2ms/step - loss: 0.2162 - accuracy: 0.9412 - val_loss: 0.3077 - val_accuracy: 0.8667\n",
      "Epoch 33/60\n",
      "34/34 [==============================] - 0s 2ms/step - loss: 0.2150 - accuracy: 0.9412 - val_loss: 0.3055 - val_accuracy: 0.8667\n",
      "Epoch 34/60\n",
      "34/34 [==============================] - 0s 2ms/step - loss: 0.2142 - accuracy: 0.9412 - val_loss: 0.3063 - val_accuracy: 0.8667\n",
      "Epoch 35/60\n",
      "34/34 [==============================] - 0s 2ms/step - loss: 0.2117 - accuracy: 0.9510 - val_loss: 0.3039 - val_accuracy: 0.8667\n",
      "Epoch 36/60\n",
      "34/34 [==============================] - 0s 2ms/step - loss: 0.2131 - accuracy: 0.9412 - val_loss: 0.3019 - val_accuracy: 0.8667\n",
      "Epoch 37/60\n",
      "34/34 [==============================] - 0s 2ms/step - loss: 0.2099 - accuracy: 0.9412 - val_loss: 0.3034 - val_accuracy: 0.8667\n",
      "Epoch 38/60\n",
      "34/34 [==============================] - 0s 2ms/step - loss: 0.2085 - accuracy: 0.9510 - val_loss: 0.3015 - val_accuracy: 0.8667\n",
      "Epoch 39/60\n",
      "34/34 [==============================] - 0s 2ms/step - loss: 0.2092 - accuracy: 0.9412 - val_loss: 0.2974 - val_accuracy: 0.8667\n",
      "Epoch 40/60\n",
      "34/34 [==============================] - 0s 2ms/step - loss: 0.2061 - accuracy: 0.9412 - val_loss: 0.3020 - val_accuracy: 0.8667\n",
      "Epoch 41/60\n",
      "34/34 [==============================] - 0s 2ms/step - loss: 0.2053 - accuracy: 0.9412 - val_loss: 0.2966 - val_accuracy: 0.8667\n",
      "Epoch 42/60\n",
      "34/34 [==============================] - 0s 2ms/step - loss: 0.2035 - accuracy: 0.9510 - val_loss: 0.3001 - val_accuracy: 0.8667\n",
      "Epoch 43/60\n",
      "34/34 [==============================] - 0s 2ms/step - loss: 0.2041 - accuracy: 0.9412 - val_loss: 0.2947 - val_accuracy: 0.8667\n",
      "Epoch 44/60\n",
      "34/34 [==============================] - 0s 2ms/step - loss: 0.2015 - accuracy: 0.9510 - val_loss: 0.2971 - val_accuracy: 0.8667\n",
      "Epoch 45/60\n",
      "34/34 [==============================] - 0s 2ms/step - loss: 0.2016 - accuracy: 0.9412 - val_loss: 0.2934 - val_accuracy: 0.8667\n",
      "Epoch 46/60\n",
      "34/34 [==============================] - 0s 2ms/step - loss: 0.2000 - accuracy: 0.9510 - val_loss: 0.2977 - val_accuracy: 0.8667\n",
      "Epoch 47/60\n",
      "34/34 [==============================] - 0s 2ms/step - loss: 0.1991 - accuracy: 0.9510 - val_loss: 0.2959 - val_accuracy: 0.8667\n",
      "Epoch 48/60\n",
      "34/34 [==============================] - 0s 2ms/step - loss: 0.1980 - accuracy: 0.9412 - val_loss: 0.2907 - val_accuracy: 0.8667\n",
      "Epoch 49/60\n",
      "34/34 [==============================] - 0s 2ms/step - loss: 0.1966 - accuracy: 0.9412 - val_loss: 0.2900 - val_accuracy: 0.8667\n",
      "Epoch 50/60\n",
      "34/34 [==============================] - 0s 2ms/step - loss: 0.1951 - accuracy: 0.9412 - val_loss: 0.2915 - val_accuracy: 0.8667\n",
      "Epoch 51/60\n",
      "34/34 [==============================] - 0s 2ms/step - loss: 0.1939 - accuracy: 0.9412 - val_loss: 0.2895 - val_accuracy: 0.8667\n",
      "Epoch 52/60\n",
      "34/34 [==============================] - 0s 2ms/step - loss: 0.1926 - accuracy: 0.9412 - val_loss: 0.2874 - val_accuracy: 0.8667\n",
      "Epoch 53/60\n",
      "34/34 [==============================] - 0s 2ms/step - loss: 0.1926 - accuracy: 0.9412 - val_loss: 0.2907 - val_accuracy: 0.8667\n",
      "Epoch 54/60\n",
      "34/34 [==============================] - 0s 2ms/step - loss: 0.1907 - accuracy: 0.9412 - val_loss: 0.2900 - val_accuracy: 0.8667\n",
      "Epoch 55/60\n",
      "34/34 [==============================] - 0s 2ms/step - loss: 0.1909 - accuracy: 0.9510 - val_loss: 0.2863 - val_accuracy: 0.8667\n",
      "Epoch 56/60\n",
      "34/34 [==============================] - 0s 2ms/step - loss: 0.1887 - accuracy: 0.9412 - val_loss: 0.2883 - val_accuracy: 0.8667\n",
      "Epoch 57/60\n",
      "34/34 [==============================] - 0s 2ms/step - loss: 0.1880 - accuracy: 0.9412 - val_loss: 0.2855 - val_accuracy: 0.8667\n",
      "Epoch 58/60\n",
      "34/34 [==============================] - 0s 2ms/step - loss: 0.1875 - accuracy: 0.9510 - val_loss: 0.2877 - val_accuracy: 0.8667\n",
      "Epoch 59/60\n",
      "34/34 [==============================] - 0s 2ms/step - loss: 0.1880 - accuracy: 0.9412 - val_loss: 0.2831 - val_accuracy: 0.8667\n",
      "Epoch 60/60\n",
      "34/34 [==============================] - 0s 2ms/step - loss: 0.1851 - accuracy: 0.9412 - val_loss: 0.2840 - val_accuracy: 0.8667\n"
     ]
    }
   ],
   "source": [
    "history = train_model_function(train_model_data, **train_model_kwargs)"
   ]
  },
  {
   "cell_type": "code",
   "execution_count": 53,
   "metadata": {},
   "outputs": [
    {
     "data": {
      "image/png": "[encoded data removed]",
      "text/plain": [
       "<Figure size 432x288 with 2 Axes>"
      ]
     },
     "metadata": {
      "needs_background": "light"
     },
     "output_type": "display_data"
    }
   ],
   "source": [
    "plt.subplot(211)\n",
    "plt.title('Loss')\n",
    "plt.plot(history.history['loss'], label='train')\n",
    "plt.plot(history.history['val_loss'], label='test')\n",
    "plt.legend()\n",
    "\n",
    "plt.subplot(212)\n",
    "plt.title('Accuracy')\n",
    "plt.plot(history.history['accuracy'], label='train')\n",
    "plt.plot(history.history['val_accuracy'], label='test')\n",
    "plt.legend()\n",
    "\n",
    "plt.subplots_adjust(top=2, right=2)\n",
    "\n",
    "plt.show()"
   ]
  },
  {
   "cell_type": "markdown",
   "metadata": {},
   "source": [
    "---"
   ]
  },
  {
   "cell_type": "code",
   "execution_count": 15,
   "metadata": {},
   "outputs": [],
   "source": [
    "def evaluate_model_function():\n",
    "    results = model.evaluate(features, labels, verbose=0)\n",
    "    print(\"Loss = \" + str(results[0]) + \" // Accuracy = \" + str(results[1]) )"
   ]
  },
  {
   "cell_type": "code",
   "execution_count": 37,
   "metadata": {},
   "outputs": [],
   "source": [
    "alg = aidb.Algorithm.create(\n",
    "    name = \"keras dense iris\"\n",
    "\t, build_model_function = build_model_function\n",
    "\t, train_model_function = train_model_function\n",
    "\t, evaluate_model_function = evaluate_model_function\n",
    ")"
   ]
  },
  {
   "cell_type": "code",
   "execution_count": 38,
   "metadata": {},
   "outputs": [
    {
     "data": {
      "text/plain": [
       "<function __main__.build_model_function(build_model_params)>"
      ]
     },
     "execution_count": 38,
     "metadata": {},
     "output_type": "execute_result"
    }
   ],
   "source": [
    "alg.build_model_function"
   ]
  },
  {
   "cell_type": "code",
   "execution_count": 39,
   "metadata": {},
   "outputs": [
    {
     "data": {
      "text/plain": [
       "<tensorflow.python.keras.engine.sequential.Sequential at 0x148163750>"
      ]
     },
     "execution_count": 39,
     "metadata": {},
     "output_type": "execute_result"
    }
   ],
   "source": [
    "alg.build_model_function(**build_model_kwargs)"
   ]
  },
  {
   "cell_type": "code",
   "execution_count": 40,
   "metadata": {},
   "outputs": [],
   "source": [
    "mod = alg.build_model_function(**build_model_kwargs)"
   ]
  },
  {
   "cell_type": "code",
   "execution_count": 43,
   "metadata": {},
   "outputs": [
    {
     "ename": "NameError",
     "evalue": "name 'train_features' is not defined",
     "output_type": "error",
     "traceback": [
      "\u001b[0;31m---------------------------------------------------------------------------\u001b[0m",
      "\u001b[0;31mNameError\u001b[0m                                 Traceback (most recent call last)",
      "\u001b[0;32m<ipython-input-43-22596512a3c9>\u001b[0m in \u001b[0;36m<module>\u001b[0;34m\u001b[0m\n\u001b[0;32m----> 1\u001b[0;31m \u001b[0mhistory\u001b[0m \u001b[0;34m=\u001b[0m \u001b[0malg\u001b[0m\u001b[0;34m.\u001b[0m\u001b[0mtrain_model_function\u001b[0m\u001b[0;34m(\u001b[0m\u001b[0mtrain_model_params\u001b[0m\u001b[0;34m,\u001b[0m \u001b[0msplitset_train75_test25\u001b[0m\u001b[0;34m,\u001b[0m \u001b[0mfoldset\u001b[0m\u001b[0;34m=\u001b[0m\u001b[0;32mNone\u001b[0m\u001b[0;34m)\u001b[0m\u001b[0;34m\u001b[0m\u001b[0;34m\u001b[0m\u001b[0m\n\u001b[0m",
      "\u001b[0;32m<ipython-input-35-4948a30bcf63>\u001b[0m in \u001b[0;36mtrain_model_function\u001b[0;34m(train_model_params, splitset, foldset)\u001b[0m\n\u001b[1;32m      1\u001b[0m \u001b[0;32mdef\u001b[0m \u001b[0mtrain_model_function\u001b[0m\u001b[0;34m(\u001b[0m\u001b[0mtrain_model_params\u001b[0m\u001b[0;34m,\u001b[0m \u001b[0msplitset\u001b[0m\u001b[0;34m,\u001b[0m \u001b[0mfoldset\u001b[0m\u001b[0;34m=\u001b[0m\u001b[0;32mNone\u001b[0m\u001b[0;34m)\u001b[0m\u001b[0;34m:\u001b[0m\u001b[0;34m\u001b[0m\u001b[0;34m\u001b[0m\u001b[0m\n\u001b[1;32m      2\u001b[0m     history = model.fit(\n\u001b[0;32m----> 3\u001b[0;31m         \u001b[0mtrain_features\u001b[0m\u001b[0;34m\u001b[0m\u001b[0;34m\u001b[0m\u001b[0m\n\u001b[0m\u001b[1;32m      4\u001b[0m         \u001b[0;34m,\u001b[0m \u001b[0mtrain_labels\u001b[0m\u001b[0;34m\u001b[0m\u001b[0;34m\u001b[0m\u001b[0m\n\u001b[1;32m      5\u001b[0m         \u001b[0;34m,\u001b[0m \u001b[0mvalidation_data\u001b[0m \u001b[0;34m=\u001b[0m \u001b[0;34m(\u001b[0m\u001b[0mfeatures\u001b[0m\u001b[0;34m,\u001b[0m \u001b[0mlabels\u001b[0m\u001b[0;34m)\u001b[0m\u001b[0;34m\u001b[0m\u001b[0;34m\u001b[0m\u001b[0m\n",
      "\u001b[0;31mNameError\u001b[0m: name 'train_features' is not defined"
     ]
    }
   ],
   "source": [
    "history = alg.train_model_function(**train_model_kwargs)"
   ]
  },
  {
   "cell_type": "markdown",
   "metadata": {},
   "source": [
    "### Jobs"
   ]
  },
  {
   "cell_type": "code",
   "execution_count": null,
   "metadata": {},
   "outputs": [],
   "source": []
  }
 ],
 "metadata": {
  "kernelspec": {
   "display_name": "Python 3",
   "language": "python",
   "name": "python3"
  },
  "language_info": {
   "codemirror_mode": {
    "name": "ipython",
    "version": 3
   },
   "file_extension": ".py",
   "mimetype": "text/x-python",
   "name": "python",
   "nbconvert_exporter": "python",
   "pygments_lexer": "ipython3",
   "version": "3.7.6"
  }
 },
 "nbformat": 4,
 "nbformat_minor": 4
}
